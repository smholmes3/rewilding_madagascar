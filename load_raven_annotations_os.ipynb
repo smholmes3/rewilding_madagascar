{
 "cells": [
  {
   "cell_type": "code",
   "execution_count": null,
   "metadata": {},
   "outputs": [],
   "source": [
    "# OpenSoundscape imports\n",
    "from opensoundscape import Audio, Spectrogram\n",
    "from opensoundscape.annotations import BoxedAnnotations\n",
    "\n",
    "# General-purpose packages\n",
    "import numpy as np\n",
    "import pandas as pd\n",
    "from glob import glob\n",
    "from pathlib import Path\n",
    "\n",
    "from matplotlib import pyplot as plt\n",
    "plt.rcParams['figure.figsize']=[15,5] #for big visuals\n",
    "%config InlineBackend.figure_format = 'retina'"
   ]
  },
  {
   "cell_type": "code",
   "execution_count": null,
   "metadata": {},
   "outputs": [],
   "source": [
    "# Specify an audio file and corresponding raven annotation file\n",
    "audio_file = './annotated_data/mp3_Files/Recording_2/Recording_2_Segment_01.mp3'\n",
    "annotation_file = './annotated_data/annotation_Files/Recording_2/Recording_2_Segment_01.Table.1.selections.txt'"
   ]
  },
  {
   "cell_type": "code",
   "execution_count": null,
   "metadata": {},
   "outputs": [],
   "source": [
    "Spectrogram.from_audio(Audio.from_file(audio_file)).plot()"
   ]
  }
 ],
 "metadata": {
  "kernelspec": {
   "display_name": "rewild_cv4e",
   "language": "python",
   "name": "python3"
  },
  "language_info": {
   "name": "python",
   "version": "3.11.0"
  }
 },
 "nbformat": 4,
 "nbformat_minor": 2
}
