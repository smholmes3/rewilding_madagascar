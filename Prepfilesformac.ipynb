{
 "cells": [
  {
   "cell_type": "code",
   "execution_count": null,
   "id": "c1be2c65",
   "metadata": {},
   "outputs": [],
   "source": [
    "import pandas as pd\n",
    "\n",
    "# Load CSV\n",
    "df = pd.read_csv(\"allfiles_for_predicting.csv\")\n",
    "\n",
    "# Replace the prefix\n",
    "df[\"file\"] = df[\"file\"].str.replace(\n",
    "    \"/mnt/d/\", \n",
    "    \"/Volumes/Expansion/\", \n",
    "    regex=False\n",
    ")\n",
    "\n",
    "# Save back to CSV\n",
    "df.to_csv(\"allfiles_for_predicting_mac.csv\", index=False)"
   ]
  }
 ],
 "metadata": {
  "kernelspec": {
   "display_name": "rewilding_tensorflow_mac",
   "language": "python",
   "name": "python3"
  },
  "language_info": {
   "name": "python",
   "version": "3.10.0"
  }
 },
 "nbformat": 4,
 "nbformat_minor": 5
}
