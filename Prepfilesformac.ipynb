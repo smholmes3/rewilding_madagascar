{
 "cells": [
  {
   "cell_type": "code",
   "execution_count": null,
   "id": "c1be2c65",
   "metadata": {},
   "outputs": [],
   "source": [
    "import pandas as pd\n",
    "\n",
    "# Load CSV\n",
    "df = pd.read_csv(\"data/allfiles_for_predicting.csv\")\n",
    "\n",
    "# Replace the prefix\n",
    "df[\"file\"] = df[\"file\"].str.replace(\n",
    "    \"/mnt/d/\", \n",
    "    \"/Volumes/Expansion/\", \n",
    "    regex=False\n",
    ")\n",
    "\n",
    "# Save back to CSV\n",
    "df.to_csv(\"data/allfiles_for_predicting_mac.csv\", index=False)"
   ]
  },
  {
   "cell_type": "code",
   "execution_count": 4,
   "id": "edb221e7",
   "metadata": {},
   "outputs": [],
   "source": [
    "# Load CSV\n",
    "df = pd.read_csv(\"data/test_labels_5s_local.csv\")\n",
    "\n",
    "# Replace the prefix\n",
    "df[\"file\"] = df[\"file\"].str.replace(\n",
    "    \"/mnt/d/\", \n",
    "    \"/Volumes/Expansion/\", \n",
    "    regex=False\n",
    ")\n",
    "\n",
    "# Save back to CSV\n",
    "df.to_csv(\"data/test_labels_5s_mac.csv\", index=False)"
   ]
  },
  {
   "cell_type": "code",
   "execution_count": 5,
   "id": "9e67fd3f",
   "metadata": {},
   "outputs": [],
   "source": [
    "# Load CSV\n",
    "df = pd.read_csv(\"data/train_labels_5s_local.csv\")\n",
    "\n",
    "# Replace the prefix\n",
    "df[\"file\"] = df[\"file\"].str.replace(\n",
    "    \"/mnt/d/\", \n",
    "    \"/Volumes/Expansion/\", \n",
    "    regex=False\n",
    ")\n",
    "\n",
    "# Save back to CSV\n",
    "df.to_csv(\"data/train_labels_5s_mac.csv\", index=False)"
   ]
  }
 ],
 "metadata": {
  "kernelspec": {
   "display_name": "rewilding_tensorflow_mac",
   "language": "python",
   "name": "python3"
  },
  "language_info": {
   "codemirror_mode": {
    "name": "ipython",
    "version": 3
   },
   "file_extension": ".py",
   "mimetype": "text/x-python",
   "name": "python",
   "nbconvert_exporter": "python",
   "pygments_lexer": "ipython3",
   "version": "3.10.0"
  }
 },
 "nbformat": 4,
 "nbformat_minor": 5
}
