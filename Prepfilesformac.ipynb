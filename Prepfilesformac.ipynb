{
 "cells": [
  {
   "cell_type": "code",
   "execution_count": null,
   "id": "c1be2c65",
   "metadata": {},
   "outputs": [],
   "source": [
    "import pandas as pd\n",
    "\n",
    "# Load CSV\n",
    "df = pd.read_csv(\"data/allfiles_for_predicting.csv\")\n",
    "\n",
    "# Replace the prefix\n",
    "df[\"file\"] = df[\"file\"].str.replace(\n",
    "    \"/mnt/d/\", \n",
    "    \"/Volumes/Expansion/\", \n",
    "    regex=False\n",
    ")\n",
    "\n",
    "# Save back to CSV\n",
    "df.to_csv(\"data/allfiles_for_predicting_mac.csv\", index=False)"
   ]
  },
  {
   "cell_type": "code",
   "execution_count": 4,
   "id": "edb221e7",
   "metadata": {},
   "outputs": [],
   "source": [
    "# Load CSV\n",
    "df = pd.read_csv(\"data/test_labels_5s_local.csv\")\n",
    "\n",
    "# Replace the prefix\n",
    "df[\"file\"] = df[\"file\"].str.replace(\n",
    "    \"/mnt/d/\", \n",
    "    \"/Volumes/Expansion/\", \n",
    "    regex=False\n",
    ")\n",
    "\n",
    "# Save back to CSV\n",
    "df.to_csv(\"data/test_labels_5s_mac.csv\", index=False)"
   ]
  },
  {
   "cell_type": "code",
   "execution_count": 5,
   "id": "9e67fd3f",
   "metadata": {},
   "outputs": [],
   "source": [
    "# Load CSV\n",
    "df = pd.read_csv(\"data/train_labels_5s_local.csv\")\n",
    "\n",
    "# Replace the prefix\n",
    "df[\"file\"] = df[\"file\"].str.replace(\n",
    "    \"/mnt/d/\", \n",
    "    \"/Volumes/Expansion/\", \n",
    "    regex=False\n",
    ")\n",
    "\n",
    "# Save back to CSV\n",
    "df.to_csv(\"data/train_labels_5s_mac.csv\", index=False)"
   ]
  },
  {
   "cell_type": "code",
   "execution_count": 1,
   "id": "ce99aa80",
   "metadata": {},
   "outputs": [
    {
     "name": "stdout",
     "output_type": "stream",
     "text": [
      "/Users/sholmes3/miniforge3/envs/rewilding_tensorflow_pure/bin/python\n"
     ]
    }
   ],
   "source": [
    "import sys\n",
    "print(sys.executable)\n"
   ]
  },
  {
   "cell_type": "code",
   "execution_count": 2,
   "id": "3ed25ce8",
   "metadata": {},
   "outputs": [
    {
     "name": "stdout",
     "output_type": "stream",
     "text": [
      "sys.executable: /Users/sholmes3/miniforge3/envs/rewilding_tensorflow_pure/bin/python\n",
      "PATH: /Users/sholmes3/miniforge3/envs/rewilding_tensorflow_pure/bin:/Users/sholmes3/miniforge3/condabin:/usr/local/bin:/System/Cryptexes/App/usr/bin:/usr/bin:/bin:/usr/sbin:/sbin:/var/run/com.apple.security.cryptexd/codex.system/bootstrap/usr/local/bin:/var/run/com.apple.security.cryptexd/codex.system/bootstrap/usr/bin:/var/run/com.apple.security.cryptexd/codex.system/bootstrap/usr/appleinternal/bin:/opt/X11/bin\n"
     ]
    }
   ],
   "source": [
    "import sys\n",
    "print(\"sys.executable:\", sys.executable)\n",
    "\n",
    "import os\n",
    "print(\"PATH:\", os.environ[\"PATH\"])\n"
   ]
  },
  {
   "cell_type": "code",
   "execution_count": 4,
   "id": "a29be888",
   "metadata": {},
   "outputs": [
    {
     "name": "stdout",
     "output_type": "stream",
     "text": [
      "TensorFlow version: 2.16.2\n",
      "TensorFlow Hub version: 0.16.1\n",
      "GPUs: [PhysicalDevice(name='/physical_device:GPU:0', device_type='GPU')]\n"
     ]
    }
   ],
   "source": [
    "import tensorflow as tf\n",
    "import tensorflow_hub as hub\n",
    "\n",
    "print(\"TensorFlow version:\", tf.__version__)\n",
    "print(\"TensorFlow Hub version:\", hub.__version__)\n",
    "print(\"GPUs:\", tf.config.list_physical_devices(\"GPU\"))\n"
   ]
  }
 ],
 "metadata": {
  "kernelspec": {
   "display_name": "rewilding_tensorflow_pure",
   "language": "python",
   "name": "python3"
  },
  "language_info": {
   "codemirror_mode": {
    "name": "ipython",
    "version": 3
   },
   "file_extension": ".py",
   "mimetype": "text/x-python",
   "name": "python",
   "nbconvert_exporter": "python",
   "pygments_lexer": "ipython3",
   "version": "3.10.18"
  }
 },
 "nbformat": 4,
 "nbformat_minor": 5
}
