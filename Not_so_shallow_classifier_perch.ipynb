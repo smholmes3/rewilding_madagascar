{
 "cells": [
  {
   "cell_type": "code",
   "execution_count": 19,
   "metadata": {},
   "outputs": [],
   "source": [
    "import torch\n",
    "import pandas as pd\n",
    "from pathlib import Path\n",
    "import numpy as np\n",
    "import pandas as pd\n",
    "import random\n",
    "from glob import glob\n",
    "import sklearn\n",
    "\n",
    "from tqdm.autonotebook import tqdm\n",
    "from sklearn.metrics import average_precision_score, roc_auc_score\n",
    "from pathlib import Path\n",
    "\n",
    "#set up plotting\n",
    "from matplotlib import pyplot as plt\n",
    "plt.rcParams['figure.figsize']=[15,5] #for large visuals\n",
    "%config InlineBackend.figure_format = 'retina'\n",
    "\n",
    "# opensoundscape transfer learning tools\n",
    "from opensoundscape.ml.shallow_classifier import MLPClassifier, quick_fit, fit_classifier_on_embeddings\n"
   ]
  },
  {
   "cell_type": "code",
   "execution_count": 20,
   "metadata": {},
   "outputs": [],
   "source": [
    "from sklearn.model_selection import train_test_split\n",
    "from opensoundscape import BoxedAnnotations, CNN"
   ]
  },
  {
   "cell_type": "code",
   "execution_count": 21,
   "metadata": {},
   "outputs": [],
   "source": [
    "filename = 'Not_so_shallow_classifier_perch'"
   ]
  },
  {
   "cell_type": "code",
   "execution_count": 22,
   "metadata": {},
   "outputs": [
    {
     "data": {
      "text/html": [
       "<div>\n",
       "<style scoped>\n",
       "    .dataframe tbody tr th:only-of-type {\n",
       "        vertical-align: middle;\n",
       "    }\n",
       "\n",
       "    .dataframe tbody tr th {\n",
       "        vertical-align: top;\n",
       "    }\n",
       "\n",
       "    .dataframe thead th {\n",
       "        text-align: right;\n",
       "    }\n",
       "</style>\n",
       "<table border=\"1\" class=\"dataframe\">\n",
       "  <thead>\n",
       "    <tr style=\"text-align: right;\">\n",
       "      <th></th>\n",
       "      <th>Unnamed: 0</th>\n",
       "      <th>Begin Time (s)</th>\n",
       "      <th>End Time (s)</th>\n",
       "      <th>Low Freq (Hz)</th>\n",
       "      <th>High Freq (Hz)</th>\n",
       "      <th>Species</th>\n",
       "      <th>Conf</th>\n",
       "      <th>Call_type</th>\n",
       "      <th>Filename</th>\n",
       "      <th>SiteHab</th>\n",
       "      <th>RecordingSched</th>\n",
       "      <th>RecorderName</th>\n",
       "      <th>DP</th>\n",
       "      <th>SoundFile</th>\n",
       "      <th>SoundFile_path</th>\n",
       "      <th>Split</th>\n",
       "      <th>Raven_path</th>\n",
       "    </tr>\n",
       "  </thead>\n",
       "  <tbody>\n",
       "    <tr>\n",
       "      <th>0</th>\n",
       "      <td>0</td>\n",
       "      <td>0.763354</td>\n",
       "      <td>3.078034</td>\n",
       "      <td>2854.369</td>\n",
       "      <td>5965.410</td>\n",
       "      <td>Philepitta_castanea</td>\n",
       "      <td>NaN</td>\n",
       "      <td>NaN</td>\n",
       "      <td>AGN_A-AGN04_20230429_054000.txt</td>\n",
       "      <td>AGN</td>\n",
       "      <td>A</td>\n",
       "      <td>AGN_A-AGN04</td>\n",
       "      <td>AGN04</td>\n",
       "      <td>AGN_A-AGN04_20230429_054000.WAV</td>\n",
       "      <td>/mnt/class_data/group1_bioacoustics/sheila/cv4...</td>\n",
       "      <td>validation</td>\n",
       "      <td>/mnt/class_data/group1_bioacoustics/sheila/Pro...</td>\n",
       "    </tr>\n",
       "    <tr>\n",
       "      <th>1</th>\n",
       "      <td>1</td>\n",
       "      <td>6.588949</td>\n",
       "      <td>9.475884</td>\n",
       "      <td>2571.297</td>\n",
       "      <td>5451.150</td>\n",
       "      <td>Philepitta_castanea</td>\n",
       "      <td>NaN</td>\n",
       "      <td>NaN</td>\n",
       "      <td>AGN_A-AGN04_20230429_054000.txt</td>\n",
       "      <td>AGN</td>\n",
       "      <td>A</td>\n",
       "      <td>AGN_A-AGN04</td>\n",
       "      <td>AGN04</td>\n",
       "      <td>AGN_A-AGN04_20230429_054000.WAV</td>\n",
       "      <td>/mnt/class_data/group1_bioacoustics/sheila/cv4...</td>\n",
       "      <td>validation</td>\n",
       "      <td>/mnt/class_data/group1_bioacoustics/sheila/Pro...</td>\n",
       "    </tr>\n",
       "    <tr>\n",
       "      <th>2</th>\n",
       "      <td>2</td>\n",
       "      <td>10.434780</td>\n",
       "      <td>12.523959</td>\n",
       "      <td>3085.557</td>\n",
       "      <td>5348.299</td>\n",
       "      <td>Philepitta_castanea</td>\n",
       "      <td>NaN</td>\n",
       "      <td>NaN</td>\n",
       "      <td>AGN_A-AGN04_20230429_054000.txt</td>\n",
       "      <td>AGN</td>\n",
       "      <td>A</td>\n",
       "      <td>AGN_A-AGN04</td>\n",
       "      <td>AGN04</td>\n",
       "      <td>AGN_A-AGN04_20230429_054000.WAV</td>\n",
       "      <td>/mnt/class_data/group1_bioacoustics/sheila/cv4...</td>\n",
       "      <td>validation</td>\n",
       "      <td>/mnt/class_data/group1_bioacoustics/sheila/Pro...</td>\n",
       "    </tr>\n",
       "    <tr>\n",
       "      <th>3</th>\n",
       "      <td>3</td>\n",
       "      <td>14.854197</td>\n",
       "      <td>15.436757</td>\n",
       "      <td>3085.557</td>\n",
       "      <td>5862.558</td>\n",
       "      <td>Philepitta_castanea</td>\n",
       "      <td>NaN</td>\n",
       "      <td>NaN</td>\n",
       "      <td>AGN_A-AGN04_20230429_054000.txt</td>\n",
       "      <td>AGN</td>\n",
       "      <td>A</td>\n",
       "      <td>AGN_A-AGN04</td>\n",
       "      <td>AGN04</td>\n",
       "      <td>AGN_A-AGN04_20230429_054000.WAV</td>\n",
       "      <td>/mnt/class_data/group1_bioacoustics/sheila/cv4...</td>\n",
       "      <td>validation</td>\n",
       "      <td>/mnt/class_data/group1_bioacoustics/sheila/Pro...</td>\n",
       "    </tr>\n",
       "    <tr>\n",
       "      <th>4</th>\n",
       "      <td>4</td>\n",
       "      <td>55.578030</td>\n",
       "      <td>59.479764</td>\n",
       "      <td>2621.359</td>\n",
       "      <td>5475.728</td>\n",
       "      <td>Philepitta_castanea</td>\n",
       "      <td>NaN</td>\n",
       "      <td>NaN</td>\n",
       "      <td>AGN_A-AGN04_20230429_054000.txt</td>\n",
       "      <td>AGN</td>\n",
       "      <td>A</td>\n",
       "      <td>AGN_A-AGN04</td>\n",
       "      <td>AGN04</td>\n",
       "      <td>AGN_A-AGN04_20230429_054000.WAV</td>\n",
       "      <td>/mnt/class_data/group1_bioacoustics/sheila/cv4...</td>\n",
       "      <td>validation</td>\n",
       "      <td>/mnt/class_data/group1_bioacoustics/sheila/Pro...</td>\n",
       "    </tr>\n",
       "  </tbody>\n",
       "</table>\n",
       "</div>"
      ],
      "text/plain": [
       "   Unnamed: 0  Begin Time (s)  End Time (s)  Low Freq (Hz)  High Freq (Hz)  \\\n",
       "0           0        0.763354      3.078034       2854.369        5965.410   \n",
       "1           1        6.588949      9.475884       2571.297        5451.150   \n",
       "2           2       10.434780     12.523959       3085.557        5348.299   \n",
       "3           3       14.854197     15.436757       3085.557        5862.558   \n",
       "4           4       55.578030     59.479764       2621.359        5475.728   \n",
       "\n",
       "               Species  Conf Call_type                         Filename  \\\n",
       "0  Philepitta_castanea   NaN       NaN  AGN_A-AGN04_20230429_054000.txt   \n",
       "1  Philepitta_castanea   NaN       NaN  AGN_A-AGN04_20230429_054000.txt   \n",
       "2  Philepitta_castanea   NaN       NaN  AGN_A-AGN04_20230429_054000.txt   \n",
       "3  Philepitta_castanea   NaN       NaN  AGN_A-AGN04_20230429_054000.txt   \n",
       "4  Philepitta_castanea   NaN       NaN  AGN_A-AGN04_20230429_054000.txt   \n",
       "\n",
       "  SiteHab RecordingSched RecorderName     DP                        SoundFile  \\\n",
       "0     AGN              A  AGN_A-AGN04  AGN04  AGN_A-AGN04_20230429_054000.WAV   \n",
       "1     AGN              A  AGN_A-AGN04  AGN04  AGN_A-AGN04_20230429_054000.WAV   \n",
       "2     AGN              A  AGN_A-AGN04  AGN04  AGN_A-AGN04_20230429_054000.WAV   \n",
       "3     AGN              A  AGN_A-AGN04  AGN04  AGN_A-AGN04_20230429_054000.WAV   \n",
       "4     AGN              A  AGN_A-AGN04  AGN04  AGN_A-AGN04_20230429_054000.WAV   \n",
       "\n",
       "                                      SoundFile_path       Split  \\\n",
       "0  /mnt/class_data/group1_bioacoustics/sheila/cv4...  validation   \n",
       "1  /mnt/class_data/group1_bioacoustics/sheila/cv4...  validation   \n",
       "2  /mnt/class_data/group1_bioacoustics/sheila/cv4...  validation   \n",
       "3  /mnt/class_data/group1_bioacoustics/sheila/cv4...  validation   \n",
       "4  /mnt/class_data/group1_bioacoustics/sheila/cv4...  validation   \n",
       "\n",
       "                                          Raven_path  \n",
       "0  /mnt/class_data/group1_bioacoustics/sheila/Pro...  \n",
       "1  /mnt/class_data/group1_bioacoustics/sheila/Pro...  \n",
       "2  /mnt/class_data/group1_bioacoustics/sheila/Pro...  \n",
       "3  /mnt/class_data/group1_bioacoustics/sheila/Pro...  \n",
       "4  /mnt/class_data/group1_bioacoustics/sheila/Pro...  "
      ]
     },
     "execution_count": 22,
     "metadata": {},
     "output_type": "execute_result"
    }
   ],
   "source": [
    "metadata = pd.read_csv('./data/metadata.csv')\n",
    "metadata.head()"
   ]
  },
  {
   "cell_type": "code",
   "execution_count": 23,
   "metadata": {},
   "outputs": [],
   "source": [
    "val_metadata=metadata[metadata[\"Split\"]==\"validation\"]\n",
    "train_metadata=metadata[metadata[\"Split\"]==\"train\"]\n",
    "test_metadata=metadata[metadata[\"Split\"]==\"test\"]"
   ]
  },
  {
   "cell_type": "code",
   "execution_count": 24,
   "metadata": {},
   "outputs": [],
   "source": [
    "val_metadata=val_metadata.reset_index()\n",
    "train_metadata=train_metadata.reset_index()\n",
    "test_metadata=test_metadata.reset_index()"
   ]
  },
  {
   "cell_type": "code",
   "execution_count": 25,
   "metadata": {},
   "outputs": [],
   "source": [
    "# assume we have a list of raven annotation files and corresponding audio files\n",
    "# load the annotations into OpenSoundscape\n",
    "raven_file_paths = val_metadata['Raven_path']\n",
    "audio_file_paths = val_metadata['SoundFile_path']\n",
    "val_annotations = BoxedAnnotations.from_raven_files(raven_file_paths,'species',audio_file_paths)\n",
    "\n",
    "raven_file_paths = train_metadata['Raven_path']\n",
    "audio_file_paths = train_metadata['SoundFile_path']\n",
    "train_annotations = BoxedAnnotations.from_raven_files(raven_file_paths,'species',audio_file_paths)\n",
    "\n",
    "raven_file_paths = test_metadata['Raven_path']\n",
    "audio_file_paths = test_metadata['SoundFile_path']\n",
    "test_annotations = BoxedAnnotations.from_raven_files(raven_file_paths,'species',audio_file_paths)"
   ]
  },
  {
   "cell_type": "code",
   "execution_count": 26,
   "metadata": {},
   "outputs": [
    {
     "data": {
      "text/html": [
       "<div>\n",
       "<style scoped>\n",
       "    .dataframe tbody tr th:only-of-type {\n",
       "        vertical-align: middle;\n",
       "    }\n",
       "\n",
       "    .dataframe tbody tr th {\n",
       "        vertical-align: top;\n",
       "    }\n",
       "\n",
       "    .dataframe thead th {\n",
       "        text-align: right;\n",
       "    }\n",
       "</style>\n",
       "<table border=\"1\" class=\"dataframe\">\n",
       "  <thead>\n",
       "    <tr style=\"text-align: right;\">\n",
       "      <th></th>\n",
       "      <th>original</th>\n",
       "      <th>new</th>\n",
       "    </tr>\n",
       "  </thead>\n",
       "  <tbody>\n",
       "    <tr>\n",
       "      <th>0</th>\n",
       "      <td>Eulemur_albifrons</td>\n",
       "      <td>Eulemur_sp</td>\n",
       "    </tr>\n",
       "    <tr>\n",
       "      <th>1</th>\n",
       "      <td>Eulemur_fulvus</td>\n",
       "      <td>Eulemur_sp</td>\n",
       "    </tr>\n",
       "  </tbody>\n",
       "</table>\n",
       "</div>"
      ],
      "text/plain": [
       "            original         new\n",
       "0  Eulemur_albifrons  Eulemur_sp\n",
       "1     Eulemur_fulvus  Eulemur_sp"
      ]
     },
     "execution_count": 26,
     "metadata": {},
     "output_type": "execute_result"
    }
   ],
   "source": [
    "# Create the table with a dataframe\n",
    "conversion_table = pd.DataFrame(\n",
    "    {'original':['Eulemur_albifrons', 'Eulemur_fulvus'],\n",
    "     'new':['Eulemur_sp', 'Eulemur_sp']}\n",
    ")\n",
    "\n",
    "# Or create the table in its own spreadsheet\n",
    "#conversion_table = pd.read_csv('my_conversion_filename_here.csv')\n",
    "\n",
    "conversion_table"
   ]
  },
  {
   "cell_type": "code",
   "execution_count": 27,
   "metadata": {},
   "outputs": [
    {
     "data": {
      "text/html": [
       "<div>\n",
       "<style scoped>\n",
       "    .dataframe tbody tr th:only-of-type {\n",
       "        vertical-align: middle;\n",
       "    }\n",
       "\n",
       "    .dataframe tbody tr th {\n",
       "        vertical-align: top;\n",
       "    }\n",
       "\n",
       "    .dataframe thead th {\n",
       "        text-align: right;\n",
       "    }\n",
       "</style>\n",
       "<table border=\"1\" class=\"dataframe\">\n",
       "  <thead>\n",
       "    <tr style=\"text-align: right;\">\n",
       "      <th></th>\n",
       "      <th>audio_file</th>\n",
       "      <th>annotation_file</th>\n",
       "      <th>annotation</th>\n",
       "      <th>start_time</th>\n",
       "      <th>end_time</th>\n",
       "      <th>low_f</th>\n",
       "      <th>high_f</th>\n",
       "      <th>Selection</th>\n",
       "      <th>View</th>\n",
       "      <th>Delta Freq (Hz)</th>\n",
       "      <th>Call_type</th>\n",
       "      <th>Delta Time (s)</th>\n",
       "      <th>Channel</th>\n",
       "      <th>Avg Power Density (dB FS/Hz)</th>\n",
       "      <th>Conf</th>\n",
       "    </tr>\n",
       "  </thead>\n",
       "  <tbody>\n",
       "    <tr>\n",
       "      <th>0</th>\n",
       "      <td>/mnt/class_data/group1_bioacoustics/sheila/cv4...</td>\n",
       "      <td>/mnt/class_data/group1_bioacoustics/sheila/Pro...</td>\n",
       "      <td>Hypsipetes_madagascariensis</td>\n",
       "      <td>54.905264</td>\n",
       "      <td>56.190913</td>\n",
       "      <td>1968.454</td>\n",
       "      <td>5223.975</td>\n",
       "      <td>1</td>\n",
       "      <td>Spectrogram 1</td>\n",
       "      <td>NaN</td>\n",
       "      <td>call</td>\n",
       "      <td>NaN</td>\n",
       "      <td>1</td>\n",
       "      <td>NaN</td>\n",
       "      <td>0.9</td>\n",
       "    </tr>\n",
       "    <tr>\n",
       "      <th>1</th>\n",
       "      <td>/mnt/class_data/group1_bioacoustics/sheila/cv4...</td>\n",
       "      <td>/mnt/class_data/group1_bioacoustics/sheila/Pro...</td>\n",
       "      <td>Dicrurus_forficatus</td>\n",
       "      <td>4.943181</td>\n",
       "      <td>11.329778</td>\n",
       "      <td>659.794</td>\n",
       "      <td>5690.722</td>\n",
       "      <td>1</td>\n",
       "      <td>Spectrogram 1</td>\n",
       "      <td>NaN</td>\n",
       "      <td>call</td>\n",
       "      <td>NaN</td>\n",
       "      <td>1</td>\n",
       "      <td>NaN</td>\n",
       "      <td>0.9</td>\n",
       "    </tr>\n",
       "    <tr>\n",
       "      <th>2</th>\n",
       "      <td>/mnt/class_data/group1_bioacoustics/sheila/cv4...</td>\n",
       "      <td>/mnt/class_data/group1_bioacoustics/sheila/Pro...</td>\n",
       "      <td>Dicrurus_forficatus</td>\n",
       "      <td>13.011363</td>\n",
       "      <td>15.447871</td>\n",
       "      <td>551.700</td>\n",
       "      <td>5773.196</td>\n",
       "      <td>2</td>\n",
       "      <td>Spectrogram 1</td>\n",
       "      <td>NaN</td>\n",
       "      <td>call</td>\n",
       "      <td>NaN</td>\n",
       "      <td>1</td>\n",
       "      <td>NaN</td>\n",
       "      <td>0.9</td>\n",
       "    </tr>\n",
       "    <tr>\n",
       "      <th>3</th>\n",
       "      <td>/mnt/class_data/group1_bioacoustics/sheila/cv4...</td>\n",
       "      <td>/mnt/class_data/group1_bioacoustics/sheila/Pro...</td>\n",
       "      <td>Dicrurus_forficatus</td>\n",
       "      <td>17.215908</td>\n",
       "      <td>19.923388</td>\n",
       "      <td>494.845</td>\n",
       "      <td>5773.196</td>\n",
       "      <td>3</td>\n",
       "      <td>Spectrogram 1</td>\n",
       "      <td>NaN</td>\n",
       "      <td>call</td>\n",
       "      <td>NaN</td>\n",
       "      <td>1</td>\n",
       "      <td>NaN</td>\n",
       "      <td>0.9</td>\n",
       "    </tr>\n",
       "    <tr>\n",
       "      <th>4</th>\n",
       "      <td>/mnt/class_data/group1_bioacoustics/sheila/cv4...</td>\n",
       "      <td>/mnt/class_data/group1_bioacoustics/sheila/Pro...</td>\n",
       "      <td>Dicrurus_forficatus</td>\n",
       "      <td>24.282540</td>\n",
       "      <td>29.043458</td>\n",
       "      <td>742.268</td>\n",
       "      <td>6103.093</td>\n",
       "      <td>4</td>\n",
       "      <td>Spectrogram 1</td>\n",
       "      <td>NaN</td>\n",
       "      <td>call</td>\n",
       "      <td>NaN</td>\n",
       "      <td>1</td>\n",
       "      <td>NaN</td>\n",
       "      <td>0.9</td>\n",
       "    </tr>\n",
       "  </tbody>\n",
       "</table>\n",
       "</div>"
      ],
      "text/plain": [
       "                                          audio_file  \\\n",
       "0  /mnt/class_data/group1_bioacoustics/sheila/cv4...   \n",
       "1  /mnt/class_data/group1_bioacoustics/sheila/cv4...   \n",
       "2  /mnt/class_data/group1_bioacoustics/sheila/cv4...   \n",
       "3  /mnt/class_data/group1_bioacoustics/sheila/cv4...   \n",
       "4  /mnt/class_data/group1_bioacoustics/sheila/cv4...   \n",
       "\n",
       "                                     annotation_file  \\\n",
       "0  /mnt/class_data/group1_bioacoustics/sheila/Pro...   \n",
       "1  /mnt/class_data/group1_bioacoustics/sheila/Pro...   \n",
       "2  /mnt/class_data/group1_bioacoustics/sheila/Pro...   \n",
       "3  /mnt/class_data/group1_bioacoustics/sheila/Pro...   \n",
       "4  /mnt/class_data/group1_bioacoustics/sheila/Pro...   \n",
       "\n",
       "                    annotation  start_time   end_time     low_f    high_f  \\\n",
       "0  Hypsipetes_madagascariensis   54.905264  56.190913  1968.454  5223.975   \n",
       "1          Dicrurus_forficatus    4.943181  11.329778   659.794  5690.722   \n",
       "2          Dicrurus_forficatus   13.011363  15.447871   551.700  5773.196   \n",
       "3          Dicrurus_forficatus   17.215908  19.923388   494.845  5773.196   \n",
       "4          Dicrurus_forficatus   24.282540  29.043458   742.268  6103.093   \n",
       "\n",
       "   Selection           View  Delta Freq (Hz) Call_type  Delta Time (s)  \\\n",
       "0          1  Spectrogram 1              NaN      call             NaN   \n",
       "1          1  Spectrogram 1              NaN      call             NaN   \n",
       "2          2  Spectrogram 1              NaN      call             NaN   \n",
       "3          3  Spectrogram 1              NaN      call             NaN   \n",
       "4          4  Spectrogram 1              NaN      call             NaN   \n",
       "\n",
       "   Channel  Avg Power Density (dB FS/Hz)  Conf  \n",
       "0        1                           NaN   0.9  \n",
       "1        1                           NaN   0.9  \n",
       "2        1                           NaN   0.9  \n",
       "3        1                           NaN   0.9  \n",
       "4        1                           NaN   0.9  "
      ]
     },
     "execution_count": 27,
     "metadata": {},
     "output_type": "execute_result"
    }
   ],
   "source": [
    "#correct annotations in each of the splits\n",
    "val_annotations_corrected = val_annotations.convert_labels(conversion_table)\n",
    "val_annotations_corrected.audio_files = val_annotations_corrected.df['audio_file'].values #workaround for issue #872\n",
    "val_annotations_corrected.df.head()\n",
    "\n",
    "train_annotations_corrected = train_annotations.convert_labels(conversion_table)\n",
    "train_annotations_corrected.audio_files = train_annotations_corrected.df['audio_file'].values #workaround for issue #872\n",
    "train_annotations_corrected.df.head()\n",
    "\n",
    "test_annotations_corrected = test_annotations.convert_labels(conversion_table)\n",
    "test_annotations_corrected.audio_files = test_annotations_corrected.df['audio_file'].values #workaround for issue #872\n",
    "test_annotations_corrected.df.head()\n"
   ]
  },
  {
   "cell_type": "code",
   "execution_count": 28,
   "metadata": {},
   "outputs": [],
   "source": [
    "# pick classes to train the model on. These should occur in the annotated data\n",
    "class_list = ['Hypsipetes_madagascariensis','Copsychus_albospecularis','Coracopsis_nigra','Dicrurus_forficatus','Coua_caerulea','Zosterops_maderaspatanus','Eurystomus_glaucurus','Agapornis_canus','Saxicola_torquatus','Cyanolanius_madagascarinus','Leptopterus_chabert','Nesoenas_picturatus','Coua_reynaudii','Ceblepyris_cinereus','Neodrepanis_coruscans','Philepitta_castanea','Eulemur_sp','Coua_cristata','Treron_australis']\n"
   ]
  },
  {
   "cell_type": "code",
   "execution_count": 29,
   "metadata": {},
   "outputs": [],
   "source": [
    "# create labels for fixed-duration (5 second) clips\n",
    "val_labels = val_annotations_corrected.clip_labels(\n",
    "  clip_duration=5,\n",
    "  clip_overlap=0,\n",
    "  min_label_overlap=0.25,\n",
    "  class_subset=class_list\n",
    ")\n",
    "\n",
    "train_labels = train_annotations_corrected.clip_labels(\n",
    "  clip_duration=5,\n",
    "  clip_overlap=0,\n",
    "  min_label_overlap=0.25,\n",
    "  class_subset=class_list\n",
    ")\n",
    "\n",
    "test_labels = test_annotations_corrected.clip_labels(\n",
    "  clip_duration=5,\n",
    "  clip_overlap=0,\n",
    "  min_label_overlap=0.25,\n",
    "  class_subset=class_list\n",
    ")"
   ]
  },
  {
   "cell_type": "code",
   "execution_count": 30,
   "metadata": {},
   "outputs": [],
   "source": [
    "from bioacoustics_model_zoo import Perch"
   ]
  },
  {
   "cell_type": "code",
   "execution_count": 31,
   "metadata": {},
   "outputs": [
    {
     "name": "stderr",
     "output_type": "stream",
     "text": [
      "/home/Sheila/miniconda3/envs/rewilding_tensorflow/lib/python3.10/site-packages/opensoundscape/ml/cnn.py:621: UserWarning: \n",
      "                    This architecture is not listed in opensoundscape.ml.cnn_architectures.ARCH_DICT.\n",
      "                    It will not be available for loading after saving the model with .save() (unless using pickle=True). \n",
      "                    To make it re-loadable, define a function that generates the architecture from arguments: (n_classes, n_channels) \n",
      "                    then use opensoundscape.ml.cnn_architectures.register_architecture() to register the generating function.\n",
      "\n",
      "                    The function can also set the returned object's .constructor_name to the registered string key in ARCH_DICT\n",
      "                    to avoid this warning and ensure it is reloaded correctly by opensoundscape.ml.load_model().\n",
      "\n",
      "                    See opensoundscape.ml.cnn_architectures module for examples of constructor functions\n",
      "                    \n",
      "  warnings.warn(\n",
      "/home/Sheila/miniconda3/envs/rewilding_tensorflow/lib/python3.10/site-packages/opensoundscape/ml/cnn.py:645: UserWarning: Failed to detect expected # input channels of this architecture.Make sure your architecture expects the number of channels equal to `channels` argument 1). Pytorch architectures generally expect 3 channels by default.\n",
      "  warnings.warn(\n"
     ]
    }
   ],
   "source": [
    "perch_model = Perch()"
   ]
  },
  {
   "cell_type": "code",
   "execution_count": 32,
   "metadata": {},
   "outputs": [],
   "source": [
    "# Decide number of hidden layers. 100 is a good starting point because the embedding size of perch are 1280 - for each sample it makes 1280 numbers. Trying to collapse info from 1280 parameters into 100 and then 100 into 19\n",
    "#Can always reduce hidden_layer_sizes if overfitting. \n",
    "perch_model.initialize_custom_classifier(hidden_layer_sizes=[100],classes=class_list)"
   ]
  },
  {
   "cell_type": "code",
   "execution_count": 33,
   "metadata": {},
   "outputs": [
    {
     "data": {
      "application/vnd.jupyter.widget-view+json": {
       "model_id": "2b84462c54274f15b23a9fa2c279853f",
       "version_major": 2,
       "version_minor": 0
      },
      "text/plain": [
       "  0%|          | 0/80 [00:00<?, ?it/s]"
      ]
     },
     "metadata": {},
     "output_type": "display_data"
    },
    {
     "name": "stderr",
     "output_type": "stream",
     "text": [
      "2025-01-24 00:04:31.984634: W tensorflow/compiler/tf2xla/kernels/assert_op.cc:38] Ignoring Assert operator jax2tf_infer_fn_/assert_equal_1/Assert/AssertGuard/Assert\n",
      "2025-01-24 00:06:11.273601: W tensorflow/compiler/tf2xla/kernels/assert_op.cc:38] Ignoring Assert operator jax2tf_infer_fn_/assert_equal_1/Assert/AssertGuard/Assert\n"
     ]
    },
    {
     "data": {
      "application/vnd.jupyter.widget-view+json": {
       "model_id": "c472f1ad75d64ee4b220afb684e70057",
       "version_major": 2,
       "version_minor": 0
      },
      "text/plain": [
       "  0%|          | 0/12 [00:00<?, ?it/s]"
      ]
     },
     "metadata": {},
     "output_type": "display_data"
    },
    {
     "name": "stderr",
     "output_type": "stream",
     "text": [
      "2025-01-24 00:06:28.599582: W tensorflow/compiler/tf2xla/kernels/assert_op.cc:38] Ignoring Assert operator jax2tf_infer_fn_/assert_equal_1/Assert/AssertGuard/Assert\n"
     ]
    }
   ],
   "source": [
    "#created embeddings\n",
    "emb_train = perch_model.embed(train_labels, return_dfs=False, batch_size=128, num_workers=0)\n",
    "emb_val = perch_model.embed(val_labels, return_dfs=False, batch_size=128, num_workers=0)"
   ]
  },
  {
   "cell_type": "code",
   "execution_count": 34,
   "metadata": {},
   "outputs": [],
   "source": [
    "# pick classes to train the model on. These should occur in the annotated data\n",
    "class_list = ['Hypsipetes_madagascariensis','Copsychus_albospecularis','Coracopsis_nigra','Dicrurus_forficatus','Coua_caerulea','Zosterops_maderaspatanus','Eurystomus_glaucurus','Agapornis_canus','Saxicola_torquatus','Cyanolanius_madagascarinus','Leptopterus_chabert','Nesoenas_picturatus','Coua_reynaudii','Ceblepyris_cinereus','Neodrepanis_coruscans','Philepitta_castanea','Eulemur_sp','Coua_cristata','Treron_australis']\n",
    "\n"
   ]
  },
  {
   "cell_type": "code",
   "execution_count": 35,
   "metadata": {},
   "outputs": [
    {
     "name": "stdout",
     "output_type": "stream",
     "text": [
      "Epoch 100/1000, Loss: 0.0647353008389473, Val Loss: 0.06366882473230362\n",
      "val AU ROC: 0.171\n",
      "val MAP: 0.171\n"
     ]
    },
    {
     "name": "stderr",
     "output_type": "stream",
     "text": [
      "/home/Sheila/miniconda3/envs/rewilding_tensorflow/lib/python3.10/site-packages/sklearn/metrics/_ranking.py:1033: UserWarning: No positive class found in y_true, recall is set to one for all thresholds.\n",
      "  warnings.warn(\n",
      "/home/Sheila/miniconda3/envs/rewilding_tensorflow/lib/python3.10/site-packages/sklearn/metrics/_ranking.py:1033: UserWarning: No positive class found in y_true, recall is set to one for all thresholds.\n",
      "  warnings.warn(\n",
      "/home/Sheila/miniconda3/envs/rewilding_tensorflow/lib/python3.10/site-packages/sklearn/metrics/_ranking.py:1033: UserWarning: No positive class found in y_true, recall is set to one for all thresholds.\n",
      "  warnings.warn(\n",
      "/home/Sheila/miniconda3/envs/rewilding_tensorflow/lib/python3.10/site-packages/sklearn/metrics/_ranking.py:1033: UserWarning: No positive class found in y_true, recall is set to one for all thresholds.\n",
      "  warnings.warn(\n",
      "/home/Sheila/miniconda3/envs/rewilding_tensorflow/lib/python3.10/site-packages/sklearn/metrics/_ranking.py:1033: UserWarning: No positive class found in y_true, recall is set to one for all thresholds.\n",
      "  warnings.warn(\n",
      "/home/Sheila/miniconda3/envs/rewilding_tensorflow/lib/python3.10/site-packages/sklearn/metrics/_ranking.py:1033: UserWarning: No positive class found in y_true, recall is set to one for all thresholds.\n",
      "  warnings.warn(\n"
     ]
    },
    {
     "name": "stdout",
     "output_type": "stream",
     "text": [
      "Epoch 200/1000, Loss: 0.04323918744921684, Val Loss: 0.04578624665737152\n",
      "val AU ROC: 0.299\n",
      "val MAP: 0.299\n"
     ]
    },
    {
     "name": "stderr",
     "output_type": "stream",
     "text": [
      "/home/Sheila/miniconda3/envs/rewilding_tensorflow/lib/python3.10/site-packages/sklearn/metrics/_ranking.py:1033: UserWarning: No positive class found in y_true, recall is set to one for all thresholds.\n",
      "  warnings.warn(\n",
      "/home/Sheila/miniconda3/envs/rewilding_tensorflow/lib/python3.10/site-packages/sklearn/metrics/_ranking.py:1033: UserWarning: No positive class found in y_true, recall is set to one for all thresholds.\n",
      "  warnings.warn(\n",
      "/home/Sheila/miniconda3/envs/rewilding_tensorflow/lib/python3.10/site-packages/sklearn/metrics/_ranking.py:1033: UserWarning: No positive class found in y_true, recall is set to one for all thresholds.\n",
      "  warnings.warn(\n",
      "/home/Sheila/miniconda3/envs/rewilding_tensorflow/lib/python3.10/site-packages/sklearn/metrics/_ranking.py:1033: UserWarning: No positive class found in y_true, recall is set to one for all thresholds.\n",
      "  warnings.warn(\n",
      "/home/Sheila/miniconda3/envs/rewilding_tensorflow/lib/python3.10/site-packages/sklearn/metrics/_ranking.py:1033: UserWarning: No positive class found in y_true, recall is set to one for all thresholds.\n",
      "  warnings.warn(\n",
      "/home/Sheila/miniconda3/envs/rewilding_tensorflow/lib/python3.10/site-packages/sklearn/metrics/_ranking.py:1033: UserWarning: No positive class found in y_true, recall is set to one for all thresholds.\n",
      "  warnings.warn(\n"
     ]
    },
    {
     "name": "stdout",
     "output_type": "stream",
     "text": [
      "Epoch 300/1000, Loss: 0.03311040252447128, Val Loss: 0.03910275548696518\n",
      "val AU ROC: 0.345\n",
      "val MAP: 0.345\n"
     ]
    },
    {
     "name": "stderr",
     "output_type": "stream",
     "text": [
      "/home/Sheila/miniconda3/envs/rewilding_tensorflow/lib/python3.10/site-packages/sklearn/metrics/_ranking.py:1033: UserWarning: No positive class found in y_true, recall is set to one for all thresholds.\n",
      "  warnings.warn(\n",
      "/home/Sheila/miniconda3/envs/rewilding_tensorflow/lib/python3.10/site-packages/sklearn/metrics/_ranking.py:1033: UserWarning: No positive class found in y_true, recall is set to one for all thresholds.\n",
      "  warnings.warn(\n",
      "/home/Sheila/miniconda3/envs/rewilding_tensorflow/lib/python3.10/site-packages/sklearn/metrics/_ranking.py:1033: UserWarning: No positive class found in y_true, recall is set to one for all thresholds.\n",
      "  warnings.warn(\n",
      "/home/Sheila/miniconda3/envs/rewilding_tensorflow/lib/python3.10/site-packages/sklearn/metrics/_ranking.py:1033: UserWarning: No positive class found in y_true, recall is set to one for all thresholds.\n",
      "  warnings.warn(\n",
      "/home/Sheila/miniconda3/envs/rewilding_tensorflow/lib/python3.10/site-packages/sklearn/metrics/_ranking.py:1033: UserWarning: No positive class found in y_true, recall is set to one for all thresholds.\n",
      "  warnings.warn(\n",
      "/home/Sheila/miniconda3/envs/rewilding_tensorflow/lib/python3.10/site-packages/sklearn/metrics/_ranking.py:1033: UserWarning: No positive class found in y_true, recall is set to one for all thresholds.\n",
      "  warnings.warn(\n"
     ]
    },
    {
     "name": "stdout",
     "output_type": "stream",
     "text": [
      "Epoch 400/1000, Loss: 0.027132272720336914, Val Loss: 0.03599374741315842\n",
      "val AU ROC: 0.443\n",
      "val MAP: 0.443\n"
     ]
    },
    {
     "name": "stderr",
     "output_type": "stream",
     "text": [
      "/home/Sheila/miniconda3/envs/rewilding_tensorflow/lib/python3.10/site-packages/sklearn/metrics/_ranking.py:1033: UserWarning: No positive class found in y_true, recall is set to one for all thresholds.\n",
      "  warnings.warn(\n",
      "/home/Sheila/miniconda3/envs/rewilding_tensorflow/lib/python3.10/site-packages/sklearn/metrics/_ranking.py:1033: UserWarning: No positive class found in y_true, recall is set to one for all thresholds.\n",
      "  warnings.warn(\n",
      "/home/Sheila/miniconda3/envs/rewilding_tensorflow/lib/python3.10/site-packages/sklearn/metrics/_ranking.py:1033: UserWarning: No positive class found in y_true, recall is set to one for all thresholds.\n",
      "  warnings.warn(\n",
      "/home/Sheila/miniconda3/envs/rewilding_tensorflow/lib/python3.10/site-packages/sklearn/metrics/_ranking.py:1033: UserWarning: No positive class found in y_true, recall is set to one for all thresholds.\n",
      "  warnings.warn(\n",
      "/home/Sheila/miniconda3/envs/rewilding_tensorflow/lib/python3.10/site-packages/sklearn/metrics/_ranking.py:1033: UserWarning: No positive class found in y_true, recall is set to one for all thresholds.\n",
      "  warnings.warn(\n",
      "/home/Sheila/miniconda3/envs/rewilding_tensorflow/lib/python3.10/site-packages/sklearn/metrics/_ranking.py:1033: UserWarning: No positive class found in y_true, recall is set to one for all thresholds.\n",
      "  warnings.warn(\n"
     ]
    },
    {
     "name": "stdout",
     "output_type": "stream",
     "text": [
      "Epoch 500/1000, Loss: 0.023140212520956993, Val Loss: 0.03470354154706001\n",
      "val AU ROC: 0.478\n",
      "val MAP: 0.478\n"
     ]
    },
    {
     "name": "stderr",
     "output_type": "stream",
     "text": [
      "/home/Sheila/miniconda3/envs/rewilding_tensorflow/lib/python3.10/site-packages/sklearn/metrics/_ranking.py:1033: UserWarning: No positive class found in y_true, recall is set to one for all thresholds.\n",
      "  warnings.warn(\n",
      "/home/Sheila/miniconda3/envs/rewilding_tensorflow/lib/python3.10/site-packages/sklearn/metrics/_ranking.py:1033: UserWarning: No positive class found in y_true, recall is set to one for all thresholds.\n",
      "  warnings.warn(\n",
      "/home/Sheila/miniconda3/envs/rewilding_tensorflow/lib/python3.10/site-packages/sklearn/metrics/_ranking.py:1033: UserWarning: No positive class found in y_true, recall is set to one for all thresholds.\n",
      "  warnings.warn(\n",
      "/home/Sheila/miniconda3/envs/rewilding_tensorflow/lib/python3.10/site-packages/sklearn/metrics/_ranking.py:1033: UserWarning: No positive class found in y_true, recall is set to one for all thresholds.\n",
      "  warnings.warn(\n",
      "/home/Sheila/miniconda3/envs/rewilding_tensorflow/lib/python3.10/site-packages/sklearn/metrics/_ranking.py:1033: UserWarning: No positive class found in y_true, recall is set to one for all thresholds.\n",
      "  warnings.warn(\n",
      "/home/Sheila/miniconda3/envs/rewilding_tensorflow/lib/python3.10/site-packages/sklearn/metrics/_ranking.py:1033: UserWarning: No positive class found in y_true, recall is set to one for all thresholds.\n",
      "  warnings.warn(\n"
     ]
    },
    {
     "name": "stdout",
     "output_type": "stream",
     "text": [
      "Epoch 600/1000, Loss: 0.020124131813645363, Val Loss: 0.034549813717603683\n",
      "val AU ROC: 0.481\n",
      "val MAP: 0.481\n"
     ]
    },
    {
     "name": "stderr",
     "output_type": "stream",
     "text": [
      "/home/Sheila/miniconda3/envs/rewilding_tensorflow/lib/python3.10/site-packages/sklearn/metrics/_ranking.py:1033: UserWarning: No positive class found in y_true, recall is set to one for all thresholds.\n",
      "  warnings.warn(\n",
      "/home/Sheila/miniconda3/envs/rewilding_tensorflow/lib/python3.10/site-packages/sklearn/metrics/_ranking.py:1033: UserWarning: No positive class found in y_true, recall is set to one for all thresholds.\n",
      "  warnings.warn(\n",
      "/home/Sheila/miniconda3/envs/rewilding_tensorflow/lib/python3.10/site-packages/sklearn/metrics/_ranking.py:1033: UserWarning: No positive class found in y_true, recall is set to one for all thresholds.\n",
      "  warnings.warn(\n",
      "/home/Sheila/miniconda3/envs/rewilding_tensorflow/lib/python3.10/site-packages/sklearn/metrics/_ranking.py:1033: UserWarning: No positive class found in y_true, recall is set to one for all thresholds.\n",
      "  warnings.warn(\n",
      "/home/Sheila/miniconda3/envs/rewilding_tensorflow/lib/python3.10/site-packages/sklearn/metrics/_ranking.py:1033: UserWarning: No positive class found in y_true, recall is set to one for all thresholds.\n",
      "  warnings.warn(\n",
      "/home/Sheila/miniconda3/envs/rewilding_tensorflow/lib/python3.10/site-packages/sklearn/metrics/_ranking.py:1033: UserWarning: No positive class found in y_true, recall is set to one for all thresholds.\n",
      "  warnings.warn(\n"
     ]
    },
    {
     "name": "stdout",
     "output_type": "stream",
     "text": [
      "Epoch 700/1000, Loss: 0.01767042838037014, Val Loss: 0.035070452839136124\n",
      "val AU ROC: 0.481\n",
      "val MAP: 0.481\n"
     ]
    },
    {
     "name": "stderr",
     "output_type": "stream",
     "text": [
      "/home/Sheila/miniconda3/envs/rewilding_tensorflow/lib/python3.10/site-packages/sklearn/metrics/_ranking.py:1033: UserWarning: No positive class found in y_true, recall is set to one for all thresholds.\n",
      "  warnings.warn(\n",
      "/home/Sheila/miniconda3/envs/rewilding_tensorflow/lib/python3.10/site-packages/sklearn/metrics/_ranking.py:1033: UserWarning: No positive class found in y_true, recall is set to one for all thresholds.\n",
      "  warnings.warn(\n",
      "/home/Sheila/miniconda3/envs/rewilding_tensorflow/lib/python3.10/site-packages/sklearn/metrics/_ranking.py:1033: UserWarning: No positive class found in y_true, recall is set to one for all thresholds.\n",
      "  warnings.warn(\n",
      "/home/Sheila/miniconda3/envs/rewilding_tensorflow/lib/python3.10/site-packages/sklearn/metrics/_ranking.py:1033: UserWarning: No positive class found in y_true, recall is set to one for all thresholds.\n",
      "  warnings.warn(\n",
      "/home/Sheila/miniconda3/envs/rewilding_tensorflow/lib/python3.10/site-packages/sklearn/metrics/_ranking.py:1033: UserWarning: No positive class found in y_true, recall is set to one for all thresholds.\n",
      "  warnings.warn(\n",
      "/home/Sheila/miniconda3/envs/rewilding_tensorflow/lib/python3.10/site-packages/sklearn/metrics/_ranking.py:1033: UserWarning: No positive class found in y_true, recall is set to one for all thresholds.\n",
      "  warnings.warn(\n"
     ]
    },
    {
     "name": "stdout",
     "output_type": "stream",
     "text": [
      "Epoch 800/1000, Loss: 0.0155946658924222, Val Loss: 0.03593556955456734\n",
      "val AU ROC: 0.482\n",
      "val MAP: 0.482\n"
     ]
    },
    {
     "name": "stderr",
     "output_type": "stream",
     "text": [
      "/home/Sheila/miniconda3/envs/rewilding_tensorflow/lib/python3.10/site-packages/sklearn/metrics/_ranking.py:1033: UserWarning: No positive class found in y_true, recall is set to one for all thresholds.\n",
      "  warnings.warn(\n",
      "/home/Sheila/miniconda3/envs/rewilding_tensorflow/lib/python3.10/site-packages/sklearn/metrics/_ranking.py:1033: UserWarning: No positive class found in y_true, recall is set to one for all thresholds.\n",
      "  warnings.warn(\n",
      "/home/Sheila/miniconda3/envs/rewilding_tensorflow/lib/python3.10/site-packages/sklearn/metrics/_ranking.py:1033: UserWarning: No positive class found in y_true, recall is set to one for all thresholds.\n",
      "  warnings.warn(\n",
      "/home/Sheila/miniconda3/envs/rewilding_tensorflow/lib/python3.10/site-packages/sklearn/metrics/_ranking.py:1033: UserWarning: No positive class found in y_true, recall is set to one for all thresholds.\n",
      "  warnings.warn(\n",
      "/home/Sheila/miniconda3/envs/rewilding_tensorflow/lib/python3.10/site-packages/sklearn/metrics/_ranking.py:1033: UserWarning: No positive class found in y_true, recall is set to one for all thresholds.\n",
      "  warnings.warn(\n",
      "/home/Sheila/miniconda3/envs/rewilding_tensorflow/lib/python3.10/site-packages/sklearn/metrics/_ranking.py:1033: UserWarning: No positive class found in y_true, recall is set to one for all thresholds.\n",
      "  warnings.warn(\n"
     ]
    },
    {
     "name": "stdout",
     "output_type": "stream",
     "text": [
      "Epoch 900/1000, Loss: 0.013799488544464111, Val Loss: 0.03706939518451691\n",
      "val AU ROC: 0.478\n",
      "val MAP: 0.478\n"
     ]
    },
    {
     "name": "stderr",
     "output_type": "stream",
     "text": [
      "/home/Sheila/miniconda3/envs/rewilding_tensorflow/lib/python3.10/site-packages/sklearn/metrics/_ranking.py:1033: UserWarning: No positive class found in y_true, recall is set to one for all thresholds.\n",
      "  warnings.warn(\n",
      "/home/Sheila/miniconda3/envs/rewilding_tensorflow/lib/python3.10/site-packages/sklearn/metrics/_ranking.py:1033: UserWarning: No positive class found in y_true, recall is set to one for all thresholds.\n",
      "  warnings.warn(\n",
      "/home/Sheila/miniconda3/envs/rewilding_tensorflow/lib/python3.10/site-packages/sklearn/metrics/_ranking.py:1033: UserWarning: No positive class found in y_true, recall is set to one for all thresholds.\n",
      "  warnings.warn(\n",
      "/home/Sheila/miniconda3/envs/rewilding_tensorflow/lib/python3.10/site-packages/sklearn/metrics/_ranking.py:1033: UserWarning: No positive class found in y_true, recall is set to one for all thresholds.\n",
      "  warnings.warn(\n",
      "/home/Sheila/miniconda3/envs/rewilding_tensorflow/lib/python3.10/site-packages/sklearn/metrics/_ranking.py:1033: UserWarning: No positive class found in y_true, recall is set to one for all thresholds.\n",
      "  warnings.warn(\n",
      "/home/Sheila/miniconda3/envs/rewilding_tensorflow/lib/python3.10/site-packages/sklearn/metrics/_ranking.py:1033: UserWarning: No positive class found in y_true, recall is set to one for all thresholds.\n",
      "  warnings.warn(\n"
     ]
    },
    {
     "name": "stdout",
     "output_type": "stream",
     "text": [
      "Epoch 1000/1000, Loss: 0.012236585840582848, Val Loss: 0.03847609460353851\n",
      "val AU ROC: 0.476\n",
      "val MAP: 0.476\n",
      "Training complete\n"
     ]
    },
    {
     "name": "stderr",
     "output_type": "stream",
     "text": [
      "/home/Sheila/miniconda3/envs/rewilding_tensorflow/lib/python3.10/site-packages/sklearn/metrics/_ranking.py:1033: UserWarning: No positive class found in y_true, recall is set to one for all thresholds.\n",
      "  warnings.warn(\n",
      "/home/Sheila/miniconda3/envs/rewilding_tensorflow/lib/python3.10/site-packages/sklearn/metrics/_ranking.py:1033: UserWarning: No positive class found in y_true, recall is set to one for all thresholds.\n",
      "  warnings.warn(\n",
      "/home/Sheila/miniconda3/envs/rewilding_tensorflow/lib/python3.10/site-packages/sklearn/metrics/_ranking.py:1033: UserWarning: No positive class found in y_true, recall is set to one for all thresholds.\n",
      "  warnings.warn(\n",
      "/home/Sheila/miniconda3/envs/rewilding_tensorflow/lib/python3.10/site-packages/sklearn/metrics/_ranking.py:1033: UserWarning: No positive class found in y_true, recall is set to one for all thresholds.\n",
      "  warnings.warn(\n",
      "/home/Sheila/miniconda3/envs/rewilding_tensorflow/lib/python3.10/site-packages/sklearn/metrics/_ranking.py:1033: UserWarning: No positive class found in y_true, recall is set to one for all thresholds.\n",
      "  warnings.warn(\n",
      "/home/Sheila/miniconda3/envs/rewilding_tensorflow/lib/python3.10/site-packages/sklearn/metrics/_ranking.py:1033: UserWarning: No positive class found in y_true, recall is set to one for all thresholds.\n",
      "  warnings.warn(\n"
     ]
    }
   ],
   "source": [
    "#used embeddings with quick fit to fit shallow classifier (perch_model.network)\n",
    "perch_model.change_classes(class_list) # replace fc layer with 1-output layer\n",
    "quick_fit(perch_model.network, emb_train, train_labels.values, emb_val, val_labels.values,steps=1000)"
   ]
  },
  {
   "cell_type": "code",
   "execution_count": 36,
   "metadata": {},
   "outputs": [],
   "source": [
    "perch_model.save(f'/mnt/class_data/group1_bioacoustics/sheila/Perch/{filename}.model')"
   ]
  }
 ],
 "metadata": {
  "kernelspec": {
   "display_name": "rewilding_tensorflow",
   "language": "python",
   "name": "python3"
  },
  "language_info": {
   "codemirror_mode": {
    "name": "ipython",
    "version": 3
   },
   "file_extension": ".py",
   "mimetype": "text/x-python",
   "name": "python",
   "nbconvert_exporter": "python",
   "pygments_lexer": "ipython3",
   "version": "3.10.16"
  }
 },
 "nbformat": 4,
 "nbformat_minor": 2
}
