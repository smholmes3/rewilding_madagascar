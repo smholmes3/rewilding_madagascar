{
 "cells": [
  {
   "cell_type": "code",
   "execution_count": 1,
   "metadata": {},
   "outputs": [],
   "source": [
    "import pandas as pd\n",
    "from sklearn.model_selection import train_test_split\n",
    "from opensoundscape import BoxedAnnotations, CNN\n",
    "from opensoundscape import SpectrogramPreprocessor\n",
    "import opensoundscape"
   ]
  },
  {
   "cell_type": "code",
   "execution_count": null,
   "metadata": {},
   "outputs": [],
   "source": [
    "#\n",
    "notebook_name = 'CNN_model_5s.ipynb'\n",
    "#\n",
    "save_path= '/mnt/class_data/group1_bioacoustics/sheila/model_checkpoints/model_11_5s'\n",
    "#\n",
    "current_script_path = '/home/Sheila/rewilding_madagascar/CNN_model_5s.ipynb'\n",
    "#\n",
    "target_path = '/mnt/class_data/group1_bioacoustics/sheila/model_checkpoints/CNN_model_5s.ipynb'\n",
    "#\n",
    "epochs = 30\n",
    "#\n",
    "log_interval=20\n",
    "#\n",
    "batch_size=256\n",
    "#\n",
    "n_samples_per_class = 1000\n",
    "#\n",
    "sample_duration=5\n",
    "#\n",
    "window_samples = 2048\n",
    "#\n",
    "min_f=0\n",
    "#\n",
    "max_f=9000\n",
    "#\n",
    "step_size = 10\n",
    "#\n",
    "gamma = 0.5\n",
    "#\n",
    "update_labels=True\n",
    "\n",
    "\n",
    "\n",
    "\n"
   ]
  },
  {
   "cell_type": "code",
   "execution_count": null,
   "metadata": {},
   "outputs": [
    {
     "data": {
      "text/html": [
       "<div>\n",
       "<style scoped>\n",
       "    .dataframe tbody tr th:only-of-type {\n",
       "        vertical-align: middle;\n",
       "    }\n",
       "\n",
       "    .dataframe tbody tr th {\n",
       "        vertical-align: top;\n",
       "    }\n",
       "\n",
       "    .dataframe thead th {\n",
       "        text-align: right;\n",
       "    }\n",
       "</style>\n",
       "<table border=\"1\" class=\"dataframe\">\n",
       "  <thead>\n",
       "    <tr style=\"text-align: right;\">\n",
       "      <th></th>\n",
       "      <th>Unnamed: 0</th>\n",
       "      <th>Begin Time (s)</th>\n",
       "      <th>End Time (s)</th>\n",
       "      <th>Low Freq (Hz)</th>\n",
       "      <th>High Freq (Hz)</th>\n",
       "      <th>Species</th>\n",
       "      <th>Conf</th>\n",
       "      <th>Call_type</th>\n",
       "      <th>Filename</th>\n",
       "      <th>SiteHab</th>\n",
       "      <th>RecordingSched</th>\n",
       "      <th>RecorderName</th>\n",
       "      <th>DP</th>\n",
       "      <th>SoundFile</th>\n",
       "      <th>SoundFile_path</th>\n",
       "      <th>Split</th>\n",
       "      <th>Raven_path</th>\n",
       "    </tr>\n",
       "  </thead>\n",
       "  <tbody>\n",
       "    <tr>\n",
       "      <th>0</th>\n",
       "      <td>0</td>\n",
       "      <td>0.763354</td>\n",
       "      <td>3.078034</td>\n",
       "      <td>2854.369</td>\n",
       "      <td>5965.410</td>\n",
       "      <td>Philepitta_castanea</td>\n",
       "      <td>NaN</td>\n",
       "      <td>NaN</td>\n",
       "      <td>AGN_A-AGN04_20230429_054000.txt</td>\n",
       "      <td>AGN</td>\n",
       "      <td>A</td>\n",
       "      <td>AGN_A-AGN04</td>\n",
       "      <td>AGN04</td>\n",
       "      <td>AGN_A-AGN04_20230429_054000.WAV</td>\n",
       "      <td>/mnt/class_data/group1_bioacoustics/sheila/cv4...</td>\n",
       "      <td>validation</td>\n",
       "      <td>/mnt/class_data/group1_bioacoustics/sheila/Pro...</td>\n",
       "    </tr>\n",
       "    <tr>\n",
       "      <th>1</th>\n",
       "      <td>1</td>\n",
       "      <td>6.588949</td>\n",
       "      <td>9.475884</td>\n",
       "      <td>2571.297</td>\n",
       "      <td>5451.150</td>\n",
       "      <td>Philepitta_castanea</td>\n",
       "      <td>NaN</td>\n",
       "      <td>NaN</td>\n",
       "      <td>AGN_A-AGN04_20230429_054000.txt</td>\n",
       "      <td>AGN</td>\n",
       "      <td>A</td>\n",
       "      <td>AGN_A-AGN04</td>\n",
       "      <td>AGN04</td>\n",
       "      <td>AGN_A-AGN04_20230429_054000.WAV</td>\n",
       "      <td>/mnt/class_data/group1_bioacoustics/sheila/cv4...</td>\n",
       "      <td>validation</td>\n",
       "      <td>/mnt/class_data/group1_bioacoustics/sheila/Pro...</td>\n",
       "    </tr>\n",
       "    <tr>\n",
       "      <th>2</th>\n",
       "      <td>2</td>\n",
       "      <td>10.434780</td>\n",
       "      <td>12.523959</td>\n",
       "      <td>3085.557</td>\n",
       "      <td>5348.299</td>\n",
       "      <td>Philepitta_castanea</td>\n",
       "      <td>NaN</td>\n",
       "      <td>NaN</td>\n",
       "      <td>AGN_A-AGN04_20230429_054000.txt</td>\n",
       "      <td>AGN</td>\n",
       "      <td>A</td>\n",
       "      <td>AGN_A-AGN04</td>\n",
       "      <td>AGN04</td>\n",
       "      <td>AGN_A-AGN04_20230429_054000.WAV</td>\n",
       "      <td>/mnt/class_data/group1_bioacoustics/sheila/cv4...</td>\n",
       "      <td>validation</td>\n",
       "      <td>/mnt/class_data/group1_bioacoustics/sheila/Pro...</td>\n",
       "    </tr>\n",
       "    <tr>\n",
       "      <th>3</th>\n",
       "      <td>3</td>\n",
       "      <td>14.854197</td>\n",
       "      <td>15.436757</td>\n",
       "      <td>3085.557</td>\n",
       "      <td>5862.558</td>\n",
       "      <td>Philepitta_castanea</td>\n",
       "      <td>NaN</td>\n",
       "      <td>NaN</td>\n",
       "      <td>AGN_A-AGN04_20230429_054000.txt</td>\n",
       "      <td>AGN</td>\n",
       "      <td>A</td>\n",
       "      <td>AGN_A-AGN04</td>\n",
       "      <td>AGN04</td>\n",
       "      <td>AGN_A-AGN04_20230429_054000.WAV</td>\n",
       "      <td>/mnt/class_data/group1_bioacoustics/sheila/cv4...</td>\n",
       "      <td>validation</td>\n",
       "      <td>/mnt/class_data/group1_bioacoustics/sheila/Pro...</td>\n",
       "    </tr>\n",
       "    <tr>\n",
       "      <th>4</th>\n",
       "      <td>4</td>\n",
       "      <td>55.578030</td>\n",
       "      <td>59.479764</td>\n",
       "      <td>2621.359</td>\n",
       "      <td>5475.728</td>\n",
       "      <td>Philepitta_castanea</td>\n",
       "      <td>NaN</td>\n",
       "      <td>NaN</td>\n",
       "      <td>AGN_A-AGN04_20230429_054000.txt</td>\n",
       "      <td>AGN</td>\n",
       "      <td>A</td>\n",
       "      <td>AGN_A-AGN04</td>\n",
       "      <td>AGN04</td>\n",
       "      <td>AGN_A-AGN04_20230429_054000.WAV</td>\n",
       "      <td>/mnt/class_data/group1_bioacoustics/sheila/cv4...</td>\n",
       "      <td>validation</td>\n",
       "      <td>/mnt/class_data/group1_bioacoustics/sheila/Pro...</td>\n",
       "    </tr>\n",
       "  </tbody>\n",
       "</table>\n",
       "</div>"
      ],
      "text/plain": [
       "   Unnamed: 0  Begin Time (s)  End Time (s)  Low Freq (Hz)  High Freq (Hz)  \\\n",
       "0           0        0.763354      3.078034       2854.369        5965.410   \n",
       "1           1        6.588949      9.475884       2571.297        5451.150   \n",
       "2           2       10.434780     12.523959       3085.557        5348.299   \n",
       "3           3       14.854197     15.436757       3085.557        5862.558   \n",
       "4           4       55.578030     59.479764       2621.359        5475.728   \n",
       "\n",
       "               Species  Conf Call_type                         Filename  \\\n",
       "0  Philepitta_castanea   NaN       NaN  AGN_A-AGN04_20230429_054000.txt   \n",
       "1  Philepitta_castanea   NaN       NaN  AGN_A-AGN04_20230429_054000.txt   \n",
       "2  Philepitta_castanea   NaN       NaN  AGN_A-AGN04_20230429_054000.txt   \n",
       "3  Philepitta_castanea   NaN       NaN  AGN_A-AGN04_20230429_054000.txt   \n",
       "4  Philepitta_castanea   NaN       NaN  AGN_A-AGN04_20230429_054000.txt   \n",
       "\n",
       "  SiteHab RecordingSched RecorderName     DP                        SoundFile  \\\n",
       "0     AGN              A  AGN_A-AGN04  AGN04  AGN_A-AGN04_20230429_054000.WAV   \n",
       "1     AGN              A  AGN_A-AGN04  AGN04  AGN_A-AGN04_20230429_054000.WAV   \n",
       "2     AGN              A  AGN_A-AGN04  AGN04  AGN_A-AGN04_20230429_054000.WAV   \n",
       "3     AGN              A  AGN_A-AGN04  AGN04  AGN_A-AGN04_20230429_054000.WAV   \n",
       "4     AGN              A  AGN_A-AGN04  AGN04  AGN_A-AGN04_20230429_054000.WAV   \n",
       "\n",
       "                                      SoundFile_path       Split  \\\n",
       "0  /mnt/class_data/group1_bioacoustics/sheila/cv4...  validation   \n",
       "1  /mnt/class_data/group1_bioacoustics/sheila/cv4...  validation   \n",
       "2  /mnt/class_data/group1_bioacoustics/sheila/cv4...  validation   \n",
       "3  /mnt/class_data/group1_bioacoustics/sheila/cv4...  validation   \n",
       "4  /mnt/class_data/group1_bioacoustics/sheila/cv4...  validation   \n",
       "\n",
       "                                          Raven_path  \n",
       "0  /mnt/class_data/group1_bioacoustics/sheila/Pro...  \n",
       "1  /mnt/class_data/group1_bioacoustics/sheila/Pro...  \n",
       "2  /mnt/class_data/group1_bioacoustics/sheila/Pro...  \n",
       "3  /mnt/class_data/group1_bioacoustics/sheila/Pro...  \n",
       "4  /mnt/class_data/group1_bioacoustics/sheila/Pro...  "
      ]
     },
     "metadata": {},
     "output_type": "display_data"
    }
   ],
   "source": [
    "metadata = pd.read_csv('./data/metadata.csv')\n",
    "metadata.head()"
   ]
  },
  {
   "cell_type": "code",
   "execution_count": null,
   "metadata": {},
   "outputs": [],
   "source": [
    "val_metadata=metadata[metadata[\"Split\"]==\"validation\"]\n",
    "train_metadata=metadata[metadata[\"Split\"]==\"train\"]\n",
    "test_metadata=metadata[metadata[\"Split\"]==\"test\"]"
   ]
  },
  {
   "cell_type": "code",
   "execution_count": null,
   "metadata": {},
   "outputs": [],
   "source": [
    "val_metadata=val_metadata.reset_index()\n",
    "train_metadata=train_metadata.reset_index()\n",
    "test_metadata=test_metadata.reset_index()"
   ]
  },
  {
   "cell_type": "code",
   "execution_count": null,
   "metadata": {},
   "outputs": [],
   "source": [
    "# assume we have a list of raven annotation files and corresponding audio files\n",
    "# load the annotations into OpenSoundscape\n",
    "raven_file_paths = val_metadata['Raven_path']\n",
    "audio_file_paths = val_metadata['SoundFile_path']\n",
    "val_annotations = BoxedAnnotations.from_raven_files(raven_file_paths,'species',audio_file_paths)\n",
    "\n",
    "raven_file_paths = train_metadata['Raven_path']\n",
    "audio_file_paths = train_metadata['SoundFile_path']\n",
    "train_annotations = BoxedAnnotations.from_raven_files(raven_file_paths,'species',audio_file_paths)\n",
    "\n",
    "raven_file_paths = test_metadata['Raven_path']\n",
    "audio_file_paths = test_metadata['SoundFile_path']\n",
    "test_annotations = BoxedAnnotations.from_raven_files(raven_file_paths,'species',audio_file_paths)"
   ]
  },
  {
   "cell_type": "code",
   "execution_count": null,
   "metadata": {},
   "outputs": [
    {
     "data": {
      "text/html": [
       "<div>\n",
       "<style scoped>\n",
       "    .dataframe tbody tr th:only-of-type {\n",
       "        vertical-align: middle;\n",
       "    }\n",
       "\n",
       "    .dataframe tbody tr th {\n",
       "        vertical-align: top;\n",
       "    }\n",
       "\n",
       "    .dataframe thead th {\n",
       "        text-align: right;\n",
       "    }\n",
       "</style>\n",
       "<table border=\"1\" class=\"dataframe\">\n",
       "  <thead>\n",
       "    <tr style=\"text-align: right;\">\n",
       "      <th></th>\n",
       "      <th>original</th>\n",
       "      <th>new</th>\n",
       "    </tr>\n",
       "  </thead>\n",
       "  <tbody>\n",
       "    <tr>\n",
       "      <th>0</th>\n",
       "      <td>Eulemur_albifrons</td>\n",
       "      <td>Eulemur_sp</td>\n",
       "    </tr>\n",
       "    <tr>\n",
       "      <th>1</th>\n",
       "      <td>Eulemur_fulvus</td>\n",
       "      <td>Eulemur_sp</td>\n",
       "    </tr>\n",
       "  </tbody>\n",
       "</table>\n",
       "</div>"
      ],
      "text/plain": [
       "            original         new\n",
       "0  Eulemur_albifrons  Eulemur_sp\n",
       "1     Eulemur_fulvus  Eulemur_sp"
      ]
     },
     "metadata": {},
     "output_type": "display_data"
    }
   ],
   "source": [
    "# We want to combine all Eulemur annotations to a single class at genus level\n",
    "# Create the table with a dataframe\n",
    "conversion_table = pd.DataFrame(\n",
    "    {'original':['Eulemur_albifrons', 'Eulemur_fulvus'],\n",
    "     'new':['Eulemur_sp', 'Eulemur_sp']}\n",
    ")\n",
    "\n",
    "# Or create the table in its own spreadsheet\n",
    "#conversion_table = pd.read_csv('my_conversion_filename_here.csv')\n",
    "\n",
    "conversion_table"
   ]
  },
  {
   "cell_type": "code",
   "execution_count": null,
   "metadata": {},
   "outputs": [
    {
     "data": {
      "text/html": [
       "<div>\n",
       "<style scoped>\n",
       "    .dataframe tbody tr th:only-of-type {\n",
       "        vertical-align: middle;\n",
       "    }\n",
       "\n",
       "    .dataframe tbody tr th {\n",
       "        vertical-align: top;\n",
       "    }\n",
       "\n",
       "    .dataframe thead th {\n",
       "        text-align: right;\n",
       "    }\n",
       "</style>\n",
       "<table border=\"1\" class=\"dataframe\">\n",
       "  <thead>\n",
       "    <tr style=\"text-align: right;\">\n",
       "      <th></th>\n",
       "      <th>audio_file</th>\n",
       "      <th>annotation_file</th>\n",
       "      <th>annotation</th>\n",
       "      <th>start_time</th>\n",
       "      <th>end_time</th>\n",
       "      <th>low_f</th>\n",
       "      <th>high_f</th>\n",
       "      <th>Delta Time (s)</th>\n",
       "      <th>Avg Power Density (dB FS/Hz)</th>\n",
       "      <th>View</th>\n",
       "      <th>Channel</th>\n",
       "      <th>Conf</th>\n",
       "      <th>Call_type</th>\n",
       "      <th>Delta Freq (Hz)</th>\n",
       "      <th>Selection</th>\n",
       "    </tr>\n",
       "  </thead>\n",
       "  <tbody>\n",
       "    <tr>\n",
       "      <th>0</th>\n",
       "      <td>/mnt/class_data/group1_bioacoustics/sheila/cv4...</td>\n",
       "      <td>/mnt/class_data/group1_bioacoustics/sheila/Pro...</td>\n",
       "      <td>Hypsipetes_madagascariensis</td>\n",
       "      <td>54.905264</td>\n",
       "      <td>56.190913</td>\n",
       "      <td>1968.454</td>\n",
       "      <td>5223.975</td>\n",
       "      <td>NaN</td>\n",
       "      <td>NaN</td>\n",
       "      <td>Spectrogram 1</td>\n",
       "      <td>1</td>\n",
       "      <td>0.9</td>\n",
       "      <td>call</td>\n",
       "      <td>NaN</td>\n",
       "      <td>1</td>\n",
       "    </tr>\n",
       "    <tr>\n",
       "      <th>1</th>\n",
       "      <td>/mnt/class_data/group1_bioacoustics/sheila/cv4...</td>\n",
       "      <td>/mnt/class_data/group1_bioacoustics/sheila/Pro...</td>\n",
       "      <td>Dicrurus_forficatus</td>\n",
       "      <td>4.943181</td>\n",
       "      <td>11.329778</td>\n",
       "      <td>659.794</td>\n",
       "      <td>5690.722</td>\n",
       "      <td>NaN</td>\n",
       "      <td>NaN</td>\n",
       "      <td>Spectrogram 1</td>\n",
       "      <td>1</td>\n",
       "      <td>0.9</td>\n",
       "      <td>call</td>\n",
       "      <td>NaN</td>\n",
       "      <td>1</td>\n",
       "    </tr>\n",
       "    <tr>\n",
       "      <th>2</th>\n",
       "      <td>/mnt/class_data/group1_bioacoustics/sheila/cv4...</td>\n",
       "      <td>/mnt/class_data/group1_bioacoustics/sheila/Pro...</td>\n",
       "      <td>Dicrurus_forficatus</td>\n",
       "      <td>13.011363</td>\n",
       "      <td>15.447871</td>\n",
       "      <td>551.700</td>\n",
       "      <td>5773.196</td>\n",
       "      <td>NaN</td>\n",
       "      <td>NaN</td>\n",
       "      <td>Spectrogram 1</td>\n",
       "      <td>1</td>\n",
       "      <td>0.9</td>\n",
       "      <td>call</td>\n",
       "      <td>NaN</td>\n",
       "      <td>2</td>\n",
       "    </tr>\n",
       "    <tr>\n",
       "      <th>3</th>\n",
       "      <td>/mnt/class_data/group1_bioacoustics/sheila/cv4...</td>\n",
       "      <td>/mnt/class_data/group1_bioacoustics/sheila/Pro...</td>\n",
       "      <td>Dicrurus_forficatus</td>\n",
       "      <td>17.215908</td>\n",
       "      <td>19.923388</td>\n",
       "      <td>494.845</td>\n",
       "      <td>5773.196</td>\n",
       "      <td>NaN</td>\n",
       "      <td>NaN</td>\n",
       "      <td>Spectrogram 1</td>\n",
       "      <td>1</td>\n",
       "      <td>0.9</td>\n",
       "      <td>call</td>\n",
       "      <td>NaN</td>\n",
       "      <td>3</td>\n",
       "    </tr>\n",
       "    <tr>\n",
       "      <th>4</th>\n",
       "      <td>/mnt/class_data/group1_bioacoustics/sheila/cv4...</td>\n",
       "      <td>/mnt/class_data/group1_bioacoustics/sheila/Pro...</td>\n",
       "      <td>Dicrurus_forficatus</td>\n",
       "      <td>24.282540</td>\n",
       "      <td>29.043458</td>\n",
       "      <td>742.268</td>\n",
       "      <td>6103.093</td>\n",
       "      <td>NaN</td>\n",
       "      <td>NaN</td>\n",
       "      <td>Spectrogram 1</td>\n",
       "      <td>1</td>\n",
       "      <td>0.9</td>\n",
       "      <td>call</td>\n",
       "      <td>NaN</td>\n",
       "      <td>4</td>\n",
       "    </tr>\n",
       "  </tbody>\n",
       "</table>\n",
       "</div>"
      ],
      "text/plain": [
       "                                          audio_file  \\\n",
       "0  /mnt/class_data/group1_bioacoustics/sheila/cv4...   \n",
       "1  /mnt/class_data/group1_bioacoustics/sheila/cv4...   \n",
       "2  /mnt/class_data/group1_bioacoustics/sheila/cv4...   \n",
       "3  /mnt/class_data/group1_bioacoustics/sheila/cv4...   \n",
       "4  /mnt/class_data/group1_bioacoustics/sheila/cv4...   \n",
       "\n",
       "                                     annotation_file  \\\n",
       "0  /mnt/class_data/group1_bioacoustics/sheila/Pro...   \n",
       "1  /mnt/class_data/group1_bioacoustics/sheila/Pro...   \n",
       "2  /mnt/class_data/group1_bioacoustics/sheila/Pro...   \n",
       "3  /mnt/class_data/group1_bioacoustics/sheila/Pro...   \n",
       "4  /mnt/class_data/group1_bioacoustics/sheila/Pro...   \n",
       "\n",
       "                    annotation  start_time   end_time     low_f    high_f  \\\n",
       "0  Hypsipetes_madagascariensis   54.905264  56.190913  1968.454  5223.975   \n",
       "1          Dicrurus_forficatus    4.943181  11.329778   659.794  5690.722   \n",
       "2          Dicrurus_forficatus   13.011363  15.447871   551.700  5773.196   \n",
       "3          Dicrurus_forficatus   17.215908  19.923388   494.845  5773.196   \n",
       "4          Dicrurus_forficatus   24.282540  29.043458   742.268  6103.093   \n",
       "\n",
       "   Delta Time (s)  Avg Power Density (dB FS/Hz)           View  Channel  Conf  \\\n",
       "0             NaN                           NaN  Spectrogram 1        1   0.9   \n",
       "1             NaN                           NaN  Spectrogram 1        1   0.9   \n",
       "2             NaN                           NaN  Spectrogram 1        1   0.9   \n",
       "3             NaN                           NaN  Spectrogram 1        1   0.9   \n",
       "4             NaN                           NaN  Spectrogram 1        1   0.9   \n",
       "\n",
       "  Call_type  Delta Freq (Hz)  Selection  \n",
       "0      call              NaN          1  \n",
       "1      call              NaN          1  \n",
       "2      call              NaN          2  \n",
       "3      call              NaN          3  \n",
       "4      call              NaN          4  "
      ]
     },
     "metadata": {},
     "output_type": "display_data"
    }
   ],
   "source": [
    "#correct annotations in each of the splits\n",
    "val_annotations_corrected = val_annotations.convert_labels(conversion_table)\n",
    "val_annotations_corrected.audio_files = val_annotations_corrected.df['audio_file'].values #workaround for issue #872\n",
    "val_annotations_corrected.df.head()\n",
    "\n",
    "train_annotations_corrected = train_annotations.convert_labels(conversion_table)\n",
    "train_annotations_corrected.audio_files = train_annotations_corrected.df['audio_file'].values #workaround for issue #872\n",
    "train_annotations_corrected.df.head()\n",
    "\n",
    "test_annotations_corrected = test_annotations.convert_labels(conversion_table)\n",
    "test_annotations_corrected.audio_files = test_annotations_corrected.df['audio_file'].values #workaround for issue #872\n",
    "test_annotations_corrected.df.head()\n"
   ]
  },
  {
   "cell_type": "code",
   "execution_count": null,
   "metadata": {},
   "outputs": [],
   "source": [
    "# pick classes to train the model on. These should occur in the annotated data\n",
    "class_list = ['Hypsipetes_madagascariensis','Copsychus_albospecularis','Coracopsis_nigra','Dicrurus_forficatus','Coua_caerulea','Zosterops_maderaspatanus','Eurystomus_glaucurus','Agapornis_canus','Saxicola_torquatus','Cyanolanius_madagascarinus','Leptopterus_chabert','Nesoenas_picturatus','Coua_reynaudii','Ceblepyris_cinereus','Neodrepanis_coruscans','Philepitta_castanea','Eulemur_sp','Coua_cristata','Treron_australis']"
   ]
  },
  {
   "cell_type": "code",
   "execution_count": null,
   "metadata": {},
   "outputs": [],
   "source": [
    "# create labels for fixed-duration (5 second) clips\n",
    "val_labels = val_annotations_corrected.clip_labels(\n",
    "  clip_duration=sample_duration,\n",
    "  clip_overlap=0,\n",
    "  min_label_overlap=0.25,\n",
    "  class_subset=class_list\n",
    ")\n",
    "\n",
    "train_labels = train_annotations_corrected.clip_labels(\n",
    "  clip_duration=sample_duration,\n",
    "  clip_overlap=0,\n",
    "  min_label_overlap=0.25,\n",
    "  class_subset=class_list\n",
    ")\n",
    "\n",
    "test_labels = test_annotations_corrected.clip_labels(\n",
    "  clip_duration=sample_duration,\n",
    "  clip_overlap=0,\n",
    "  min_label_overlap=0.25,\n",
    "  class_subset=class_list\n",
    ")"
   ]
  },
  {
   "cell_type": "code",
   "execution_count": null,
   "metadata": {},
   "outputs": [],
   "source": [
    "train_labels_resampled = opensoundscape.data_selection.resample(train_labels,n_samples_per_class = n_samples_per_class, downsample = False,upsample = True)"
   ]
  },
  {
   "cell_type": "code",
   "execution_count": null,
   "metadata": {},
   "outputs": [
    {
     "name": "stderr",
     "output_type": "stream",
     "text": [
      "\u001b[34m\u001b[1mwandb\u001b[0m: Currently logged in as: \u001b[33msheila-holmes\u001b[0m (\u001b[33msheila-holmes-swedish-university-of-agricultural-sciences\u001b[0m). Use \u001b[1m`wandb login --relogin`\u001b[0m to force relogin\n",
      "\u001b[34m\u001b[1mwandb\u001b[0m: Using wandb-core as the SDK backend.  Please refer to https://wandb.me/wandb-core for more information.\n"
     ]
    },
    {
     "data": {
      "text/html": [
       "Tracking run with wandb version 0.19.4"
      ],
      "text/plain": [
       "<IPython.core.display.HTML object>"
      ]
     },
     "metadata": {},
     "output_type": "display_data"
    },
    {
     "data": {
      "text/html": [
       "Run data is saved locally in <code>/home/Sheila/rewilding_madagascar/wandb/run-20250122_003102-fhmj193n</code>"
      ],
      "text/plain": [
       "<IPython.core.display.HTML object>"
      ]
     },
     "metadata": {},
     "output_type": "display_data"
    },
    {
     "data": {
      "text/html": [
       "Syncing run <strong><a href='https://wandb.ai/sheila-holmes-swedish-university-of-agricultural-sciences/Rewilding_Madagascar/runs/fhmj193n' target=\"_blank\">fearless-sunset-35</a></strong> to <a href='https://wandb.ai/sheila-holmes-swedish-university-of-agricultural-sciences/Rewilding_Madagascar' target=\"_blank\">Weights & Biases</a> (<a href='https://wandb.me/developer-guide' target=\"_blank\">docs</a>)<br>"
      ],
      "text/plain": [
       "<IPython.core.display.HTML object>"
      ]
     },
     "metadata": {},
     "output_type": "display_data"
    },
    {
     "data": {
      "text/html": [
       " View project at <a href='https://wandb.ai/sheila-holmes-swedish-university-of-agricultural-sciences/Rewilding_Madagascar' target=\"_blank\">https://wandb.ai/sheila-holmes-swedish-university-of-agricultural-sciences/Rewilding_Madagascar</a>"
      ],
      "text/plain": [
       "<IPython.core.display.HTML object>"
      ]
     },
     "metadata": {},
     "output_type": "display_data"
    },
    {
     "data": {
      "text/html": [
       " View run at <a href='https://wandb.ai/sheila-holmes-swedish-university-of-agricultural-sciences/Rewilding_Madagascar/runs/fhmj193n' target=\"_blank\">https://wandb.ai/sheila-holmes-swedish-university-of-agricultural-sciences/Rewilding_Madagascar/runs/fhmj193n</a>"
      ],
      "text/plain": [
       "<IPython.core.display.HTML object>"
      ]
     },
     "metadata": {},
     "output_type": "display_data"
    },
    {
     "name": "stderr",
     "output_type": "stream",
     "text": [
      "\u001b[34m\u001b[1mwandb\u001b[0m: \u001b[33mWARNING\u001b[0m Fatal error while uploading data. Some run data will not be synced, but it will still be written to disk. Use `wandb sync` at the end of the run to try uploading.\n"
     ]
    }
   ],
   "source": [
    "import wandb\n",
    "'''wandb.login()'''#when logging in on a new machine\n",
    "wandb_session = wandb.init(\n",
    "    project='Rewilding_Madagascar',\n",
    ")"
   ]
  },
  {
   "cell_type": "code",
   "execution_count": null,
   "metadata": {},
   "outputs": [],
   "source": [
    "#create new model and change parameters then visualize\n",
    "# create a CNN and train on the labeled data\n",
    "model = CNN(architecture='resnet18', sample_duration=sample_duration, classes=class_list)\n"
   ]
  },
  {
   "cell_type": "code",
   "execution_count": null,
   "metadata": {},
   "outputs": [],
   "source": [
    "'''#Include a step in my preprocessing that does the overlay - it will pick a sample from overlay df and combine with sample currently pre-processing'''\n",
    "my_preprocessor = SpectrogramPreprocessor(sample_duration = sample_duration, overlay_df=train_labels)\n",
    "model.preprocessor = my_preprocessor"
   ]
  },
  {
   "cell_type": "code",
   "execution_count": null,
   "metadata": {},
   "outputs": [],
   "source": [
    "\n",
    "#changes learning rate over time\n",
    "#default is wait a certain number of epochs and then multiply by x (step learning)\n",
    "model.lr_scheduler_params['kwargs']['step_size'] = step_size\n",
    "model.lr_scheduler_params['kwargs']['gamma'] = gamma"
   ]
  },
  {
   "cell_type": "code",
   "execution_count": null,
   "metadata": {},
   "outputs": [],
   "source": [
    "model.preprocessor.pipeline.overlay.set(update_labels=update_labels)\n",
    "model.preprocessor.pipeline.bandpass.set(min_f=min_f,max_f=max_f)\n",
    "model.preprocessor.pipeline.to_spec.params.window_samples = window_samples\n",
    "model.train(train_labels_resampled, val_labels, epochs=epochs, log_interval=log_interval, num_workers=8, batch_size=batch_size, wandb_session = wandb_session, save_path= save_path)\n",
    "wandb_session.finish()"
   ]
  },
  {
   "cell_type": "code",
   "execution_count": null,
   "metadata": {},
   "outputs": [
    {
     "name": "stdout",
     "output_type": "stream",
     "text": [
      "Notebook copied successfully to /mnt/class_data/group1_bioacoustics/sheila/model_checkpoints/CNN_model_overlay.ipynb\n"
     ]
    }
   ],
   "source": [
    "import shutil\n",
    "import os\n",
    "\n",
    "# Use shutil.copyfile to copy the notebook\n",
    "try:\n",
    "    shutil.copyfile(current_script_path, target_path)\n",
    "    print(f\"Notebook copied successfully to {target_path}\")\n",
    "except Exception as e:\n",
    "    print(f\"An error occurred while copying the file: {e}\")\n",
    "\n"
   ]
  }
 ],
 "metadata": {
  "kernelspec": {
   "display_name": "rewilding_cv4e",
   "language": "python",
   "name": "python3"
  },
  "language_info": {
   "codemirror_mode": {
    "name": "ipython",
    "version": 3
   },
   "file_extension": ".py",
   "mimetype": "text/x-python",
   "name": "python",
   "nbconvert_exporter": "python",
   "pygments_lexer": "ipython3",
   "version": "3.10.16"
  }
 },
 "nbformat": 4,
 "nbformat_minor": 2
}
