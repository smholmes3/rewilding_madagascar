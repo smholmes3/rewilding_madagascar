{
 "cells": [
  {
   "cell_type": "code",
   "execution_count": null,
   "metadata": {},
   "outputs": [
    {
     "name": "stderr",
     "output_type": "stream",
     "text": [
      "2025-03-21 20:30:02.559709: I tensorflow/core/platform/cpu_feature_guard.cc:210] This TensorFlow binary is optimized to use available CPU instructions in performance-critical operations.\n",
      "To enable the following instructions: AVX2 FMA, in other operations, rebuild TensorFlow with the appropriate compiler flags.\n"
     ]
    },
    {
     "name": "stdout",
     "output_type": "stream",
     "text": [
      "\n",
      "Testing with 8 intra-op threads and 8 inter-op threads...\n",
      "Time taken: 0.0464 seconds\n"
     ]
    },
    {
     "ename": "RuntimeError",
     "evalue": "Intra op parallelism cannot be modified after initialization.",
     "output_type": "error",
     "traceback": [
      "\u001b[0;31m---------------------------------------------------------------------------\u001b[0m",
      "\u001b[0;31mRuntimeError\u001b[0m                              Traceback (most recent call last)",
      "Cell \u001b[0;32mIn[1], line 42\u001b[0m\n\u001b[1;32m     39\u001b[0m         \u001b[38;5;28mprint\u001b[39m(\u001b[38;5;124mf\u001b[39m\u001b[38;5;124m\"\u001b[39m\u001b[38;5;124mTime taken: \u001b[39m\u001b[38;5;132;01m{\u001b[39;00mend_time\u001b[38;5;250m \u001b[39m\u001b[38;5;241m-\u001b[39m\u001b[38;5;250m \u001b[39mstart_time\u001b[38;5;132;01m:\u001b[39;00m\u001b[38;5;124m.4f\u001b[39m\u001b[38;5;132;01m}\u001b[39;00m\u001b[38;5;124m seconds\u001b[39m\u001b[38;5;124m\"\u001b[39m)\n\u001b[1;32m     41\u001b[0m \u001b[38;5;66;03m# Run the test\u001b[39;00m\n\u001b[0;32m---> 42\u001b[0m \u001b[43mtest_threading_configurations\u001b[49m\u001b[43m(\u001b[49m\u001b[43m)\u001b[49m\n",
      "Cell \u001b[0;32mIn[1], line 32\u001b[0m, in \u001b[0;36mtest_threading_configurations\u001b[0;34m()\u001b[0m\n\u001b[1;32m     26\u001b[0m threading_configs \u001b[38;5;241m=\u001b[39m [\n\u001b[1;32m     27\u001b[0m     (\u001b[38;5;241m8\u001b[39m, \u001b[38;5;241m8\u001b[39m),\n\u001b[1;32m     28\u001b[0m     (\u001b[38;5;241m16\u001b[39m, \u001b[38;5;241m16\u001b[39m),\n\u001b[1;32m     29\u001b[0m ]\n\u001b[1;32m     31\u001b[0m \u001b[38;5;28;01mfor\u001b[39;00m intra, inter \u001b[38;5;129;01min\u001b[39;00m threading_configs:\n\u001b[0;32m---> 32\u001b[0m     \u001b[43mset_threading_config\u001b[49m\u001b[43m(\u001b[49m\u001b[43mintra\u001b[49m\u001b[43m,\u001b[49m\u001b[43m \u001b[49m\u001b[43minter\u001b[49m\u001b[43m)\u001b[49m  \u001b[38;5;66;03m# Set the threads before running the model\u001b[39;00m\n\u001b[1;32m     33\u001b[0m     \u001b[38;5;28mprint\u001b[39m(\u001b[38;5;124mf\u001b[39m\u001b[38;5;124m\"\u001b[39m\u001b[38;5;130;01m\\n\u001b[39;00m\u001b[38;5;124mTesting with \u001b[39m\u001b[38;5;132;01m{\u001b[39;00mintra\u001b[38;5;132;01m}\u001b[39;00m\u001b[38;5;124m intra-op threads and \u001b[39m\u001b[38;5;132;01m{\u001b[39;00minter\u001b[38;5;132;01m}\u001b[39;00m\u001b[38;5;124m inter-op threads...\u001b[39m\u001b[38;5;124m\"\u001b[39m)\n\u001b[1;32m     35\u001b[0m     start_time \u001b[38;5;241m=\u001b[39m time\u001b[38;5;241m.\u001b[39mtime()\n",
      "Cell \u001b[0;32mIn[1], line 13\u001b[0m, in \u001b[0;36mset_threading_config\u001b[0;34m(intra_threads, inter_threads)\u001b[0m\n\u001b[1;32m     12\u001b[0m \u001b[38;5;28;01mdef\u001b[39;00m\u001b[38;5;250m \u001b[39m\u001b[38;5;21mset_threading_config\u001b[39m(intra_threads, inter_threads):\n\u001b[0;32m---> 13\u001b[0m     \u001b[43mtf\u001b[49m\u001b[38;5;241;43m.\u001b[39;49m\u001b[43mconfig\u001b[49m\u001b[38;5;241;43m.\u001b[39;49m\u001b[43mthreading\u001b[49m\u001b[38;5;241;43m.\u001b[39;49m\u001b[43mset_intra_op_parallelism_threads\u001b[49m\u001b[43m(\u001b[49m\u001b[43mintra_threads\u001b[49m\u001b[43m)\u001b[49m\n\u001b[1;32m     14\u001b[0m     tf\u001b[38;5;241m.\u001b[39mconfig\u001b[38;5;241m.\u001b[39mthreading\u001b[38;5;241m.\u001b[39mset_inter_op_parallelism_threads(inter_threads)\n",
      "File \u001b[0;32m~/Linux/miniconda3/envs/rewilding_tensorflow_wsl/lib/python3.10/site-packages/tensorflow/python/framework/config.py:129\u001b[0m, in \u001b[0;36mset_intra_op_parallelism_threads\u001b[0;34m(num_threads)\u001b[0m\n\u001b[1;32m    118\u001b[0m \u001b[38;5;129m@tf_export\u001b[39m(\u001b[38;5;124m'\u001b[39m\u001b[38;5;124mconfig.threading.set_intra_op_parallelism_threads\u001b[39m\u001b[38;5;124m'\u001b[39m)\n\u001b[1;32m    119\u001b[0m \u001b[38;5;28;01mdef\u001b[39;00m\u001b[38;5;250m \u001b[39m\u001b[38;5;21mset_intra_op_parallelism_threads\u001b[39m(num_threads):\n\u001b[1;32m    120\u001b[0m \u001b[38;5;250m  \u001b[39m\u001b[38;5;124;03m\"\"\"Set number of threads used within an individual op for parallelism.\u001b[39;00m\n\u001b[1;32m    121\u001b[0m \n\u001b[1;32m    122\u001b[0m \u001b[38;5;124;03m  Certain operations like matrix multiplication and reductions can utilize\u001b[39;00m\n\u001b[0;32m   (...)\u001b[0m\n\u001b[1;32m    127\u001b[0m \u001b[38;5;124;03m    num_threads: Number of parallel threads\u001b[39;00m\n\u001b[1;32m    128\u001b[0m \u001b[38;5;124;03m  \"\"\"\u001b[39;00m\n\u001b[0;32m--> 129\u001b[0m   \u001b[43mcontext\u001b[49m\u001b[38;5;241;43m.\u001b[39;49m\u001b[43mcontext\u001b[49m\u001b[43m(\u001b[49m\u001b[43m)\u001b[49m\u001b[38;5;241;43m.\u001b[39;49m\u001b[43mintra_op_parallelism_threads\u001b[49m \u001b[38;5;241m=\u001b[39m num_threads\n",
      "File \u001b[0;32m~/Linux/miniconda3/envs/rewilding_tensorflow_wsl/lib/python3.10/site-packages/tensorflow/python/eager/context.py:2233\u001b[0m, in \u001b[0;36mContext.intra_op_parallelism_threads\u001b[0;34m(self, num_threads)\u001b[0m\n\u001b[1;32m   2230\u001b[0m   \u001b[38;5;28;01mreturn\u001b[39;00m\n\u001b[1;32m   2232\u001b[0m \u001b[38;5;28;01mif\u001b[39;00m \u001b[38;5;28mself\u001b[39m\u001b[38;5;241m.\u001b[39m_context_handle \u001b[38;5;129;01mis\u001b[39;00m \u001b[38;5;129;01mnot\u001b[39;00m \u001b[38;5;28;01mNone\u001b[39;00m:\n\u001b[0;32m-> 2233\u001b[0m   \u001b[38;5;28;01mraise\u001b[39;00m \u001b[38;5;167;01mRuntimeError\u001b[39;00m(\n\u001b[1;32m   2234\u001b[0m       \u001b[38;5;124m\"\u001b[39m\u001b[38;5;124mIntra op parallelism cannot be modified after initialization.\u001b[39m\u001b[38;5;124m\"\u001b[39m\n\u001b[1;32m   2235\u001b[0m   )\n\u001b[1;32m   2237\u001b[0m \u001b[38;5;28mself\u001b[39m\u001b[38;5;241m.\u001b[39m_intra_op_parallelism_threads \u001b[38;5;241m=\u001b[39m num_threads\n",
      "\u001b[0;31mRuntimeError\u001b[0m: Intra op parallelism cannot be modified after initialization."
     ]
    }
   ],
   "source": [
    "import os\n",
    "import time\n",
    "\n",
    "# Set environment variables for threading configuration\n",
    "os.environ[\"TF_INTRAOP_PARALLELISM\"] = \"4\"  # Set intra-op threads\n",
    "os.environ[\"TF_INTEROP_PARALLELISM\"] = \"4\"  # Set inter-op threads\n",
    "\n",
    "# Now import TensorFlow after setting environment variables\n",
    "import tensorflow as tf\n",
    "\n",
    "# Set threading configuration function\n",
    "def set_threading_config(intra_threads, inter_threads):\n",
    "    tf.config.threading.set_intra_op_parallelism_threads(intra_threads)\n",
    "    tf.config.threading.set_inter_op_parallelism_threads(inter_threads)\n",
    "\n",
    "# Simple model for testing\n",
    "def test_model():\n",
    "    # A simple matrix multiplication operation for testing\n",
    "    x = tf.random.normal([1000, 1000])\n",
    "    y = tf.random.normal([1000, 1000])\n",
    "    result = tf.matmul(x, y)\n",
    "    return result\n",
    "\n",
    "# Timing function for testing various threading configurations\n",
    "def test_threading_configurations():\n",
    "    threading_configs = [\n",
    "        (2, 2),\n",
    "        (4, 4),\n",
    "        (8, 8),\n",
    "        (16, 16),\n",
    "    ]\n",
    "\n",
    "    for intra, inter in threading_configs:\n",
    "        set_threading_config(intra, inter)  # Set the threads before running the model\n",
    "        print(f\"\\nTesting with {intra} intra-op threads and {inter} inter-op threads...\")\n",
    "        \n",
    "        start_time = time.time()\n",
    "        test_model()  # Run the test model\n",
    "        end_time = time.time()\n",
    "        \n",
    "        print(f\"Time taken: {end_time - start_time:.4f} seconds\")\n",
    "\n",
    "# Run the test\n",
    "test_threading_configurations()\n"
   ]
  }
 ],
 "metadata": {
  "kernelspec": {
   "display_name": "rewilding_tensorflow_wsl",
   "language": "python",
   "name": "python3"
  },
  "language_info": {
   "codemirror_mode": {
    "name": "ipython",
    "version": 3
   },
   "file_extension": ".py",
   "mimetype": "text/x-python",
   "name": "python",
   "nbconvert_exporter": "python",
   "pygments_lexer": "ipython3",
   "version": "3.10.16"
  }
 },
 "nbformat": 4,
 "nbformat_minor": 2
}
