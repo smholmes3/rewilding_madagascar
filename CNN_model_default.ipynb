{
 "cells": [
  {
   "cell_type": "code",
   "execution_count": 1,
   "metadata": {},
   "outputs": [],
   "source": [
    "import pandas as pd"
   ]
  },
  {
   "cell_type": "code",
   "execution_count": 2,
   "metadata": {},
   "outputs": [],
   "source": [
    "from sklearn.model_selection import train_test_split\n",
    "from opensoundscape import BoxedAnnotations, CNN"
   ]
  },
  {
   "cell_type": "code",
   "execution_count": 3,
   "metadata": {},
   "outputs": [
    {
     "data": {
      "text/html": [
       "<div>\n",
       "<style scoped>\n",
       "    .dataframe tbody tr th:only-of-type {\n",
       "        vertical-align: middle;\n",
       "    }\n",
       "\n",
       "    .dataframe tbody tr th {\n",
       "        vertical-align: top;\n",
       "    }\n",
       "\n",
       "    .dataframe thead th {\n",
       "        text-align: right;\n",
       "    }\n",
       "</style>\n",
       "<table border=\"1\" class=\"dataframe\">\n",
       "  <thead>\n",
       "    <tr style=\"text-align: right;\">\n",
       "      <th></th>\n",
       "      <th>Unnamed: 0</th>\n",
       "      <th>Begin Time (s)</th>\n",
       "      <th>End Time (s)</th>\n",
       "      <th>Low Freq (Hz)</th>\n",
       "      <th>High Freq (Hz)</th>\n",
       "      <th>Species</th>\n",
       "      <th>Conf</th>\n",
       "      <th>Call_type</th>\n",
       "      <th>Filename</th>\n",
       "      <th>SiteHab</th>\n",
       "      <th>RecordingSched</th>\n",
       "      <th>RecorderName</th>\n",
       "      <th>DP</th>\n",
       "      <th>SoundFile</th>\n",
       "      <th>SoundFile_path</th>\n",
       "      <th>Split</th>\n",
       "      <th>Raven_path</th>\n",
       "    </tr>\n",
       "  </thead>\n",
       "  <tbody>\n",
       "    <tr>\n",
       "      <th>0</th>\n",
       "      <td>0</td>\n",
       "      <td>0.763354</td>\n",
       "      <td>3.078034</td>\n",
       "      <td>2854.369</td>\n",
       "      <td>5965.410</td>\n",
       "      <td>Philepitta_castanea</td>\n",
       "      <td>NaN</td>\n",
       "      <td>NaN</td>\n",
       "      <td>AGN_A-AGN04_20230429_054000.txt</td>\n",
       "      <td>AGN</td>\n",
       "      <td>A</td>\n",
       "      <td>AGN_A-AGN04</td>\n",
       "      <td>AGN04</td>\n",
       "      <td>AGN_A-AGN04_20230429_054000.WAV</td>\n",
       "      <td>/mnt/class_data/group1_bioacoustics/sheila/cv4...</td>\n",
       "      <td>validation</td>\n",
       "      <td>/mnt/class_data/group1_bioacoustics/sheila/Pro...</td>\n",
       "    </tr>\n",
       "    <tr>\n",
       "      <th>1</th>\n",
       "      <td>1</td>\n",
       "      <td>6.588949</td>\n",
       "      <td>9.475884</td>\n",
       "      <td>2571.297</td>\n",
       "      <td>5451.150</td>\n",
       "      <td>Philepitta_castanea</td>\n",
       "      <td>NaN</td>\n",
       "      <td>NaN</td>\n",
       "      <td>AGN_A-AGN04_20230429_054000.txt</td>\n",
       "      <td>AGN</td>\n",
       "      <td>A</td>\n",
       "      <td>AGN_A-AGN04</td>\n",
       "      <td>AGN04</td>\n",
       "      <td>AGN_A-AGN04_20230429_054000.WAV</td>\n",
       "      <td>/mnt/class_data/group1_bioacoustics/sheila/cv4...</td>\n",
       "      <td>validation</td>\n",
       "      <td>/mnt/class_data/group1_bioacoustics/sheila/Pro...</td>\n",
       "    </tr>\n",
       "    <tr>\n",
       "      <th>2</th>\n",
       "      <td>2</td>\n",
       "      <td>10.434780</td>\n",
       "      <td>12.523959</td>\n",
       "      <td>3085.557</td>\n",
       "      <td>5348.299</td>\n",
       "      <td>Philepitta_castanea</td>\n",
       "      <td>NaN</td>\n",
       "      <td>NaN</td>\n",
       "      <td>AGN_A-AGN04_20230429_054000.txt</td>\n",
       "      <td>AGN</td>\n",
       "      <td>A</td>\n",
       "      <td>AGN_A-AGN04</td>\n",
       "      <td>AGN04</td>\n",
       "      <td>AGN_A-AGN04_20230429_054000.WAV</td>\n",
       "      <td>/mnt/class_data/group1_bioacoustics/sheila/cv4...</td>\n",
       "      <td>validation</td>\n",
       "      <td>/mnt/class_data/group1_bioacoustics/sheila/Pro...</td>\n",
       "    </tr>\n",
       "    <tr>\n",
       "      <th>3</th>\n",
       "      <td>3</td>\n",
       "      <td>14.854197</td>\n",
       "      <td>15.436757</td>\n",
       "      <td>3085.557</td>\n",
       "      <td>5862.558</td>\n",
       "      <td>Philepitta_castanea</td>\n",
       "      <td>NaN</td>\n",
       "      <td>NaN</td>\n",
       "      <td>AGN_A-AGN04_20230429_054000.txt</td>\n",
       "      <td>AGN</td>\n",
       "      <td>A</td>\n",
       "      <td>AGN_A-AGN04</td>\n",
       "      <td>AGN04</td>\n",
       "      <td>AGN_A-AGN04_20230429_054000.WAV</td>\n",
       "      <td>/mnt/class_data/group1_bioacoustics/sheila/cv4...</td>\n",
       "      <td>validation</td>\n",
       "      <td>/mnt/class_data/group1_bioacoustics/sheila/Pro...</td>\n",
       "    </tr>\n",
       "    <tr>\n",
       "      <th>4</th>\n",
       "      <td>4</td>\n",
       "      <td>55.578030</td>\n",
       "      <td>59.479764</td>\n",
       "      <td>2621.359</td>\n",
       "      <td>5475.728</td>\n",
       "      <td>Philepitta_castanea</td>\n",
       "      <td>NaN</td>\n",
       "      <td>NaN</td>\n",
       "      <td>AGN_A-AGN04_20230429_054000.txt</td>\n",
       "      <td>AGN</td>\n",
       "      <td>A</td>\n",
       "      <td>AGN_A-AGN04</td>\n",
       "      <td>AGN04</td>\n",
       "      <td>AGN_A-AGN04_20230429_054000.WAV</td>\n",
       "      <td>/mnt/class_data/group1_bioacoustics/sheila/cv4...</td>\n",
       "      <td>validation</td>\n",
       "      <td>/mnt/class_data/group1_bioacoustics/sheila/Pro...</td>\n",
       "    </tr>\n",
       "  </tbody>\n",
       "</table>\n",
       "</div>"
      ],
      "text/plain": [
       "   Unnamed: 0  Begin Time (s)  End Time (s)  Low Freq (Hz)  High Freq (Hz)  \\\n",
       "0           0        0.763354      3.078034       2854.369        5965.410   \n",
       "1           1        6.588949      9.475884       2571.297        5451.150   \n",
       "2           2       10.434780     12.523959       3085.557        5348.299   \n",
       "3           3       14.854197     15.436757       3085.557        5862.558   \n",
       "4           4       55.578030     59.479764       2621.359        5475.728   \n",
       "\n",
       "               Species  Conf Call_type                         Filename  \\\n",
       "0  Philepitta_castanea   NaN       NaN  AGN_A-AGN04_20230429_054000.txt   \n",
       "1  Philepitta_castanea   NaN       NaN  AGN_A-AGN04_20230429_054000.txt   \n",
       "2  Philepitta_castanea   NaN       NaN  AGN_A-AGN04_20230429_054000.txt   \n",
       "3  Philepitta_castanea   NaN       NaN  AGN_A-AGN04_20230429_054000.txt   \n",
       "4  Philepitta_castanea   NaN       NaN  AGN_A-AGN04_20230429_054000.txt   \n",
       "\n",
       "  SiteHab RecordingSched RecorderName     DP                        SoundFile  \\\n",
       "0     AGN              A  AGN_A-AGN04  AGN04  AGN_A-AGN04_20230429_054000.WAV   \n",
       "1     AGN              A  AGN_A-AGN04  AGN04  AGN_A-AGN04_20230429_054000.WAV   \n",
       "2     AGN              A  AGN_A-AGN04  AGN04  AGN_A-AGN04_20230429_054000.WAV   \n",
       "3     AGN              A  AGN_A-AGN04  AGN04  AGN_A-AGN04_20230429_054000.WAV   \n",
       "4     AGN              A  AGN_A-AGN04  AGN04  AGN_A-AGN04_20230429_054000.WAV   \n",
       "\n",
       "                                      SoundFile_path       Split  \\\n",
       "0  /mnt/class_data/group1_bioacoustics/sheila/cv4...  validation   \n",
       "1  /mnt/class_data/group1_bioacoustics/sheila/cv4...  validation   \n",
       "2  /mnt/class_data/group1_bioacoustics/sheila/cv4...  validation   \n",
       "3  /mnt/class_data/group1_bioacoustics/sheila/cv4...  validation   \n",
       "4  /mnt/class_data/group1_bioacoustics/sheila/cv4...  validation   \n",
       "\n",
       "                                          Raven_path  \n",
       "0  /mnt/class_data/group1_bioacoustics/sheila/Pro...  \n",
       "1  /mnt/class_data/group1_bioacoustics/sheila/Pro...  \n",
       "2  /mnt/class_data/group1_bioacoustics/sheila/Pro...  \n",
       "3  /mnt/class_data/group1_bioacoustics/sheila/Pro...  \n",
       "4  /mnt/class_data/group1_bioacoustics/sheila/Pro...  "
      ]
     },
     "execution_count": 3,
     "metadata": {},
     "output_type": "execute_result"
    }
   ],
   "source": [
    "metadata = pd.read_csv('./data/metadata.csv')\n",
    "metadata.head()"
   ]
  },
  {
   "cell_type": "code",
   "execution_count": 4,
   "metadata": {},
   "outputs": [
    {
     "name": "stdout",
     "output_type": "stream",
     "text": [
      "<class 'pandas.core.frame.DataFrame'>\n",
      "RangeIndex: 6875 entries, 0 to 6874\n",
      "Data columns (total 17 columns):\n",
      " #   Column          Non-Null Count  Dtype  \n",
      "---  ------          --------------  -----  \n",
      " 0   Unnamed: 0      6875 non-null   int64  \n",
      " 1   Begin Time (s)  6875 non-null   float64\n",
      " 2   End Time (s)    6875 non-null   float64\n",
      " 3   Low Freq (Hz)   6875 non-null   float64\n",
      " 4   High Freq (Hz)  6875 non-null   float64\n",
      " 5   Species         6865 non-null   object \n",
      " 6   Conf            5972 non-null   float64\n",
      " 7   Call_type       5904 non-null   object \n",
      " 8   Filename        6875 non-null   object \n",
      " 9   SiteHab         6875 non-null   object \n",
      " 10  RecordingSched  6875 non-null   object \n",
      " 11  RecorderName    6875 non-null   object \n",
      " 12  DP              6875 non-null   object \n",
      " 13  SoundFile       6875 non-null   object \n",
      " 14  SoundFile_path  6875 non-null   object \n",
      " 15  Split           6875 non-null   object \n",
      " 16  Raven_path      6875 non-null   object \n",
      "dtypes: float64(5), int64(1), object(11)\n",
      "memory usage: 913.2+ KB\n"
     ]
    }
   ],
   "source": [
    "metadata.info()"
   ]
  },
  {
   "cell_type": "code",
   "execution_count": 20,
   "metadata": {},
   "outputs": [],
   "source": [
    "val_metadata=metadata[metadata[\"Split\"]==\"validation\"]\n",
    "train_metadata=metadata[metadata[\"Split\"]==\"train\"]\n",
    "test_metadata=metadata[metadata[\"Split\"]==\"test\"]"
   ]
  },
  {
   "cell_type": "code",
   "execution_count": 26,
   "metadata": {},
   "outputs": [],
   "source": [
    "val_metadata=val_metadata.reset_index()\n",
    "train_metadata=train_metadata.reset_index()\n",
    "test_metadata=test_metadata.reset_index()"
   ]
  },
  {
   "cell_type": "code",
   "execution_count": 27,
   "metadata": {},
   "outputs": [
    {
     "name": "stdout",
     "output_type": "stream",
     "text": [
      "<class 'pandas.core.frame.DataFrame'>\n",
      "RangeIndex: 848 entries, 0 to 847\n",
      "Data columns (total 19 columns):\n",
      " #   Column          Non-Null Count  Dtype  \n",
      "---  ------          --------------  -----  \n",
      " 0   level_0         848 non-null    int64  \n",
      " 1   index           848 non-null    int64  \n",
      " 2   Unnamed: 0      848 non-null    int64  \n",
      " 3   Begin Time (s)  848 non-null    float64\n",
      " 4   End Time (s)    848 non-null    float64\n",
      " 5   Low Freq (Hz)   848 non-null    float64\n",
      " 6   High Freq (Hz)  848 non-null    float64\n",
      " 7   Species         840 non-null    object \n",
      " 8   Conf            732 non-null    float64\n",
      " 9   Call_type       724 non-null    object \n",
      " 10  Filename        848 non-null    object \n",
      " 11  SiteHab         848 non-null    object \n",
      " 12  RecordingSched  848 non-null    object \n",
      " 13  RecorderName    848 non-null    object \n",
      " 14  DP              848 non-null    object \n",
      " 15  SoundFile       848 non-null    object \n",
      " 16  SoundFile_path  848 non-null    object \n",
      " 17  Split           848 non-null    object \n",
      " 18  Raven_path      848 non-null    object \n",
      "dtypes: float64(5), int64(3), object(11)\n",
      "memory usage: 126.0+ KB\n"
     ]
    }
   ],
   "source": [
    "val_metadata.info()"
   ]
  },
  {
   "cell_type": "code",
   "execution_count": 5,
   "metadata": {},
   "outputs": [],
   "source": [
    "# assume we have a list of raven annotation files and corresponding audio files\n",
    "# load the annotations into OpenSoundscape\n",
    "raven_file_paths = metadata['Raven_path']\n",
    "audio_file_paths = metadata['SoundFile_path']\n",
    "all_annotations = BoxedAnnotations.from_raven_files(raven_file_paths,'species',audio_file_paths)"
   ]
  },
  {
   "cell_type": "code",
   "execution_count": 28,
   "metadata": {},
   "outputs": [],
   "source": [
    "# assume we have a list of raven annotation files and corresponding audio files\n",
    "# load the annotations into OpenSoundscape\n",
    "raven_file_paths = val_metadata['Raven_path']\n",
    "audio_file_paths = val_metadata['SoundFile_path']\n",
    "val_annotations = BoxedAnnotations.from_raven_files(raven_file_paths,'species',audio_file_paths)\n"
   ]
  },
  {
   "cell_type": "code",
   "execution_count": 29,
   "metadata": {},
   "outputs": [],
   "source": [
    "\n",
    "raven_file_paths = train_metadata['Raven_path']\n",
    "audio_file_paths = train_metadata['SoundFile_path']\n",
    "train_annotations = BoxedAnnotations.from_raven_files(raven_file_paths,'species',audio_file_paths)\n",
    "\n",
    "raven_file_paths = test_metadata['Raven_path']\n",
    "audio_file_paths = test_metadata['SoundFile_path']\n",
    "test_annotations = BoxedAnnotations.from_raven_files(raven_file_paths,'species',audio_file_paths)"
   ]
  },
  {
   "cell_type": "code",
   "execution_count": 7,
   "metadata": {},
   "outputs": [
    {
     "data": {
      "text/html": [
       "<div>\n",
       "<style scoped>\n",
       "    .dataframe tbody tr th:only-of-type {\n",
       "        vertical-align: middle;\n",
       "    }\n",
       "\n",
       "    .dataframe tbody tr th {\n",
       "        vertical-align: top;\n",
       "    }\n",
       "\n",
       "    .dataframe thead th {\n",
       "        text-align: right;\n",
       "    }\n",
       "</style>\n",
       "<table border=\"1\" class=\"dataframe\">\n",
       "  <thead>\n",
       "    <tr style=\"text-align: right;\">\n",
       "      <th></th>\n",
       "      <th>original</th>\n",
       "      <th>new</th>\n",
       "    </tr>\n",
       "  </thead>\n",
       "  <tbody>\n",
       "    <tr>\n",
       "      <th>0</th>\n",
       "      <td>Eulemur_albifrons</td>\n",
       "      <td>Eulemur_sp</td>\n",
       "    </tr>\n",
       "    <tr>\n",
       "      <th>1</th>\n",
       "      <td>Eulemur_fulvus</td>\n",
       "      <td>Eulemur_sp</td>\n",
       "    </tr>\n",
       "  </tbody>\n",
       "</table>\n",
       "</div>"
      ],
      "text/plain": [
       "            original         new\n",
       "0  Eulemur_albifrons  Eulemur_sp\n",
       "1     Eulemur_fulvus  Eulemur_sp"
      ]
     },
     "execution_count": 7,
     "metadata": {},
     "output_type": "execute_result"
    }
   ],
   "source": [
    "# Create the table with a dataframe\n",
    "conversion_table = pd.DataFrame(\n",
    "    {'original':['Eulemur_albifrons', 'Eulemur_fulvus'],\n",
    "     'new':['Eulemur_sp', 'Eulemur_sp']}\n",
    ")\n",
    "\n",
    "# Or create the table in its own spreadsheet\n",
    "#conversion_table = pd.read_csv('my_conversion_filename_here.csv')\n",
    "\n",
    "conversion_table"
   ]
  },
  {
   "cell_type": "code",
   "execution_count": 8,
   "metadata": {},
   "outputs": [
    {
     "data": {
      "text/html": [
       "<div>\n",
       "<style scoped>\n",
       "    .dataframe tbody tr th:only-of-type {\n",
       "        vertical-align: middle;\n",
       "    }\n",
       "\n",
       "    .dataframe tbody tr th {\n",
       "        vertical-align: top;\n",
       "    }\n",
       "\n",
       "    .dataframe thead th {\n",
       "        text-align: right;\n",
       "    }\n",
       "</style>\n",
       "<table border=\"1\" class=\"dataframe\">\n",
       "  <thead>\n",
       "    <tr style=\"text-align: right;\">\n",
       "      <th></th>\n",
       "      <th>audio_file</th>\n",
       "      <th>annotation_file</th>\n",
       "      <th>annotation</th>\n",
       "      <th>start_time</th>\n",
       "      <th>end_time</th>\n",
       "      <th>low_f</th>\n",
       "      <th>high_f</th>\n",
       "      <th>Delta Freq (Hz)</th>\n",
       "      <th>Delta Time (s)</th>\n",
       "      <th>Call_Type</th>\n",
       "      <th>Conf'</th>\n",
       "      <th>Conf</th>\n",
       "      <th>Selection</th>\n",
       "      <th>View</th>\n",
       "      <th>Call_type</th>\n",
       "      <th>Avg Power Density (dB FS/Hz)</th>\n",
       "      <th>Call</th>\n",
       "      <th>Channel</th>\n",
       "    </tr>\n",
       "  </thead>\n",
       "  <tbody>\n",
       "    <tr>\n",
       "      <th>0</th>\n",
       "      <td>/mnt/class_data/group1_bioacoustics/sheila/cv4...</td>\n",
       "      <td>/mnt/class_data/group1_bioacoustics/sheila/Pro...</td>\n",
       "      <td>Philepitta_castanea</td>\n",
       "      <td>0.763354</td>\n",
       "      <td>3.078034</td>\n",
       "      <td>2854.369</td>\n",
       "      <td>5965.410</td>\n",
       "      <td>3111.041</td>\n",
       "      <td>2.3147</td>\n",
       "      <td>NaN</td>\n",
       "      <td>NaN</td>\n",
       "      <td>NaN</td>\n",
       "      <td>1.0</td>\n",
       "      <td>Spectrogram 1</td>\n",
       "      <td>NaN</td>\n",
       "      <td>-60.42</td>\n",
       "      <td>NaN</td>\n",
       "      <td>1</td>\n",
       "    </tr>\n",
       "    <tr>\n",
       "      <th>1</th>\n",
       "      <td>/mnt/class_data/group1_bioacoustics/sheila/cv4...</td>\n",
       "      <td>/mnt/class_data/group1_bioacoustics/sheila/Pro...</td>\n",
       "      <td>Philepitta_castanea</td>\n",
       "      <td>6.588949</td>\n",
       "      <td>9.475884</td>\n",
       "      <td>2571.297</td>\n",
       "      <td>5451.150</td>\n",
       "      <td>2879.853</td>\n",
       "      <td>2.8869</td>\n",
       "      <td>NaN</td>\n",
       "      <td>NaN</td>\n",
       "      <td>NaN</td>\n",
       "      <td>2.0</td>\n",
       "      <td>Spectrogram 1</td>\n",
       "      <td>NaN</td>\n",
       "      <td>-60.17</td>\n",
       "      <td>NaN</td>\n",
       "      <td>1</td>\n",
       "    </tr>\n",
       "    <tr>\n",
       "      <th>2</th>\n",
       "      <td>/mnt/class_data/group1_bioacoustics/sheila/cv4...</td>\n",
       "      <td>/mnt/class_data/group1_bioacoustics/sheila/Pro...</td>\n",
       "      <td>Philepitta_castanea</td>\n",
       "      <td>10.434780</td>\n",
       "      <td>12.523959</td>\n",
       "      <td>3085.557</td>\n",
       "      <td>5348.299</td>\n",
       "      <td>2262.742</td>\n",
       "      <td>2.0892</td>\n",
       "      <td>NaN</td>\n",
       "      <td>NaN</td>\n",
       "      <td>NaN</td>\n",
       "      <td>4.0</td>\n",
       "      <td>Spectrogram 1</td>\n",
       "      <td>NaN</td>\n",
       "      <td>-59.24</td>\n",
       "      <td>NaN</td>\n",
       "      <td>1</td>\n",
       "    </tr>\n",
       "    <tr>\n",
       "      <th>3</th>\n",
       "      <td>/mnt/class_data/group1_bioacoustics/sheila/cv4...</td>\n",
       "      <td>/mnt/class_data/group1_bioacoustics/sheila/Pro...</td>\n",
       "      <td>Philepitta_castanea</td>\n",
       "      <td>14.854197</td>\n",
       "      <td>15.436757</td>\n",
       "      <td>3085.557</td>\n",
       "      <td>5862.558</td>\n",
       "      <td>2777.001</td>\n",
       "      <td>0.5826</td>\n",
       "      <td>NaN</td>\n",
       "      <td>NaN</td>\n",
       "      <td>NaN</td>\n",
       "      <td>5.0</td>\n",
       "      <td>Spectrogram 1</td>\n",
       "      <td>NaN</td>\n",
       "      <td>-58.81</td>\n",
       "      <td>NaN</td>\n",
       "      <td>1</td>\n",
       "    </tr>\n",
       "    <tr>\n",
       "      <th>4</th>\n",
       "      <td>/mnt/class_data/group1_bioacoustics/sheila/cv4...</td>\n",
       "      <td>/mnt/class_data/group1_bioacoustics/sheila/Pro...</td>\n",
       "      <td>Philepitta_castanea</td>\n",
       "      <td>55.578030</td>\n",
       "      <td>59.479764</td>\n",
       "      <td>2621.359</td>\n",
       "      <td>5475.728</td>\n",
       "      <td>2854.369</td>\n",
       "      <td>3.9017</td>\n",
       "      <td>NaN</td>\n",
       "      <td>NaN</td>\n",
       "      <td>NaN</td>\n",
       "      <td>7.0</td>\n",
       "      <td>Spectrogram 1</td>\n",
       "      <td>NaN</td>\n",
       "      <td>-60.40</td>\n",
       "      <td>NaN</td>\n",
       "      <td>1</td>\n",
       "    </tr>\n",
       "  </tbody>\n",
       "</table>\n",
       "</div>"
      ],
      "text/plain": [
       "                                          audio_file  \\\n",
       "0  /mnt/class_data/group1_bioacoustics/sheila/cv4...   \n",
       "1  /mnt/class_data/group1_bioacoustics/sheila/cv4...   \n",
       "2  /mnt/class_data/group1_bioacoustics/sheila/cv4...   \n",
       "3  /mnt/class_data/group1_bioacoustics/sheila/cv4...   \n",
       "4  /mnt/class_data/group1_bioacoustics/sheila/cv4...   \n",
       "\n",
       "                                     annotation_file           annotation  \\\n",
       "0  /mnt/class_data/group1_bioacoustics/sheila/Pro...  Philepitta_castanea   \n",
       "1  /mnt/class_data/group1_bioacoustics/sheila/Pro...  Philepitta_castanea   \n",
       "2  /mnt/class_data/group1_bioacoustics/sheila/Pro...  Philepitta_castanea   \n",
       "3  /mnt/class_data/group1_bioacoustics/sheila/Pro...  Philepitta_castanea   \n",
       "4  /mnt/class_data/group1_bioacoustics/sheila/Pro...  Philepitta_castanea   \n",
       "\n",
       "   start_time   end_time     low_f    high_f  Delta Freq (Hz)  Delta Time (s)  \\\n",
       "0    0.763354   3.078034  2854.369  5965.410         3111.041          2.3147   \n",
       "1    6.588949   9.475884  2571.297  5451.150         2879.853          2.8869   \n",
       "2   10.434780  12.523959  3085.557  5348.299         2262.742          2.0892   \n",
       "3   14.854197  15.436757  3085.557  5862.558         2777.001          0.5826   \n",
       "4   55.578030  59.479764  2621.359  5475.728         2854.369          3.9017   \n",
       "\n",
       "  Call_Type  Conf'  Conf  Selection           View Call_type  \\\n",
       "0       NaN    NaN   NaN        1.0  Spectrogram 1       NaN   \n",
       "1       NaN    NaN   NaN        2.0  Spectrogram 1       NaN   \n",
       "2       NaN    NaN   NaN        4.0  Spectrogram 1       NaN   \n",
       "3       NaN    NaN   NaN        5.0  Spectrogram 1       NaN   \n",
       "4       NaN    NaN   NaN        7.0  Spectrogram 1       NaN   \n",
       "\n",
       "   Avg Power Density (dB FS/Hz) Call  Channel  \n",
       "0                        -60.42  NaN        1  \n",
       "1                        -60.17  NaN        1  \n",
       "2                        -59.24  NaN        1  \n",
       "3                        -58.81  NaN        1  \n",
       "4                        -60.40  NaN        1  "
      ]
     },
     "execution_count": 8,
     "metadata": {},
     "output_type": "execute_result"
    }
   ],
   "source": [
    "all_annotations_corrected = all_annotations.convert_labels(conversion_table)\n",
    "all_annotations_corrected.audio_files = all_annotations_corrected.df['audio_file'].values #workaround for issue #872\n",
    "all_annotations_corrected.df.head()"
   ]
  },
  {
   "cell_type": "code",
   "execution_count": 30,
   "metadata": {},
   "outputs": [
    {
     "data": {
      "text/html": [
       "<div>\n",
       "<style scoped>\n",
       "    .dataframe tbody tr th:only-of-type {\n",
       "        vertical-align: middle;\n",
       "    }\n",
       "\n",
       "    .dataframe tbody tr th {\n",
       "        vertical-align: top;\n",
       "    }\n",
       "\n",
       "    .dataframe thead th {\n",
       "        text-align: right;\n",
       "    }\n",
       "</style>\n",
       "<table border=\"1\" class=\"dataframe\">\n",
       "  <thead>\n",
       "    <tr style=\"text-align: right;\">\n",
       "      <th></th>\n",
       "      <th>audio_file</th>\n",
       "      <th>annotation_file</th>\n",
       "      <th>annotation</th>\n",
       "      <th>start_time</th>\n",
       "      <th>end_time</th>\n",
       "      <th>low_f</th>\n",
       "      <th>high_f</th>\n",
       "      <th>Delta Freq (Hz)</th>\n",
       "      <th>Delta Time (s)</th>\n",
       "      <th>Conf</th>\n",
       "      <th>Selection</th>\n",
       "      <th>View</th>\n",
       "      <th>Call_type</th>\n",
       "      <th>Avg Power Density (dB FS/Hz)</th>\n",
       "      <th>Channel</th>\n",
       "    </tr>\n",
       "  </thead>\n",
       "  <tbody>\n",
       "    <tr>\n",
       "      <th>0</th>\n",
       "      <td>/mnt/class_data/group1_bioacoustics/sheila/cv4...</td>\n",
       "      <td>/mnt/class_data/group1_bioacoustics/sheila/Pro...</td>\n",
       "      <td>Hypsipetes_madagascariensis</td>\n",
       "      <td>54.905264</td>\n",
       "      <td>56.190913</td>\n",
       "      <td>1968.454</td>\n",
       "      <td>5223.975</td>\n",
       "      <td>NaN</td>\n",
       "      <td>NaN</td>\n",
       "      <td>0.9</td>\n",
       "      <td>1</td>\n",
       "      <td>Spectrogram 1</td>\n",
       "      <td>call</td>\n",
       "      <td>NaN</td>\n",
       "      <td>1</td>\n",
       "    </tr>\n",
       "    <tr>\n",
       "      <th>1</th>\n",
       "      <td>/mnt/class_data/group1_bioacoustics/sheila/cv4...</td>\n",
       "      <td>/mnt/class_data/group1_bioacoustics/sheila/Pro...</td>\n",
       "      <td>Dicrurus_forficatus</td>\n",
       "      <td>4.943181</td>\n",
       "      <td>11.329778</td>\n",
       "      <td>659.794</td>\n",
       "      <td>5690.722</td>\n",
       "      <td>NaN</td>\n",
       "      <td>NaN</td>\n",
       "      <td>0.9</td>\n",
       "      <td>1</td>\n",
       "      <td>Spectrogram 1</td>\n",
       "      <td>call</td>\n",
       "      <td>NaN</td>\n",
       "      <td>1</td>\n",
       "    </tr>\n",
       "    <tr>\n",
       "      <th>2</th>\n",
       "      <td>/mnt/class_data/group1_bioacoustics/sheila/cv4...</td>\n",
       "      <td>/mnt/class_data/group1_bioacoustics/sheila/Pro...</td>\n",
       "      <td>Dicrurus_forficatus</td>\n",
       "      <td>13.011363</td>\n",
       "      <td>15.447871</td>\n",
       "      <td>551.700</td>\n",
       "      <td>5773.196</td>\n",
       "      <td>NaN</td>\n",
       "      <td>NaN</td>\n",
       "      <td>0.9</td>\n",
       "      <td>2</td>\n",
       "      <td>Spectrogram 1</td>\n",
       "      <td>call</td>\n",
       "      <td>NaN</td>\n",
       "      <td>1</td>\n",
       "    </tr>\n",
       "    <tr>\n",
       "      <th>3</th>\n",
       "      <td>/mnt/class_data/group1_bioacoustics/sheila/cv4...</td>\n",
       "      <td>/mnt/class_data/group1_bioacoustics/sheila/Pro...</td>\n",
       "      <td>Dicrurus_forficatus</td>\n",
       "      <td>17.215908</td>\n",
       "      <td>19.923388</td>\n",
       "      <td>494.845</td>\n",
       "      <td>5773.196</td>\n",
       "      <td>NaN</td>\n",
       "      <td>NaN</td>\n",
       "      <td>0.9</td>\n",
       "      <td>3</td>\n",
       "      <td>Spectrogram 1</td>\n",
       "      <td>call</td>\n",
       "      <td>NaN</td>\n",
       "      <td>1</td>\n",
       "    </tr>\n",
       "    <tr>\n",
       "      <th>4</th>\n",
       "      <td>/mnt/class_data/group1_bioacoustics/sheila/cv4...</td>\n",
       "      <td>/mnt/class_data/group1_bioacoustics/sheila/Pro...</td>\n",
       "      <td>Dicrurus_forficatus</td>\n",
       "      <td>24.282540</td>\n",
       "      <td>29.043458</td>\n",
       "      <td>742.268</td>\n",
       "      <td>6103.093</td>\n",
       "      <td>NaN</td>\n",
       "      <td>NaN</td>\n",
       "      <td>0.9</td>\n",
       "      <td>4</td>\n",
       "      <td>Spectrogram 1</td>\n",
       "      <td>call</td>\n",
       "      <td>NaN</td>\n",
       "      <td>1</td>\n",
       "    </tr>\n",
       "  </tbody>\n",
       "</table>\n",
       "</div>"
      ],
      "text/plain": [
       "                                          audio_file  \\\n",
       "0  /mnt/class_data/group1_bioacoustics/sheila/cv4...   \n",
       "1  /mnt/class_data/group1_bioacoustics/sheila/cv4...   \n",
       "2  /mnt/class_data/group1_bioacoustics/sheila/cv4...   \n",
       "3  /mnt/class_data/group1_bioacoustics/sheila/cv4...   \n",
       "4  /mnt/class_data/group1_bioacoustics/sheila/cv4...   \n",
       "\n",
       "                                     annotation_file  \\\n",
       "0  /mnt/class_data/group1_bioacoustics/sheila/Pro...   \n",
       "1  /mnt/class_data/group1_bioacoustics/sheila/Pro...   \n",
       "2  /mnt/class_data/group1_bioacoustics/sheila/Pro...   \n",
       "3  /mnt/class_data/group1_bioacoustics/sheila/Pro...   \n",
       "4  /mnt/class_data/group1_bioacoustics/sheila/Pro...   \n",
       "\n",
       "                    annotation  start_time   end_time     low_f    high_f  \\\n",
       "0  Hypsipetes_madagascariensis   54.905264  56.190913  1968.454  5223.975   \n",
       "1          Dicrurus_forficatus    4.943181  11.329778   659.794  5690.722   \n",
       "2          Dicrurus_forficatus   13.011363  15.447871   551.700  5773.196   \n",
       "3          Dicrurus_forficatus   17.215908  19.923388   494.845  5773.196   \n",
       "4          Dicrurus_forficatus   24.282540  29.043458   742.268  6103.093   \n",
       "\n",
       "   Delta Freq (Hz)  Delta Time (s)  Conf  Selection           View Call_type  \\\n",
       "0              NaN             NaN   0.9          1  Spectrogram 1      call   \n",
       "1              NaN             NaN   0.9          1  Spectrogram 1      call   \n",
       "2              NaN             NaN   0.9          2  Spectrogram 1      call   \n",
       "3              NaN             NaN   0.9          3  Spectrogram 1      call   \n",
       "4              NaN             NaN   0.9          4  Spectrogram 1      call   \n",
       "\n",
       "   Avg Power Density (dB FS/Hz)  Channel  \n",
       "0                           NaN        1  \n",
       "1                           NaN        1  \n",
       "2                           NaN        1  \n",
       "3                           NaN        1  \n",
       "4                           NaN        1  "
      ]
     },
     "execution_count": 30,
     "metadata": {},
     "output_type": "execute_result"
    }
   ],
   "source": [
    "#correct annotations in each of the splits\n",
    "val_annotations_corrected = val_annotations.convert_labels(conversion_table)\n",
    "val_annotations_corrected.audio_files = val_annotations_corrected.df['audio_file'].values #workaround for issue #872\n",
    "val_annotations_corrected.df.head()\n",
    "\n",
    "train_annotations_corrected = train_annotations.convert_labels(conversion_table)\n",
    "train_annotations_corrected.audio_files = train_annotations_corrected.df['audio_file'].values #workaround for issue #872\n",
    "train_annotations_corrected.df.head()\n",
    "\n",
    "test_annotations_corrected = test_annotations.convert_labels(conversion_table)\n",
    "test_annotations_corrected.audio_files = test_annotations_corrected.df['audio_file'].values #workaround for issue #872\n",
    "test_annotations_corrected.df.head()\n"
   ]
  },
  {
   "cell_type": "code",
   "execution_count": 9,
   "metadata": {},
   "outputs": [],
   "source": [
    "# pick classes to train the model on. These should occur in the annotated data\n",
    "class_list = ['Hypsipetes_madagascariensis','Copsychus_albospecularis','Coracopsis_nigra','Dicrurus_forficatus','Coua_caerulea','Zosterops_maderaspatanus','Eurystomus_glaucurus','Agapornis_canus','Saxicola_torquatus','Cyanolanius_madagascarinus','Leptopterus_chabert','Nesoenas_picturatus','Coua_reynaudii','Ceblepyris_cinereus','Neodrepanis_coruscans','Philepitta_castanea','Eulemur_sp','Coua_cristata','Treron_australis']"
   ]
  },
  {
   "cell_type": "code",
   "execution_count": 10,
   "metadata": {},
   "outputs": [],
   "source": [
    "'''# create labels for fixed-duration (2 second) clips\n",
    "labels = all_annotations_corrected.clip_labels(\n",
    "  clip_duration=2,\n",
    "  clip_overlap=0,\n",
    "  min_label_overlap=0.25,\n",
    "  class_subset=class_list\n",
    ")'''"
   ]
  },
  {
   "cell_type": "code",
   "execution_count": 31,
   "metadata": {},
   "outputs": [],
   "source": [
    "# create labels for fixed-duration (2 second) clips\n",
    "val_labels = val_annotations_corrected.clip_labels(\n",
    "  clip_duration=2,\n",
    "  clip_overlap=0,\n",
    "  min_label_overlap=0.25,\n",
    "  class_subset=class_list\n",
    ")\n",
    "\n",
    "train_labels = train_annotations_corrected.clip_labels(\n",
    "  clip_duration=2,\n",
    "  clip_overlap=0,\n",
    "  min_label_overlap=0.25,\n",
    "  class_subset=class_list\n",
    ")\n",
    "\n",
    "test_labels = test_annotations_corrected.clip_labels(\n",
    "  clip_duration=2,\n",
    "  clip_overlap=0,\n",
    "  min_label_overlap=0.25,\n",
    "  class_subset=class_list\n",
    ")"
   ]
  },
  {
   "cell_type": "code",
   "execution_count": 17,
   "metadata": {},
   "outputs": [
    {
     "data": {
      "text/plain": [
       "MultiIndex([('/mnt/class_data/group1_bioacoustics/sheila/cv4e_dataset/validation/Marojejy/AGN_A/AGN_A-AGN04/AGN_A-AGN04_20230429_054000.WAV', ...),\n",
       "            ('/mnt/class_data/group1_bioacoustics/sheila/cv4e_dataset/validation/Marojejy/AGN_A/AGN_A-AGN04/AGN_A-AGN04_20230429_054000.WAV', ...),\n",
       "            ('/mnt/class_data/group1_bioacoustics/sheila/cv4e_dataset/validation/Marojejy/AGN_A/AGN_A-AGN04/AGN_A-AGN04_20230429_054000.WAV', ...),\n",
       "            ('/mnt/class_data/group1_bioacoustics/sheila/cv4e_dataset/validation/Marojejy/AGN_A/AGN_A-AGN04/AGN_A-AGN04_20230429_054000.WAV', ...),\n",
       "            ('/mnt/class_data/group1_bioacoustics/sheila/cv4e_dataset/validation/Marojejy/AGN_A/AGN_A-AGN04/AGN_A-AGN04_20230429_054000.WAV', ...),\n",
       "            ('/mnt/class_data/group1_bioacoustics/sheila/cv4e_dataset/validation/Marojejy/AGN_A/AGN_A-AGN04/AGN_A-AGN04_20230429_054000.WAV', ...),\n",
       "            ('/mnt/class_data/group1_bioacoustics/sheila/cv4e_dataset/validation/Marojejy/AGN_A/AGN_A-AGN04/AGN_A-AGN04_20230429_054000.WAV', ...),\n",
       "            ('/mnt/class_data/group1_bioacoustics/sheila/cv4e_dataset/validation/Marojejy/AGN_A/AGN_A-AGN04/AGN_A-AGN04_20230429_054000.WAV', ...),\n",
       "            ('/mnt/class_data/group1_bioacoustics/sheila/cv4e_dataset/validation/Marojejy/AGN_A/AGN_A-AGN04/AGN_A-AGN04_20230429_054000.WAV', ...),\n",
       "            ('/mnt/class_data/group1_bioacoustics/sheila/cv4e_dataset/validation/Marojejy/AGN_A/AGN_A-AGN04/AGN_A-AGN04_20230429_054000.WAV', ...),\n",
       "            ...\n",
       "            (    '/mnt/class_data/group1_bioacoustics/sheila/cv4e_dataset/train/Analalava/NLR_B/NLR_B-NLR03/NLR_B-NLR03_20230123_065400.WAV', ...),\n",
       "            (    '/mnt/class_data/group1_bioacoustics/sheila/cv4e_dataset/train/Analalava/NLR_B/NLR_B-NLR03/NLR_B-NLR03_20230123_065400.WAV', ...),\n",
       "            (    '/mnt/class_data/group1_bioacoustics/sheila/cv4e_dataset/train/Analalava/NLR_B/NLR_B-NLR03/NLR_B-NLR03_20230123_065400.WAV', ...),\n",
       "            (    '/mnt/class_data/group1_bioacoustics/sheila/cv4e_dataset/train/Analalava/NLR_B/NLR_B-NLR03/NLR_B-NLR03_20230123_065400.WAV', ...),\n",
       "            (    '/mnt/class_data/group1_bioacoustics/sheila/cv4e_dataset/train/Analalava/NLR_B/NLR_B-NLR03/NLR_B-NLR03_20230123_065400.WAV', ...),\n",
       "            (    '/mnt/class_data/group1_bioacoustics/sheila/cv4e_dataset/train/Analalava/NLR_B/NLR_B-NLR03/NLR_B-NLR03_20230123_065400.WAV', ...),\n",
       "            (    '/mnt/class_data/group1_bioacoustics/sheila/cv4e_dataset/train/Analalava/NLR_B/NLR_B-NLR03/NLR_B-NLR03_20230123_065400.WAV', ...),\n",
       "            (    '/mnt/class_data/group1_bioacoustics/sheila/cv4e_dataset/train/Analalava/NLR_B/NLR_B-NLR03/NLR_B-NLR03_20230123_065400.WAV', ...),\n",
       "            (    '/mnt/class_data/group1_bioacoustics/sheila/cv4e_dataset/train/Analalava/NLR_B/NLR_B-NLR03/NLR_B-NLR03_20230123_065400.WAV', ...),\n",
       "            (    '/mnt/class_data/group1_bioacoustics/sheila/cv4e_dataset/train/Analalava/NLR_B/NLR_B-NLR03/NLR_B-NLR03_20230123_065400.WAV', ...)],\n",
       "           names=['file', 'start_time', 'end_time'], length=32884)"
      ]
     },
     "execution_count": 17,
     "metadata": {},
     "output_type": "execute_result"
    }
   ],
   "source": [
    "labels"
   ]
  },
  {
   "cell_type": "markdown",
   "metadata": {},
   "source": [
    "'''# split the labels into training and validation sets\n",
    "train_df, validation_df = train_test_split(labels, test_size=0.3)'''"
   ]
  },
  {
   "cell_type": "code",
   "execution_count": 32,
   "metadata": {},
   "outputs": [
    {
     "name": "stderr",
     "output_type": "stream",
     "text": [
      "Downloading: \"https://download.pytorch.org/models/resnet18-f37072fd.pth\" to /home/Sheila/.cache/torch/hub/checkpoints/resnet18-f37072fd.pth\n",
      "100%|██████████| 44.7M/44.7M [00:00<00:00, 114MB/s] \n"
     ]
    },
    {
     "name": "stdout",
     "output_type": "stream",
     "text": [
      "\n",
      "Training Epoch 0\n"
     ]
    },
    {
     "data": {
      "application/vnd.jupyter.widget-view+json": {
       "model_id": "b84c4111540746e89c48fd309040040b",
       "version_major": 2,
       "version_minor": 0
      },
      "text/plain": [
       "  0%|          | 0/100 [00:00<?, ?it/s]"
      ]
     },
     "metadata": {},
     "output_type": "display_data"
    },
    {
     "name": "stdout",
     "output_type": "stream",
     "text": [
      "Epoch: 0 [batch 0/100, 0.00%] \n",
      "\tEpoch Running Average Loss: 0.831\n",
      "\tMost Recent Batch Loss: 0.831\n",
      "Epoch: 0 [batch 10/100, 10.00%] \n",
      "\tEpoch Running Average Loss: 0.398\n",
      "\tMost Recent Batch Loss: 0.103\n",
      "Epoch: 0 [batch 20/100, 20.00%] \n",
      "\tEpoch Running Average Loss: 0.250\n",
      "\tMost Recent Batch Loss: 0.080\n",
      "Epoch: 0 [batch 30/100, 30.00%] \n",
      "\tEpoch Running Average Loss: 0.196\n",
      "\tMost Recent Batch Loss: 0.073\n",
      "Epoch: 0 [batch 40/100, 40.00%] \n",
      "\tEpoch Running Average Loss: 0.168\n",
      "\tMost Recent Batch Loss: 0.077\n",
      "Epoch: 0 [batch 50/100, 50.00%] \n",
      "\tEpoch Running Average Loss: 0.149\n",
      "\tMost Recent Batch Loss: 0.069\n",
      "Epoch: 0 [batch 60/100, 60.00%] \n",
      "\tEpoch Running Average Loss: 0.137\n",
      "\tMost Recent Batch Loss: 0.070\n",
      "Epoch: 0 [batch 70/100, 70.00%] \n",
      "\tEpoch Running Average Loss: 0.128\n",
      "\tMost Recent Batch Loss: 0.085\n",
      "Epoch: 0 [batch 80/100, 80.00%] \n",
      "\tEpoch Running Average Loss: 0.122\n",
      "\tMost Recent Batch Loss: 0.072\n",
      "Epoch: 0 [batch 90/100, 90.00%] \n",
      "\tEpoch Running Average Loss: 0.116\n",
      "\tMost Recent Batch Loss: 0.078\n",
      "\n",
      "Validation.\n"
     ]
    },
    {
     "data": {
      "application/vnd.jupyter.widget-view+json": {
       "model_id": "6bd1e08c8af944abacdeddc195b5e425",
       "version_major": 2,
       "version_minor": 0
      },
      "text/plain": [
       "  0%|          | 0/15 [00:00<?, ?it/s]"
      ]
     },
     "metadata": {},
     "output_type": "display_data"
    },
    {
     "name": "stdout",
     "output_type": "stream",
     "text": [
      "\n",
      "Training Epoch 1\n"
     ]
    },
    {
     "data": {
      "application/vnd.jupyter.widget-view+json": {
       "model_id": "06e93161c1b944caa9ec725fda063034",
       "version_major": 2,
       "version_minor": 0
      },
      "text/plain": [
       "  0%|          | 0/100 [00:00<?, ?it/s]"
      ]
     },
     "metadata": {},
     "output_type": "display_data"
    },
    {
     "name": "stdout",
     "output_type": "stream",
     "text": [
      "Epoch: 1 [batch 0/100, 0.00%] \n",
      "\tEpoch Running Average Loss: 0.072\n",
      "\tMost Recent Batch Loss: 0.072\n",
      "Epoch: 1 [batch 10/100, 10.00%] \n",
      "\tEpoch Running Average Loss: 0.072\n",
      "\tMost Recent Batch Loss: 0.076\n",
      "Epoch: 1 [batch 20/100, 20.00%] \n",
      "\tEpoch Running Average Loss: 0.073\n",
      "\tMost Recent Batch Loss: 0.066\n",
      "Epoch: 1 [batch 30/100, 30.00%] \n",
      "\tEpoch Running Average Loss: 0.071\n",
      "\tMost Recent Batch Loss: 0.066\n",
      "Epoch: 1 [batch 40/100, 40.00%] \n",
      "\tEpoch Running Average Loss: 0.071\n",
      "\tMost Recent Batch Loss: 0.070\n",
      "Epoch: 1 [batch 50/100, 50.00%] \n",
      "\tEpoch Running Average Loss: 0.071\n",
      "\tMost Recent Batch Loss: 0.070\n",
      "Epoch: 1 [batch 60/100, 60.00%] \n",
      "\tEpoch Running Average Loss: 0.071\n",
      "\tMost Recent Batch Loss: 0.067\n",
      "Epoch: 1 [batch 70/100, 70.00%] \n",
      "\tEpoch Running Average Loss: 0.070\n",
      "\tMost Recent Batch Loss: 0.070\n",
      "Epoch: 1 [batch 80/100, 80.00%] \n",
      "\tEpoch Running Average Loss: 0.070\n",
      "\tMost Recent Batch Loss: 0.079\n",
      "Epoch: 1 [batch 90/100, 90.00%] \n",
      "\tEpoch Running Average Loss: 0.071\n",
      "\tMost Recent Batch Loss: 0.081\n",
      "\n",
      "Validation.\n"
     ]
    },
    {
     "data": {
      "application/vnd.jupyter.widget-view+json": {
       "model_id": "92d5c7066cae4828aa278c8d027b3224",
       "version_major": 2,
       "version_minor": 0
      },
      "text/plain": [
       "  0%|          | 0/15 [00:00<?, ?it/s]"
      ]
     },
     "metadata": {},
     "output_type": "display_data"
    },
    {
     "name": "stdout",
     "output_type": "stream",
     "text": [
      "\n",
      "Training Epoch 2\n"
     ]
    },
    {
     "data": {
      "application/vnd.jupyter.widget-view+json": {
       "model_id": "4d7b109fc4af4d2398cc5d9f62ce87a1",
       "version_major": 2,
       "version_minor": 0
      },
      "text/plain": [
       "  0%|          | 0/100 [00:00<?, ?it/s]"
      ]
     },
     "metadata": {},
     "output_type": "display_data"
    },
    {
     "name": "stdout",
     "output_type": "stream",
     "text": [
      "Epoch: 2 [batch 0/100, 0.00%] \n",
      "\tEpoch Running Average Loss: 0.075\n",
      "\tMost Recent Batch Loss: 0.075\n",
      "Epoch: 2 [batch 10/100, 10.00%] \n",
      "\tEpoch Running Average Loss: 0.069\n",
      "\tMost Recent Batch Loss: 0.073\n",
      "Epoch: 2 [batch 20/100, 20.00%] \n",
      "\tEpoch Running Average Loss: 0.070\n",
      "\tMost Recent Batch Loss: 0.069\n",
      "Epoch: 2 [batch 30/100, 30.00%] \n",
      "\tEpoch Running Average Loss: 0.070\n",
      "\tMost Recent Batch Loss: 0.071\n",
      "Epoch: 2 [batch 40/100, 40.00%] \n",
      "\tEpoch Running Average Loss: 0.069\n",
      "\tMost Recent Batch Loss: 0.075\n",
      "Epoch: 2 [batch 50/100, 50.00%] \n",
      "\tEpoch Running Average Loss: 0.069\n",
      "\tMost Recent Batch Loss: 0.063\n",
      "Epoch: 2 [batch 60/100, 60.00%] \n",
      "\tEpoch Running Average Loss: 0.069\n",
      "\tMost Recent Batch Loss: 0.070\n",
      "Epoch: 2 [batch 70/100, 70.00%] \n",
      "\tEpoch Running Average Loss: 0.069\n",
      "\tMost Recent Batch Loss: 0.071\n",
      "Epoch: 2 [batch 80/100, 80.00%] \n",
      "\tEpoch Running Average Loss: 0.068\n",
      "\tMost Recent Batch Loss: 0.061\n",
      "Epoch: 2 [batch 90/100, 90.00%] \n",
      "\tEpoch Running Average Loss: 0.068\n",
      "\tMost Recent Batch Loss: 0.061\n",
      "\n",
      "Validation.\n"
     ]
    },
    {
     "data": {
      "application/vnd.jupyter.widget-view+json": {
       "model_id": "a8a415e48a51492dbe96460dfada6b41",
       "version_major": 2,
       "version_minor": 0
      },
      "text/plain": [
       "  0%|          | 0/15 [00:00<?, ?it/s]"
      ]
     },
     "metadata": {},
     "output_type": "display_data"
    },
    {
     "name": "stdout",
     "output_type": "stream",
     "text": [
      "\n",
      "Training Epoch 3\n"
     ]
    },
    {
     "data": {
      "application/vnd.jupyter.widget-view+json": {
       "model_id": "b8799a21f9244d5bb493f55201558ffc",
       "version_major": 2,
       "version_minor": 0
      },
      "text/plain": [
       "  0%|          | 0/100 [00:00<?, ?it/s]"
      ]
     },
     "metadata": {},
     "output_type": "display_data"
    },
    {
     "name": "stdout",
     "output_type": "stream",
     "text": [
      "Epoch: 3 [batch 0/100, 0.00%] \n",
      "\tEpoch Running Average Loss: 0.067\n",
      "\tMost Recent Batch Loss: 0.067\n",
      "Epoch: 3 [batch 10/100, 10.00%] \n",
      "\tEpoch Running Average Loss: 0.066\n",
      "\tMost Recent Batch Loss: 0.071\n",
      "Epoch: 3 [batch 20/100, 20.00%] \n",
      "\tEpoch Running Average Loss: 0.065\n",
      "\tMost Recent Batch Loss: 0.070\n",
      "Epoch: 3 [batch 30/100, 30.00%] \n",
      "\tEpoch Running Average Loss: 0.066\n",
      "\tMost Recent Batch Loss: 0.064\n",
      "Epoch: 3 [batch 40/100, 40.00%] \n",
      "\tEpoch Running Average Loss: 0.065\n",
      "\tMost Recent Batch Loss: 0.062\n",
      "Epoch: 3 [batch 50/100, 50.00%] \n",
      "\tEpoch Running Average Loss: 0.065\n",
      "\tMost Recent Batch Loss: 0.058\n",
      "Epoch: 3 [batch 60/100, 60.00%] \n",
      "\tEpoch Running Average Loss: 0.065\n",
      "\tMost Recent Batch Loss: 0.069\n",
      "Epoch: 3 [batch 70/100, 70.00%] \n",
      "\tEpoch Running Average Loss: 0.066\n",
      "\tMost Recent Batch Loss: 0.061\n",
      "Epoch: 3 [batch 80/100, 80.00%] \n",
      "\tEpoch Running Average Loss: 0.066\n",
      "\tMost Recent Batch Loss: 0.065\n",
      "Epoch: 3 [batch 90/100, 90.00%] \n",
      "\tEpoch Running Average Loss: 0.066\n",
      "\tMost Recent Batch Loss: 0.062\n",
      "\n",
      "Validation.\n"
     ]
    },
    {
     "data": {
      "application/vnd.jupyter.widget-view+json": {
       "model_id": "8ce39e182df04b538b0fcb31d2a5c747",
       "version_major": 2,
       "version_minor": 0
      },
      "text/plain": [
       "  0%|          | 0/15 [00:00<?, ?it/s]"
      ]
     },
     "metadata": {},
     "output_type": "display_data"
    },
    {
     "name": "stdout",
     "output_type": "stream",
     "text": [
      "\n",
      "Training Epoch 4\n"
     ]
    },
    {
     "data": {
      "application/vnd.jupyter.widget-view+json": {
       "model_id": "8cf65c93ac8e42338452ff54e2bc41b3",
       "version_major": 2,
       "version_minor": 0
      },
      "text/plain": [
       "  0%|          | 0/100 [00:00<?, ?it/s]"
      ]
     },
     "metadata": {},
     "output_type": "display_data"
    },
    {
     "name": "stdout",
     "output_type": "stream",
     "text": [
      "Epoch: 4 [batch 0/100, 0.00%] \n",
      "\tEpoch Running Average Loss: 0.066\n",
      "\tMost Recent Batch Loss: 0.066\n",
      "Epoch: 4 [batch 10/100, 10.00%] \n",
      "\tEpoch Running Average Loss: 0.064\n",
      "\tMost Recent Batch Loss: 0.064\n",
      "Epoch: 4 [batch 20/100, 20.00%] \n",
      "\tEpoch Running Average Loss: 0.064\n",
      "\tMost Recent Batch Loss: 0.064\n",
      "Epoch: 4 [batch 30/100, 30.00%] \n",
      "\tEpoch Running Average Loss: 0.063\n",
      "\tMost Recent Batch Loss: 0.065\n",
      "Epoch: 4 [batch 40/100, 40.00%] \n",
      "\tEpoch Running Average Loss: 0.063\n",
      "\tMost Recent Batch Loss: 0.058\n",
      "Epoch: 4 [batch 50/100, 50.00%] \n",
      "\tEpoch Running Average Loss: 0.064\n",
      "\tMost Recent Batch Loss: 0.059\n",
      "Epoch: 4 [batch 60/100, 60.00%] \n",
      "\tEpoch Running Average Loss: 0.063\n",
      "\tMost Recent Batch Loss: 0.062\n",
      "Epoch: 4 [batch 70/100, 70.00%] \n",
      "\tEpoch Running Average Loss: 0.063\n",
      "\tMost Recent Batch Loss: 0.061\n",
      "Epoch: 4 [batch 80/100, 80.00%] \n",
      "\tEpoch Running Average Loss: 0.063\n",
      "\tMost Recent Batch Loss: 0.068\n",
      "Epoch: 4 [batch 90/100, 90.00%] \n",
      "\tEpoch Running Average Loss: 0.063\n",
      "\tMost Recent Batch Loss: 0.063\n",
      "\n",
      "Validation.\n"
     ]
    },
    {
     "data": {
      "application/vnd.jupyter.widget-view+json": {
       "model_id": "4882c112360943519d171bf16bb5adfe",
       "version_major": 2,
       "version_minor": 0
      },
      "text/plain": [
       "  0%|          | 0/15 [00:00<?, ?it/s]"
      ]
     },
     "metadata": {},
     "output_type": "display_data"
    },
    {
     "name": "stdout",
     "output_type": "stream",
     "text": [
      "\n",
      "Training Epoch 5\n"
     ]
    },
    {
     "data": {
      "application/vnd.jupyter.widget-view+json": {
       "model_id": "6a2900596a6849c7957e7777eff5b261",
       "version_major": 2,
       "version_minor": 0
      },
      "text/plain": [
       "  0%|          | 0/100 [00:00<?, ?it/s]"
      ]
     },
     "metadata": {},
     "output_type": "display_data"
    },
    {
     "name": "stdout",
     "output_type": "stream",
     "text": [
      "Epoch: 5 [batch 0/100, 0.00%] \n",
      "\tEpoch Running Average Loss: 0.060\n",
      "\tMost Recent Batch Loss: 0.060\n",
      "Epoch: 5 [batch 10/100, 10.00%] \n",
      "\tEpoch Running Average Loss: 0.061\n",
      "\tMost Recent Batch Loss: 0.062\n",
      "Epoch: 5 [batch 20/100, 20.00%] \n",
      "\tEpoch Running Average Loss: 0.062\n",
      "\tMost Recent Batch Loss: 0.069\n",
      "Epoch: 5 [batch 30/100, 30.00%] \n",
      "\tEpoch Running Average Loss: 0.062\n",
      "\tMost Recent Batch Loss: 0.059\n",
      "Epoch: 5 [batch 40/100, 40.00%] \n",
      "\tEpoch Running Average Loss: 0.062\n",
      "\tMost Recent Batch Loss: 0.059\n",
      "Epoch: 5 [batch 50/100, 50.00%] \n",
      "\tEpoch Running Average Loss: 0.062\n",
      "\tMost Recent Batch Loss: 0.058\n",
      "Epoch: 5 [batch 60/100, 60.00%] \n",
      "\tEpoch Running Average Loss: 0.062\n",
      "\tMost Recent Batch Loss: 0.063\n",
      "Epoch: 5 [batch 70/100, 70.00%] \n",
      "\tEpoch Running Average Loss: 0.062\n",
      "\tMost Recent Batch Loss: 0.058\n",
      "Epoch: 5 [batch 80/100, 80.00%] \n",
      "\tEpoch Running Average Loss: 0.062\n",
      "\tMost Recent Batch Loss: 0.062\n",
      "Epoch: 5 [batch 90/100, 90.00%] \n",
      "\tEpoch Running Average Loss: 0.061\n",
      "\tMost Recent Batch Loss: 0.061\n",
      "\n",
      "Validation.\n"
     ]
    },
    {
     "data": {
      "application/vnd.jupyter.widget-view+json": {
       "model_id": "5b819975dd7b4659a95a3652329426d3",
       "version_major": 2,
       "version_minor": 0
      },
      "text/plain": [
       "  0%|          | 0/15 [00:00<?, ?it/s]"
      ]
     },
     "metadata": {},
     "output_type": "display_data"
    },
    {
     "name": "stdout",
     "output_type": "stream",
     "text": [
      "\n",
      "Training Epoch 6\n"
     ]
    },
    {
     "data": {
      "application/vnd.jupyter.widget-view+json": {
       "model_id": "75278a936a2641478a0ed61810bb5a56",
       "version_major": 2,
       "version_minor": 0
      },
      "text/plain": [
       "  0%|          | 0/100 [00:00<?, ?it/s]"
      ]
     },
     "metadata": {},
     "output_type": "display_data"
    },
    {
     "name": "stdout",
     "output_type": "stream",
     "text": [
      "Epoch: 6 [batch 0/100, 0.00%] \n",
      "\tEpoch Running Average Loss: 0.049\n",
      "\tMost Recent Batch Loss: 0.049\n",
      "Epoch: 6 [batch 10/100, 10.00%] \n",
      "\tEpoch Running Average Loss: 0.060\n",
      "\tMost Recent Batch Loss: 0.063\n",
      "Epoch: 6 [batch 20/100, 20.00%] \n",
      "\tEpoch Running Average Loss: 0.060\n",
      "\tMost Recent Batch Loss: 0.052\n",
      "Epoch: 6 [batch 30/100, 30.00%] \n",
      "\tEpoch Running Average Loss: 0.060\n",
      "\tMost Recent Batch Loss: 0.062\n",
      "Epoch: 6 [batch 40/100, 40.00%] \n",
      "\tEpoch Running Average Loss: 0.059\n",
      "\tMost Recent Batch Loss: 0.049\n",
      "Epoch: 6 [batch 50/100, 50.00%] \n",
      "\tEpoch Running Average Loss: 0.059\n",
      "\tMost Recent Batch Loss: 0.066\n",
      "Epoch: 6 [batch 60/100, 60.00%] \n",
      "\tEpoch Running Average Loss: 0.059\n",
      "\tMost Recent Batch Loss: 0.061\n",
      "Epoch: 6 [batch 70/100, 70.00%] \n",
      "\tEpoch Running Average Loss: 0.059\n",
      "\tMost Recent Batch Loss: 0.055\n",
      "Epoch: 6 [batch 80/100, 80.00%] \n",
      "\tEpoch Running Average Loss: 0.059\n",
      "\tMost Recent Batch Loss: 0.054\n",
      "Epoch: 6 [batch 90/100, 90.00%] \n",
      "\tEpoch Running Average Loss: 0.059\n",
      "\tMost Recent Batch Loss: 0.048\n",
      "\n",
      "Validation.\n"
     ]
    },
    {
     "data": {
      "application/vnd.jupyter.widget-view+json": {
       "model_id": "be07f90b3d9541d3a4ceb56168c3128a",
       "version_major": 2,
       "version_minor": 0
      },
      "text/plain": [
       "  0%|          | 0/15 [00:00<?, ?it/s]"
      ]
     },
     "metadata": {},
     "output_type": "display_data"
    },
    {
     "name": "stdout",
     "output_type": "stream",
     "text": [
      "\n",
      "Training Epoch 7\n"
     ]
    },
    {
     "data": {
      "application/vnd.jupyter.widget-view+json": {
       "model_id": "419afa15ad7b4de1b8c9b9a7e287fa9a",
       "version_major": 2,
       "version_minor": 0
      },
      "text/plain": [
       "  0%|          | 0/100 [00:00<?, ?it/s]"
      ]
     },
     "metadata": {},
     "output_type": "display_data"
    },
    {
     "name": "stdout",
     "output_type": "stream",
     "text": [
      "Epoch: 7 [batch 0/100, 0.00%] \n",
      "\tEpoch Running Average Loss: 0.066\n",
      "\tMost Recent Batch Loss: 0.066\n",
      "Epoch: 7 [batch 10/100, 10.00%] \n",
      "\tEpoch Running Average Loss: 0.060\n",
      "\tMost Recent Batch Loss: 0.048\n",
      "Epoch: 7 [batch 20/100, 20.00%] \n",
      "\tEpoch Running Average Loss: 0.059\n",
      "\tMost Recent Batch Loss: 0.057\n",
      "Epoch: 7 [batch 30/100, 30.00%] \n",
      "\tEpoch Running Average Loss: 0.059\n",
      "\tMost Recent Batch Loss: 0.054\n",
      "Epoch: 7 [batch 40/100, 40.00%] \n",
      "\tEpoch Running Average Loss: 0.059\n",
      "\tMost Recent Batch Loss: 0.056\n",
      "Epoch: 7 [batch 50/100, 50.00%] \n",
      "\tEpoch Running Average Loss: 0.059\n",
      "\tMost Recent Batch Loss: 0.056\n",
      "Epoch: 7 [batch 60/100, 60.00%] \n",
      "\tEpoch Running Average Loss: 0.058\n",
      "\tMost Recent Batch Loss: 0.063\n",
      "Epoch: 7 [batch 70/100, 70.00%] \n",
      "\tEpoch Running Average Loss: 0.058\n",
      "\tMost Recent Batch Loss: 0.061\n",
      "Epoch: 7 [batch 80/100, 80.00%] \n",
      "\tEpoch Running Average Loss: 0.058\n",
      "\tMost Recent Batch Loss: 0.061\n",
      "Epoch: 7 [batch 90/100, 90.00%] \n",
      "\tEpoch Running Average Loss: 0.058\n",
      "\tMost Recent Batch Loss: 0.061\n",
      "\n",
      "Validation.\n"
     ]
    },
    {
     "data": {
      "application/vnd.jupyter.widget-view+json": {
       "model_id": "15a21bdbf9ab4e3cb801c0e1c67ab105",
       "version_major": 2,
       "version_minor": 0
      },
      "text/plain": [
       "  0%|          | 0/15 [00:00<?, ?it/s]"
      ]
     },
     "metadata": {},
     "output_type": "display_data"
    },
    {
     "name": "stdout",
     "output_type": "stream",
     "text": [
      "\n",
      "Training Epoch 8\n"
     ]
    },
    {
     "data": {
      "application/vnd.jupyter.widget-view+json": {
       "model_id": "edf855d082314d3d863f9fe63bee886e",
       "version_major": 2,
       "version_minor": 0
      },
      "text/plain": [
       "  0%|          | 0/100 [00:00<?, ?it/s]"
      ]
     },
     "metadata": {},
     "output_type": "display_data"
    },
    {
     "name": "stdout",
     "output_type": "stream",
     "text": [
      "Epoch: 8 [batch 0/100, 0.00%] \n",
      "\tEpoch Running Average Loss: 0.055\n",
      "\tMost Recent Batch Loss: 0.055\n",
      "Epoch: 8 [batch 10/100, 10.00%] \n",
      "\tEpoch Running Average Loss: 0.057\n",
      "\tMost Recent Batch Loss: 0.063\n",
      "Epoch: 8 [batch 20/100, 20.00%] \n",
      "\tEpoch Running Average Loss: 0.057\n",
      "\tMost Recent Batch Loss: 0.065\n",
      "Epoch: 8 [batch 30/100, 30.00%] \n",
      "\tEpoch Running Average Loss: 0.057\n",
      "\tMost Recent Batch Loss: 0.053\n",
      "Epoch: 8 [batch 40/100, 40.00%] \n",
      "\tEpoch Running Average Loss: 0.057\n",
      "\tMost Recent Batch Loss: 0.060\n",
      "Epoch: 8 [batch 50/100, 50.00%] \n",
      "\tEpoch Running Average Loss: 0.057\n",
      "\tMost Recent Batch Loss: 0.062\n",
      "Epoch: 8 [batch 60/100, 60.00%] \n",
      "\tEpoch Running Average Loss: 0.057\n",
      "\tMost Recent Batch Loss: 0.064\n",
      "Epoch: 8 [batch 70/100, 70.00%] \n",
      "\tEpoch Running Average Loss: 0.057\n",
      "\tMost Recent Batch Loss: 0.067\n",
      "Epoch: 8 [batch 80/100, 80.00%] \n",
      "\tEpoch Running Average Loss: 0.057\n",
      "\tMost Recent Batch Loss: 0.066\n",
      "Epoch: 8 [batch 90/100, 90.00%] \n",
      "\tEpoch Running Average Loss: 0.057\n",
      "\tMost Recent Batch Loss: 0.059\n",
      "\n",
      "Validation.\n"
     ]
    },
    {
     "data": {
      "application/vnd.jupyter.widget-view+json": {
       "model_id": "65f7c3525705469c8c1caa8d47addcb9",
       "version_major": 2,
       "version_minor": 0
      },
      "text/plain": [
       "  0%|          | 0/15 [00:00<?, ?it/s]"
      ]
     },
     "metadata": {},
     "output_type": "display_data"
    },
    {
     "name": "stdout",
     "output_type": "stream",
     "text": [
      "\n",
      "Training Epoch 9\n"
     ]
    },
    {
     "data": {
      "application/vnd.jupyter.widget-view+json": {
       "model_id": "1c8b916310b54d818a8d7054783646d0",
       "version_major": 2,
       "version_minor": 0
      },
      "text/plain": [
       "  0%|          | 0/100 [00:00<?, ?it/s]"
      ]
     },
     "metadata": {},
     "output_type": "display_data"
    },
    {
     "name": "stdout",
     "output_type": "stream",
     "text": [
      "Epoch: 9 [batch 0/100, 0.00%] \n",
      "\tEpoch Running Average Loss: 0.052\n",
      "\tMost Recent Batch Loss: 0.052\n",
      "Epoch: 9 [batch 10/100, 10.00%] \n",
      "\tEpoch Running Average Loss: 0.054\n",
      "\tMost Recent Batch Loss: 0.053\n",
      "Epoch: 9 [batch 20/100, 20.00%] \n",
      "\tEpoch Running Average Loss: 0.053\n",
      "\tMost Recent Batch Loss: 0.057\n",
      "Epoch: 9 [batch 30/100, 30.00%] \n",
      "\tEpoch Running Average Loss: 0.054\n",
      "\tMost Recent Batch Loss: 0.049\n",
      "Epoch: 9 [batch 40/100, 40.00%] \n",
      "\tEpoch Running Average Loss: 0.055\n",
      "\tMost Recent Batch Loss: 0.055\n",
      "Epoch: 9 [batch 50/100, 50.00%] \n",
      "\tEpoch Running Average Loss: 0.055\n",
      "\tMost Recent Batch Loss: 0.058\n",
      "Epoch: 9 [batch 60/100, 60.00%] \n",
      "\tEpoch Running Average Loss: 0.055\n",
      "\tMost Recent Batch Loss: 0.058\n",
      "Epoch: 9 [batch 70/100, 70.00%] \n",
      "\tEpoch Running Average Loss: 0.055\n",
      "\tMost Recent Batch Loss: 0.054\n",
      "Epoch: 9 [batch 80/100, 80.00%] \n",
      "\tEpoch Running Average Loss: 0.055\n",
      "\tMost Recent Batch Loss: 0.052\n",
      "Epoch: 9 [batch 90/100, 90.00%] \n",
      "\tEpoch Running Average Loss: 0.055\n",
      "\tMost Recent Batch Loss: 0.052\n",
      "\n",
      "Validation.\n"
     ]
    },
    {
     "data": {
      "application/vnd.jupyter.widget-view+json": {
       "model_id": "9d9d0bfb2a2d40b49f26473174f8a5b2",
       "version_major": 2,
       "version_minor": 0
      },
      "text/plain": [
       "  0%|          | 0/15 [00:00<?, ?it/s]"
      ]
     },
     "metadata": {},
     "output_type": "display_data"
    },
    {
     "name": "stdout",
     "output_type": "stream",
     "text": [
      "\n",
      "Training Epoch 10\n"
     ]
    },
    {
     "data": {
      "application/vnd.jupyter.widget-view+json": {
       "model_id": "f89595ea28364177a0fabd26f5fbada5",
       "version_major": 2,
       "version_minor": 0
      },
      "text/plain": [
       "  0%|          | 0/100 [00:00<?, ?it/s]"
      ]
     },
     "metadata": {},
     "output_type": "display_data"
    },
    {
     "name": "stdout",
     "output_type": "stream",
     "text": [
      "Epoch: 10 [batch 0/100, 0.00%] \n",
      "\tEpoch Running Average Loss: 0.057\n",
      "\tMost Recent Batch Loss: 0.057\n",
      "Epoch: 10 [batch 10/100, 10.00%] \n",
      "\tEpoch Running Average Loss: 0.057\n",
      "\tMost Recent Batch Loss: 0.063\n",
      "Epoch: 10 [batch 20/100, 20.00%] \n",
      "\tEpoch Running Average Loss: 0.056\n",
      "\tMost Recent Batch Loss: 0.055\n",
      "Epoch: 10 [batch 30/100, 30.00%] \n",
      "\tEpoch Running Average Loss: 0.055\n",
      "\tMost Recent Batch Loss: 0.053\n",
      "Epoch: 10 [batch 40/100, 40.00%] \n",
      "\tEpoch Running Average Loss: 0.055\n",
      "\tMost Recent Batch Loss: 0.051\n",
      "Epoch: 10 [batch 50/100, 50.00%] \n",
      "\tEpoch Running Average Loss: 0.055\n",
      "\tMost Recent Batch Loss: 0.049\n",
      "Epoch: 10 [batch 60/100, 60.00%] \n",
      "\tEpoch Running Average Loss: 0.055\n",
      "\tMost Recent Batch Loss: 0.048\n",
      "Epoch: 10 [batch 70/100, 70.00%] \n",
      "\tEpoch Running Average Loss: 0.054\n",
      "\tMost Recent Batch Loss: 0.052\n",
      "Epoch: 10 [batch 80/100, 80.00%] \n",
      "\tEpoch Running Average Loss: 0.054\n",
      "\tMost Recent Batch Loss: 0.047\n",
      "Epoch: 10 [batch 90/100, 90.00%] \n",
      "\tEpoch Running Average Loss: 0.054\n",
      "\tMost Recent Batch Loss: 0.053\n",
      "\n",
      "Validation.\n"
     ]
    },
    {
     "data": {
      "application/vnd.jupyter.widget-view+json": {
       "model_id": "37857b99818f4229aa9fabd313995282",
       "version_major": 2,
       "version_minor": 0
      },
      "text/plain": [
       "  0%|          | 0/15 [00:00<?, ?it/s]"
      ]
     },
     "metadata": {},
     "output_type": "display_data"
    },
    {
     "name": "stdout",
     "output_type": "stream",
     "text": [
      "\n",
      "Training Epoch 11\n"
     ]
    },
    {
     "data": {
      "application/vnd.jupyter.widget-view+json": {
       "model_id": "d1858961c7ce4c6882b38e2974b8d528",
       "version_major": 2,
       "version_minor": 0
      },
      "text/plain": [
       "  0%|          | 0/100 [00:00<?, ?it/s]"
      ]
     },
     "metadata": {},
     "output_type": "display_data"
    },
    {
     "name": "stdout",
     "output_type": "stream",
     "text": [
      "Epoch: 11 [batch 0/100, 0.00%] \n",
      "\tEpoch Running Average Loss: 0.047\n",
      "\tMost Recent Batch Loss: 0.047\n",
      "Epoch: 11 [batch 10/100, 10.00%] \n",
      "\tEpoch Running Average Loss: 0.054\n",
      "\tMost Recent Batch Loss: 0.052\n",
      "Epoch: 11 [batch 20/100, 20.00%] \n",
      "\tEpoch Running Average Loss: 0.054\n",
      "\tMost Recent Batch Loss: 0.051\n",
      "Epoch: 11 [batch 30/100, 30.00%] \n",
      "\tEpoch Running Average Loss: 0.054\n",
      "\tMost Recent Batch Loss: 0.049\n",
      "Epoch: 11 [batch 40/100, 40.00%] \n",
      "\tEpoch Running Average Loss: 0.053\n",
      "\tMost Recent Batch Loss: 0.055\n",
      "Epoch: 11 [batch 50/100, 50.00%] \n",
      "\tEpoch Running Average Loss: 0.053\n",
      "\tMost Recent Batch Loss: 0.058\n",
      "Epoch: 11 [batch 60/100, 60.00%] \n",
      "\tEpoch Running Average Loss: 0.053\n",
      "\tMost Recent Batch Loss: 0.059\n",
      "Epoch: 11 [batch 70/100, 70.00%] \n",
      "\tEpoch Running Average Loss: 0.054\n",
      "\tMost Recent Batch Loss: 0.052\n",
      "Epoch: 11 [batch 80/100, 80.00%] \n",
      "\tEpoch Running Average Loss: 0.053\n",
      "\tMost Recent Batch Loss: 0.050\n",
      "Epoch: 11 [batch 90/100, 90.00%] \n",
      "\tEpoch Running Average Loss: 0.053\n",
      "\tMost Recent Batch Loss: 0.055\n",
      "\n",
      "Validation.\n"
     ]
    },
    {
     "data": {
      "application/vnd.jupyter.widget-view+json": {
       "model_id": "2e5ada3a6d8649c38e012b1df0fefb41",
       "version_major": 2,
       "version_minor": 0
      },
      "text/plain": [
       "  0%|          | 0/15 [00:00<?, ?it/s]"
      ]
     },
     "metadata": {},
     "output_type": "display_data"
    },
    {
     "name": "stdout",
     "output_type": "stream",
     "text": [
      "\n",
      "Training Epoch 12\n"
     ]
    },
    {
     "data": {
      "application/vnd.jupyter.widget-view+json": {
       "model_id": "ddf6888a087c48718479388fc1ca3278",
       "version_major": 2,
       "version_minor": 0
      },
      "text/plain": [
       "  0%|          | 0/100 [00:00<?, ?it/s]"
      ]
     },
     "metadata": {},
     "output_type": "display_data"
    },
    {
     "name": "stdout",
     "output_type": "stream",
     "text": [
      "Epoch: 12 [batch 0/100, 0.00%] \n",
      "\tEpoch Running Average Loss: 0.056\n",
      "\tMost Recent Batch Loss: 0.056\n",
      "Epoch: 12 [batch 10/100, 10.00%] \n",
      "\tEpoch Running Average Loss: 0.054\n",
      "\tMost Recent Batch Loss: 0.058\n",
      "Epoch: 12 [batch 20/100, 20.00%] \n",
      "\tEpoch Running Average Loss: 0.053\n",
      "\tMost Recent Batch Loss: 0.055\n",
      "Epoch: 12 [batch 30/100, 30.00%] \n",
      "\tEpoch Running Average Loss: 0.052\n",
      "\tMost Recent Batch Loss: 0.051\n",
      "Epoch: 12 [batch 40/100, 40.00%] \n",
      "\tEpoch Running Average Loss: 0.053\n",
      "\tMost Recent Batch Loss: 0.048\n",
      "Epoch: 12 [batch 50/100, 50.00%] \n",
      "\tEpoch Running Average Loss: 0.053\n",
      "\tMost Recent Batch Loss: 0.053\n",
      "Epoch: 12 [batch 60/100, 60.00%] \n",
      "\tEpoch Running Average Loss: 0.052\n",
      "\tMost Recent Batch Loss: 0.053\n",
      "Epoch: 12 [batch 70/100, 70.00%] \n",
      "\tEpoch Running Average Loss: 0.052\n",
      "\tMost Recent Batch Loss: 0.056\n",
      "Epoch: 12 [batch 80/100, 80.00%] \n",
      "\tEpoch Running Average Loss: 0.052\n",
      "\tMost Recent Batch Loss: 0.051\n",
      "Epoch: 12 [batch 90/100, 90.00%] \n",
      "\tEpoch Running Average Loss: 0.052\n",
      "\tMost Recent Batch Loss: 0.059\n",
      "\n",
      "Validation.\n"
     ]
    },
    {
     "data": {
      "application/vnd.jupyter.widget-view+json": {
       "model_id": "dc1c34616cc7484582327cc4fa6a8c11",
       "version_major": 2,
       "version_minor": 0
      },
      "text/plain": [
       "  0%|          | 0/15 [00:00<?, ?it/s]"
      ]
     },
     "metadata": {},
     "output_type": "display_data"
    },
    {
     "name": "stdout",
     "output_type": "stream",
     "text": [
      "\n",
      "Training Epoch 13\n"
     ]
    },
    {
     "data": {
      "application/vnd.jupyter.widget-view+json": {
       "model_id": "e3cf7847a81f45b7aa7ebd1f11205a5a",
       "version_major": 2,
       "version_minor": 0
      },
      "text/plain": [
       "  0%|          | 0/100 [00:00<?, ?it/s]"
      ]
     },
     "metadata": {},
     "output_type": "display_data"
    },
    {
     "name": "stdout",
     "output_type": "stream",
     "text": [
      "Epoch: 13 [batch 0/100, 0.00%] \n",
      "\tEpoch Running Average Loss: 0.050\n",
      "\tMost Recent Batch Loss: 0.050\n",
      "Epoch: 13 [batch 10/100, 10.00%] \n",
      "\tEpoch Running Average Loss: 0.053\n",
      "\tMost Recent Batch Loss: 0.053\n",
      "Epoch: 13 [batch 20/100, 20.00%] \n",
      "\tEpoch Running Average Loss: 0.053\n",
      "\tMost Recent Batch Loss: 0.046\n",
      "Epoch: 13 [batch 30/100, 30.00%] \n",
      "\tEpoch Running Average Loss: 0.053\n",
      "\tMost Recent Batch Loss: 0.057\n",
      "Epoch: 13 [batch 40/100, 40.00%] \n",
      "\tEpoch Running Average Loss: 0.053\n",
      "\tMost Recent Batch Loss: 0.054\n",
      "Epoch: 13 [batch 50/100, 50.00%] \n",
      "\tEpoch Running Average Loss: 0.053\n",
      "\tMost Recent Batch Loss: 0.052\n",
      "Epoch: 13 [batch 60/100, 60.00%] \n",
      "\tEpoch Running Average Loss: 0.052\n",
      "\tMost Recent Batch Loss: 0.053\n",
      "Epoch: 13 [batch 70/100, 70.00%] \n",
      "\tEpoch Running Average Loss: 0.052\n",
      "\tMost Recent Batch Loss: 0.050\n",
      "Epoch: 13 [batch 80/100, 80.00%] \n",
      "\tEpoch Running Average Loss: 0.052\n",
      "\tMost Recent Batch Loss: 0.047\n",
      "Epoch: 13 [batch 90/100, 90.00%] \n",
      "\tEpoch Running Average Loss: 0.051\n",
      "\tMost Recent Batch Loss: 0.043\n",
      "\n",
      "Validation.\n"
     ]
    },
    {
     "data": {
      "application/vnd.jupyter.widget-view+json": {
       "model_id": "08cadc0da9204de8b6d71a0f934441e7",
       "version_major": 2,
       "version_minor": 0
      },
      "text/plain": [
       "  0%|          | 0/15 [00:00<?, ?it/s]"
      ]
     },
     "metadata": {},
     "output_type": "display_data"
    },
    {
     "name": "stdout",
     "output_type": "stream",
     "text": [
      "\n",
      "Training Epoch 14\n"
     ]
    },
    {
     "data": {
      "application/vnd.jupyter.widget-view+json": {
       "model_id": "8858d8d8bd774aceb408de69de951754",
       "version_major": 2,
       "version_minor": 0
      },
      "text/plain": [
       "  0%|          | 0/100 [00:00<?, ?it/s]"
      ]
     },
     "metadata": {},
     "output_type": "display_data"
    },
    {
     "name": "stdout",
     "output_type": "stream",
     "text": [
      "Epoch: 14 [batch 0/100, 0.00%] \n",
      "\tEpoch Running Average Loss: 0.056\n",
      "\tMost Recent Batch Loss: 0.056\n",
      "Epoch: 14 [batch 10/100, 10.00%] \n",
      "\tEpoch Running Average Loss: 0.048\n",
      "\tMost Recent Batch Loss: 0.052\n",
      "Epoch: 14 [batch 20/100, 20.00%] \n",
      "\tEpoch Running Average Loss: 0.050\n",
      "\tMost Recent Batch Loss: 0.046\n",
      "Epoch: 14 [batch 30/100, 30.00%] \n",
      "\tEpoch Running Average Loss: 0.050\n",
      "\tMost Recent Batch Loss: 0.044\n",
      "Epoch: 14 [batch 40/100, 40.00%] \n",
      "\tEpoch Running Average Loss: 0.050\n",
      "\tMost Recent Batch Loss: 0.047\n",
      "Epoch: 14 [batch 50/100, 50.00%] \n",
      "\tEpoch Running Average Loss: 0.050\n",
      "\tMost Recent Batch Loss: 0.056\n",
      "Epoch: 14 [batch 60/100, 60.00%] \n",
      "\tEpoch Running Average Loss: 0.050\n",
      "\tMost Recent Batch Loss: 0.048\n",
      "Epoch: 14 [batch 70/100, 70.00%] \n",
      "\tEpoch Running Average Loss: 0.051\n",
      "\tMost Recent Batch Loss: 0.055\n",
      "Epoch: 14 [batch 80/100, 80.00%] \n",
      "\tEpoch Running Average Loss: 0.051\n",
      "\tMost Recent Batch Loss: 0.052\n",
      "Epoch: 14 [batch 90/100, 90.00%] \n",
      "\tEpoch Running Average Loss: 0.050\n",
      "\tMost Recent Batch Loss: 0.049\n",
      "\n",
      "Validation.\n"
     ]
    },
    {
     "data": {
      "application/vnd.jupyter.widget-view+json": {
       "model_id": "0590a5acac2f4ad8bda28a89efd401ef",
       "version_major": 2,
       "version_minor": 0
      },
      "text/plain": [
       "  0%|          | 0/15 [00:00<?, ?it/s]"
      ]
     },
     "metadata": {},
     "output_type": "display_data"
    },
    {
     "name": "stdout",
     "output_type": "stream",
     "text": [
      "\n",
      "Training Epoch 15\n"
     ]
    },
    {
     "data": {
      "application/vnd.jupyter.widget-view+json": {
       "model_id": "fceee0e0407f48b1b3693ead1230414f",
       "version_major": 2,
       "version_minor": 0
      },
      "text/plain": [
       "  0%|          | 0/100 [00:00<?, ?it/s]"
      ]
     },
     "metadata": {},
     "output_type": "display_data"
    },
    {
     "name": "stdout",
     "output_type": "stream",
     "text": [
      "Epoch: 15 [batch 0/100, 0.00%] \n",
      "\tEpoch Running Average Loss: 0.054\n",
      "\tMost Recent Batch Loss: 0.054\n",
      "Epoch: 15 [batch 10/100, 10.00%] \n",
      "\tEpoch Running Average Loss: 0.051\n",
      "\tMost Recent Batch Loss: 0.053\n",
      "Epoch: 15 [batch 20/100, 20.00%] \n",
      "\tEpoch Running Average Loss: 0.052\n",
      "\tMost Recent Batch Loss: 0.054\n",
      "Epoch: 15 [batch 30/100, 30.00%] \n",
      "\tEpoch Running Average Loss: 0.051\n",
      "\tMost Recent Batch Loss: 0.042\n",
      "Epoch: 15 [batch 40/100, 40.00%] \n",
      "\tEpoch Running Average Loss: 0.051\n",
      "\tMost Recent Batch Loss: 0.062\n",
      "Epoch: 15 [batch 50/100, 50.00%] \n",
      "\tEpoch Running Average Loss: 0.051\n",
      "\tMost Recent Batch Loss: 0.050\n",
      "Epoch: 15 [batch 60/100, 60.00%] \n",
      "\tEpoch Running Average Loss: 0.050\n",
      "\tMost Recent Batch Loss: 0.042\n",
      "Epoch: 15 [batch 70/100, 70.00%] \n",
      "\tEpoch Running Average Loss: 0.050\n",
      "\tMost Recent Batch Loss: 0.051\n",
      "Epoch: 15 [batch 80/100, 80.00%] \n",
      "\tEpoch Running Average Loss: 0.050\n",
      "\tMost Recent Batch Loss: 0.051\n",
      "Epoch: 15 [batch 90/100, 90.00%] \n",
      "\tEpoch Running Average Loss: 0.050\n",
      "\tMost Recent Batch Loss: 0.045\n",
      "\n",
      "Validation.\n"
     ]
    },
    {
     "data": {
      "application/vnd.jupyter.widget-view+json": {
       "model_id": "a8d0a0ba312d49ec8fcfcb79f27efeac",
       "version_major": 2,
       "version_minor": 0
      },
      "text/plain": [
       "  0%|          | 0/15 [00:00<?, ?it/s]"
      ]
     },
     "metadata": {},
     "output_type": "display_data"
    },
    {
     "name": "stdout",
     "output_type": "stream",
     "text": [
      "\n",
      "Training Epoch 16\n"
     ]
    },
    {
     "data": {
      "application/vnd.jupyter.widget-view+json": {
       "model_id": "e236023010e94de1ada56ea7535280d0",
       "version_major": 2,
       "version_minor": 0
      },
      "text/plain": [
       "  0%|          | 0/100 [00:00<?, ?it/s]"
      ]
     },
     "metadata": {},
     "output_type": "display_data"
    },
    {
     "name": "stdout",
     "output_type": "stream",
     "text": [
      "Epoch: 16 [batch 0/100, 0.00%] \n",
      "\tEpoch Running Average Loss: 0.043\n",
      "\tMost Recent Batch Loss: 0.043\n",
      "Epoch: 16 [batch 10/100, 10.00%] \n",
      "\tEpoch Running Average Loss: 0.050\n",
      "\tMost Recent Batch Loss: 0.047\n",
      "Epoch: 16 [batch 20/100, 20.00%] \n",
      "\tEpoch Running Average Loss: 0.049\n",
      "\tMost Recent Batch Loss: 0.050\n",
      "Epoch: 16 [batch 30/100, 30.00%] \n",
      "\tEpoch Running Average Loss: 0.049\n",
      "\tMost Recent Batch Loss: 0.051\n",
      "Epoch: 16 [batch 40/100, 40.00%] \n",
      "\tEpoch Running Average Loss: 0.049\n",
      "\tMost Recent Batch Loss: 0.054\n",
      "Epoch: 16 [batch 50/100, 50.00%] \n",
      "\tEpoch Running Average Loss: 0.049\n",
      "\tMost Recent Batch Loss: 0.055\n",
      "Epoch: 16 [batch 60/100, 60.00%] \n",
      "\tEpoch Running Average Loss: 0.050\n",
      "\tMost Recent Batch Loss: 0.052\n",
      "Epoch: 16 [batch 70/100, 70.00%] \n",
      "\tEpoch Running Average Loss: 0.050\n",
      "\tMost Recent Batch Loss: 0.048\n",
      "Epoch: 16 [batch 80/100, 80.00%] \n",
      "\tEpoch Running Average Loss: 0.050\n",
      "\tMost Recent Batch Loss: 0.052\n",
      "Epoch: 16 [batch 90/100, 90.00%] \n",
      "\tEpoch Running Average Loss: 0.050\n",
      "\tMost Recent Batch Loss: 0.050\n",
      "\n",
      "Validation.\n"
     ]
    },
    {
     "data": {
      "application/vnd.jupyter.widget-view+json": {
       "model_id": "99e0508ee99b457a8101c3655742a60b",
       "version_major": 2,
       "version_minor": 0
      },
      "text/plain": [
       "  0%|          | 0/15 [00:00<?, ?it/s]"
      ]
     },
     "metadata": {},
     "output_type": "display_data"
    },
    {
     "name": "stdout",
     "output_type": "stream",
     "text": [
      "\n",
      "Training Epoch 17\n"
     ]
    },
    {
     "data": {
      "application/vnd.jupyter.widget-view+json": {
       "model_id": "dcd653df0f5c47c9a3136bff4fac41cc",
       "version_major": 2,
       "version_minor": 0
      },
      "text/plain": [
       "  0%|          | 0/100 [00:00<?, ?it/s]"
      ]
     },
     "metadata": {},
     "output_type": "display_data"
    },
    {
     "name": "stdout",
     "output_type": "stream",
     "text": [
      "Epoch: 17 [batch 0/100, 0.00%] \n",
      "\tEpoch Running Average Loss: 0.050\n",
      "\tMost Recent Batch Loss: 0.050\n",
      "Epoch: 17 [batch 10/100, 10.00%] \n",
      "\tEpoch Running Average Loss: 0.050\n",
      "\tMost Recent Batch Loss: 0.039\n",
      "Epoch: 17 [batch 20/100, 20.00%] \n",
      "\tEpoch Running Average Loss: 0.049\n",
      "\tMost Recent Batch Loss: 0.045\n",
      "Epoch: 17 [batch 30/100, 30.00%] \n",
      "\tEpoch Running Average Loss: 0.049\n",
      "\tMost Recent Batch Loss: 0.047\n",
      "Epoch: 17 [batch 40/100, 40.00%] \n",
      "\tEpoch Running Average Loss: 0.049\n",
      "\tMost Recent Batch Loss: 0.047\n",
      "Epoch: 17 [batch 50/100, 50.00%] \n",
      "\tEpoch Running Average Loss: 0.048\n",
      "\tMost Recent Batch Loss: 0.051\n",
      "Epoch: 17 [batch 60/100, 60.00%] \n",
      "\tEpoch Running Average Loss: 0.049\n",
      "\tMost Recent Batch Loss: 0.051\n",
      "Epoch: 17 [batch 70/100, 70.00%] \n",
      "\tEpoch Running Average Loss: 0.049\n",
      "\tMost Recent Batch Loss: 0.043\n",
      "Epoch: 17 [batch 80/100, 80.00%] \n",
      "\tEpoch Running Average Loss: 0.049\n",
      "\tMost Recent Batch Loss: 0.052\n",
      "Epoch: 17 [batch 90/100, 90.00%] \n",
      "\tEpoch Running Average Loss: 0.049\n",
      "\tMost Recent Batch Loss: 0.041\n",
      "\n",
      "Validation.\n"
     ]
    },
    {
     "data": {
      "application/vnd.jupyter.widget-view+json": {
       "model_id": "fc7a557d296a41e195b8cac5e954a8c9",
       "version_major": 2,
       "version_minor": 0
      },
      "text/plain": [
       "  0%|          | 0/15 [00:00<?, ?it/s]"
      ]
     },
     "metadata": {},
     "output_type": "display_data"
    },
    {
     "name": "stdout",
     "output_type": "stream",
     "text": [
      "\n",
      "Training Epoch 18\n"
     ]
    },
    {
     "data": {
      "application/vnd.jupyter.widget-view+json": {
       "model_id": "bbb0053cc1f149ba9e6d7cd1703a21c5",
       "version_major": 2,
       "version_minor": 0
      },
      "text/plain": [
       "  0%|          | 0/100 [00:00<?, ?it/s]"
      ]
     },
     "metadata": {},
     "output_type": "display_data"
    },
    {
     "name": "stdout",
     "output_type": "stream",
     "text": [
      "Epoch: 18 [batch 0/100, 0.00%] \n",
      "\tEpoch Running Average Loss: 0.051\n",
      "\tMost Recent Batch Loss: 0.051\n",
      "Epoch: 18 [batch 10/100, 10.00%] \n",
      "\tEpoch Running Average Loss: 0.050\n",
      "\tMost Recent Batch Loss: 0.048\n",
      "Epoch: 18 [batch 20/100, 20.00%] \n",
      "\tEpoch Running Average Loss: 0.049\n",
      "\tMost Recent Batch Loss: 0.042\n",
      "Epoch: 18 [batch 30/100, 30.00%] \n",
      "\tEpoch Running Average Loss: 0.049\n",
      "\tMost Recent Batch Loss: 0.051\n",
      "Epoch: 18 [batch 40/100, 40.00%] \n",
      "\tEpoch Running Average Loss: 0.049\n",
      "\tMost Recent Batch Loss: 0.049\n",
      "Epoch: 18 [batch 50/100, 50.00%] \n",
      "\tEpoch Running Average Loss: 0.048\n",
      "\tMost Recent Batch Loss: 0.041\n",
      "Epoch: 18 [batch 60/100, 60.00%] \n",
      "\tEpoch Running Average Loss: 0.048\n",
      "\tMost Recent Batch Loss: 0.047\n",
      "Epoch: 18 [batch 70/100, 70.00%] \n",
      "\tEpoch Running Average Loss: 0.048\n",
      "\tMost Recent Batch Loss: 0.048\n",
      "Epoch: 18 [batch 80/100, 80.00%] \n",
      "\tEpoch Running Average Loss: 0.048\n",
      "\tMost Recent Batch Loss: 0.049\n",
      "Epoch: 18 [batch 90/100, 90.00%] \n",
      "\tEpoch Running Average Loss: 0.048\n",
      "\tMost Recent Batch Loss: 0.042\n",
      "\n",
      "Validation.\n"
     ]
    },
    {
     "data": {
      "application/vnd.jupyter.widget-view+json": {
       "model_id": "655d4b587287451ba51f3d1a7d4f018c",
       "version_major": 2,
       "version_minor": 0
      },
      "text/plain": [
       "  0%|          | 0/15 [00:00<?, ?it/s]"
      ]
     },
     "metadata": {},
     "output_type": "display_data"
    },
    {
     "name": "stdout",
     "output_type": "stream",
     "text": [
      "\n",
      "Training Epoch 19\n"
     ]
    },
    {
     "data": {
      "application/vnd.jupyter.widget-view+json": {
       "model_id": "3454b366c3b44447a698d33899314828",
       "version_major": 2,
       "version_minor": 0
      },
      "text/plain": [
       "  0%|          | 0/100 [00:00<?, ?it/s]"
      ]
     },
     "metadata": {},
     "output_type": "display_data"
    },
    {
     "name": "stdout",
     "output_type": "stream",
     "text": [
      "Epoch: 19 [batch 0/100, 0.00%] \n",
      "\tEpoch Running Average Loss: 0.043\n",
      "\tMost Recent Batch Loss: 0.043\n",
      "Epoch: 19 [batch 10/100, 10.00%] \n",
      "\tEpoch Running Average Loss: 0.049\n",
      "\tMost Recent Batch Loss: 0.051\n",
      "Epoch: 19 [batch 20/100, 20.00%] \n",
      "\tEpoch Running Average Loss: 0.050\n",
      "\tMost Recent Batch Loss: 0.046\n",
      "Epoch: 19 [batch 30/100, 30.00%] \n",
      "\tEpoch Running Average Loss: 0.049\n",
      "\tMost Recent Batch Loss: 0.042\n",
      "Epoch: 19 [batch 40/100, 40.00%] \n",
      "\tEpoch Running Average Loss: 0.048\n",
      "\tMost Recent Batch Loss: 0.050\n",
      "Epoch: 19 [batch 50/100, 50.00%] \n",
      "\tEpoch Running Average Loss: 0.048\n",
      "\tMost Recent Batch Loss: 0.054\n",
      "Epoch: 19 [batch 60/100, 60.00%] \n",
      "\tEpoch Running Average Loss: 0.048\n",
      "\tMost Recent Batch Loss: 0.050\n",
      "Epoch: 19 [batch 70/100, 70.00%] \n",
      "\tEpoch Running Average Loss: 0.048\n",
      "\tMost Recent Batch Loss: 0.047\n",
      "Epoch: 19 [batch 80/100, 80.00%] \n",
      "\tEpoch Running Average Loss: 0.047\n",
      "\tMost Recent Batch Loss: 0.045\n",
      "Epoch: 19 [batch 90/100, 90.00%] \n",
      "\tEpoch Running Average Loss: 0.047\n",
      "\tMost Recent Batch Loss: 0.044\n",
      "\n",
      "Validation.\n"
     ]
    },
    {
     "data": {
      "application/vnd.jupyter.widget-view+json": {
       "model_id": "cc5efcc49ef5456d9f92b61fdc990558",
       "version_major": 2,
       "version_minor": 0
      },
      "text/plain": [
       "  0%|          | 0/15 [00:00<?, ?it/s]"
      ]
     },
     "metadata": {},
     "output_type": "display_data"
    },
    {
     "name": "stdout",
     "output_type": "stream",
     "text": [
      "\n",
      "Best Model Appears at Epoch 19 with Validation score 0.562.\n"
     ]
    }
   ],
   "source": [
    "# create a CNN and train on the labeled data\n",
    "model = CNN(architecture='resnet18', sample_duration=2, classes=class_list)\n",
    "model.train(train_labels, val_labels, epochs=20, num_workers=8, batch_size=256)"
   ]
  },
  {
   "cell_type": "code",
   "execution_count": 33,
   "metadata": {},
   "outputs": [
    {
     "name": "stdout",
     "output_type": "stream",
     "text": [
      "\u001b[0;31mSignature:\u001b[0m\n",
      "\u001b[0mmodel\u001b[0m\u001b[0;34m.\u001b[0m\u001b[0mtrain\u001b[0m\u001b[0;34m(\u001b[0m\u001b[0;34m\u001b[0m\n",
      "\u001b[0;34m\u001b[0m    \u001b[0mtrain_df\u001b[0m\u001b[0;34m,\u001b[0m\u001b[0;34m\u001b[0m\n",
      "\u001b[0;34m\u001b[0m    \u001b[0mvalidation_df\u001b[0m\u001b[0;34m=\u001b[0m\u001b[0;32mNone\u001b[0m\u001b[0;34m,\u001b[0m\u001b[0;34m\u001b[0m\n",
      "\u001b[0;34m\u001b[0m    \u001b[0mepochs\u001b[0m\u001b[0;34m=\u001b[0m\u001b[0;36m1\u001b[0m\u001b[0;34m,\u001b[0m\u001b[0;34m\u001b[0m\n",
      "\u001b[0;34m\u001b[0m    \u001b[0mbatch_size\u001b[0m\u001b[0;34m=\u001b[0m\u001b[0;36m1\u001b[0m\u001b[0;34m,\u001b[0m\u001b[0;34m\u001b[0m\n",
      "\u001b[0;34m\u001b[0m    \u001b[0mnum_workers\u001b[0m\u001b[0;34m=\u001b[0m\u001b[0;36m0\u001b[0m\u001b[0;34m,\u001b[0m\u001b[0;34m\u001b[0m\n",
      "\u001b[0;34m\u001b[0m    \u001b[0msave_path\u001b[0m\u001b[0;34m=\u001b[0m\u001b[0;34m'.'\u001b[0m\u001b[0;34m,\u001b[0m\u001b[0;34m\u001b[0m\n",
      "\u001b[0;34m\u001b[0m    \u001b[0msave_interval\u001b[0m\u001b[0;34m=\u001b[0m\u001b[0;36m1\u001b[0m\u001b[0;34m,\u001b[0m\u001b[0;34m\u001b[0m\n",
      "\u001b[0;34m\u001b[0m    \u001b[0mlog_interval\u001b[0m\u001b[0;34m=\u001b[0m\u001b[0;36m10\u001b[0m\u001b[0;34m,\u001b[0m\u001b[0;34m\u001b[0m\n",
      "\u001b[0;34m\u001b[0m    \u001b[0mvalidation_interval\u001b[0m\u001b[0;34m=\u001b[0m\u001b[0;36m1\u001b[0m\u001b[0;34m,\u001b[0m\u001b[0;34m\u001b[0m\n",
      "\u001b[0;34m\u001b[0m    \u001b[0mreset_optimizer\u001b[0m\u001b[0;34m=\u001b[0m\u001b[0;32mFalse\u001b[0m\u001b[0;34m,\u001b[0m\u001b[0;34m\u001b[0m\n",
      "\u001b[0;34m\u001b[0m    \u001b[0mrestart_scheduler\u001b[0m\u001b[0;34m=\u001b[0m\u001b[0;32mFalse\u001b[0m\u001b[0;34m,\u001b[0m\u001b[0;34m\u001b[0m\n",
      "\u001b[0;34m\u001b[0m    \u001b[0minvalid_samples_log\u001b[0m\u001b[0;34m=\u001b[0m\u001b[0;34m'./invalid_training_samples.log'\u001b[0m\u001b[0;34m,\u001b[0m\u001b[0;34m\u001b[0m\n",
      "\u001b[0;34m\u001b[0m    \u001b[0mraise_errors\u001b[0m\u001b[0;34m=\u001b[0m\u001b[0;32mFalse\u001b[0m\u001b[0;34m,\u001b[0m\u001b[0;34m\u001b[0m\n",
      "\u001b[0;34m\u001b[0m    \u001b[0mwandb_session\u001b[0m\u001b[0;34m=\u001b[0m\u001b[0;32mNone\u001b[0m\u001b[0;34m,\u001b[0m\u001b[0;34m\u001b[0m\n",
      "\u001b[0;34m\u001b[0m    \u001b[0mprogress_bar\u001b[0m\u001b[0;34m=\u001b[0m\u001b[0;32mTrue\u001b[0m\u001b[0;34m,\u001b[0m\u001b[0;34m\u001b[0m\n",
      "\u001b[0;34m\u001b[0m\u001b[0;34m)\u001b[0m\u001b[0;34m\u001b[0m\u001b[0;34m\u001b[0m\u001b[0m\n",
      "\u001b[0;31mDocstring:\u001b[0m\n",
      "train the model on samples from train_dataset\n",
      "\n",
      "If customized loss functions, networks, optimizers, or schedulers\n",
      "are desired, modify the respective attributes before calling .train().\n",
      "\n",
      "Args:\n",
      "    train_df:\n",
      "        a dataframe of files and labels for training the model\n",
      "        - either has index `file` or multi-index (file,start_time,end_time)\n",
      "    validation_df:\n",
      "        a dataframe of files and labels for evaluating the model\n",
      "        [default: None means no validation is performed]\n",
      "    epochs:\n",
      "        number of epochs to train for\n",
      "        (1 epoch constitutes 1 view of each training sample)\n",
      "    batch_size:\n",
      "        number of training files simultaneously passed through\n",
      "        forward pass, loss function, and backpropagation\n",
      "    num_workers:\n",
      "        number of parallel CPU tasks for preprocessing\n",
      "        Note: use 0 for single (root) process (not 1)\n",
      "    save_path:\n",
      "        location to save intermediate and best model objects\n",
      "        [default=\".\", ie current location of script]\n",
      "    save_interval:\n",
      "        interval in epochs to save model object with weights [default:1]\n",
      "        Note: the best model is always saved to best.model\n",
      "        in addition to other saved epochs.\n",
      "    log_interval:\n",
      "        interval in batches to print training loss/metrics\n",
      "    validation_interval:\n",
      "        interval in epochs to test the model on the validation set\n",
      "        Note that model will only update it's best score and save best.model\n",
      "        file on epochs that it performs validation.\n",
      "    reset_optimizer:\n",
      "        if True, resets the optimizer rather than retaining state_dict\n",
      "        of self.optimizer [default: False]\n",
      "    restart_scheduler:\n",
      "        if True, resets the learning rate scheduler rather than retaining\n",
      "        state_dict of self.scheduler [default: False]\n",
      "    invalid_samples_log:\n",
      "        file path: log all samples that failed in preprocessing\n",
      "        (file written when training completes)\n",
      "        - if None,  does not write a file\n",
      "    raise_errors:\n",
      "        if True, raise errors when preprocessing fails\n",
      "        if False, just log the errors to unsafe_samples_log\n",
      "    wandb_session: a wandb session to log to\n",
      "        - pass the value returned by wandb.init() to progress log to a\n",
      "        Weights and Biases run\n",
      "        - if None, does not log to wandb\n",
      "        For example:\n",
      "        ```\n",
      "        import wandb\n",
      "        wandb.login(key=api_key) #find your api_key at https://wandb.ai/settings\n",
      "        session = wandb.init(enitity='mygroup',project='project1',name='first_run')\n",
      "        ...\n",
      "        model.train(...,wandb_session=session)\n",
      "        session.finish()\n",
      "        ```\n",
      "    progress_bar: bool, if True, shows a progress bar with tqdm [default: True]\n",
      "\n",
      "Effects:\n",
      "    If wandb_session is provided, logs progress and samples to Weights\n",
      "    and Biases. A random set of training and validation samples\n",
      "    are preprocessed and logged to a table. Training progress, loss,\n",
      "    and metrics are also logged.\n",
      "    Use self.wandb_logging dictionary to change the number of samples\n",
      "    logged.\n",
      "\u001b[0;31mFile:\u001b[0m      ~/miniconda3/envs/rewild_cv4e/lib/python3.11/site-packages/opensoundscape/ml/cnn.py\n",
      "\u001b[0;31mType:\u001b[0m      method"
     ]
    }
   ],
   "source": [
    "model.train?"
   ]
  },
  {
   "cell_type": "code",
   "execution_count": 36,
   "metadata": {},
   "outputs": [
    {
     "data": {
      "application/vnd.jupyter.widget-view+json": {
       "model_id": "44f30867ccab47b2b9aa68bd8338f818",
       "version_major": 2,
       "version_minor": 0
      },
      "text/plain": [
       "  0%|          | 0/58 [00:00<?, ?it/s]"
      ]
     },
     "metadata": {},
     "output_type": "display_data"
    },
    {
     "data": {
      "text/html": [
       "<div>\n",
       "<style scoped>\n",
       "    .dataframe tbody tr th:only-of-type {\n",
       "        vertical-align: middle;\n",
       "    }\n",
       "\n",
       "    .dataframe tbody tr th {\n",
       "        vertical-align: top;\n",
       "    }\n",
       "\n",
       "    .dataframe thead th {\n",
       "        text-align: right;\n",
       "    }\n",
       "</style>\n",
       "<table border=\"1\" class=\"dataframe\">\n",
       "  <thead>\n",
       "    <tr style=\"text-align: right;\">\n",
       "      <th></th>\n",
       "      <th></th>\n",
       "      <th></th>\n",
       "      <th>Hypsipetes_madagascariensis</th>\n",
       "      <th>Copsychus_albospecularis</th>\n",
       "      <th>Coracopsis_nigra</th>\n",
       "      <th>Dicrurus_forficatus</th>\n",
       "      <th>Coua_caerulea</th>\n",
       "      <th>Zosterops_maderaspatanus</th>\n",
       "      <th>Eurystomus_glaucurus</th>\n",
       "      <th>Agapornis_canus</th>\n",
       "      <th>Saxicola_torquatus</th>\n",
       "      <th>Cyanolanius_madagascarinus</th>\n",
       "      <th>Leptopterus_chabert</th>\n",
       "      <th>Nesoenas_picturatus</th>\n",
       "      <th>Coua_reynaudii</th>\n",
       "      <th>Ceblepyris_cinereus</th>\n",
       "      <th>Neodrepanis_coruscans</th>\n",
       "      <th>Philepitta_castanea</th>\n",
       "      <th>Eulemur_sp</th>\n",
       "      <th>Coua_cristata</th>\n",
       "      <th>Treron_australis</th>\n",
       "    </tr>\n",
       "    <tr>\n",
       "      <th>file</th>\n",
       "      <th>start_time</th>\n",
       "      <th>end_time</th>\n",
       "      <th></th>\n",
       "      <th></th>\n",
       "      <th></th>\n",
       "      <th></th>\n",
       "      <th></th>\n",
       "      <th></th>\n",
       "      <th></th>\n",
       "      <th></th>\n",
       "      <th></th>\n",
       "      <th></th>\n",
       "      <th></th>\n",
       "      <th></th>\n",
       "      <th></th>\n",
       "      <th></th>\n",
       "      <th></th>\n",
       "      <th></th>\n",
       "      <th></th>\n",
       "      <th></th>\n",
       "      <th></th>\n",
       "    </tr>\n",
       "  </thead>\n",
       "  <tbody>\n",
       "    <tr>\n",
       "      <th rowspan=\"5\" valign=\"top\">/mnt/class_data/group1_bioacoustics/sheila/cv4e_dataset/validation/Marojejy/AGN_A/AGN_A-AGN04/AGN_A-AGN04_20230429_054000.WAV</th>\n",
       "      <th>0.0</th>\n",
       "      <th>2.0</th>\n",
       "      <td>-2.158758</td>\n",
       "      <td>-4.750234</td>\n",
       "      <td>-2.486647</td>\n",
       "      <td>-2.957933</td>\n",
       "      <td>-4.633048</td>\n",
       "      <td>-4.313595</td>\n",
       "      <td>-4.493242</td>\n",
       "      <td>-5.255306</td>\n",
       "      <td>-6.306225</td>\n",
       "      <td>-4.847383</td>\n",
       "      <td>-5.648808</td>\n",
       "      <td>-5.919010</td>\n",
       "      <td>-5.346926</td>\n",
       "      <td>-5.972064</td>\n",
       "      <td>-5.833270</td>\n",
       "      <td>-5.993404</td>\n",
       "      <td>-4.983937</td>\n",
       "      <td>-6.943775</td>\n",
       "      <td>-6.233856</td>\n",
       "    </tr>\n",
       "    <tr>\n",
       "      <th>2.0</th>\n",
       "      <th>4.0</th>\n",
       "      <td>-1.395066</td>\n",
       "      <td>-4.161969</td>\n",
       "      <td>-3.229731</td>\n",
       "      <td>-3.075242</td>\n",
       "      <td>-5.316461</td>\n",
       "      <td>-3.998507</td>\n",
       "      <td>-6.120906</td>\n",
       "      <td>-6.012774</td>\n",
       "      <td>-6.816397</td>\n",
       "      <td>-5.488903</td>\n",
       "      <td>-6.406893</td>\n",
       "      <td>-6.941738</td>\n",
       "      <td>-6.415954</td>\n",
       "      <td>-7.039349</td>\n",
       "      <td>-6.810523</td>\n",
       "      <td>-6.957284</td>\n",
       "      <td>-6.104496</td>\n",
       "      <td>-8.927031</td>\n",
       "      <td>-7.350574</td>\n",
       "    </tr>\n",
       "    <tr>\n",
       "      <th>4.0</th>\n",
       "      <th>6.0</th>\n",
       "      <td>-2.699647</td>\n",
       "      <td>-4.752058</td>\n",
       "      <td>-4.485178</td>\n",
       "      <td>-4.820859</td>\n",
       "      <td>-4.694846</td>\n",
       "      <td>-5.088317</td>\n",
       "      <td>-5.327376</td>\n",
       "      <td>-5.110350</td>\n",
       "      <td>-5.829116</td>\n",
       "      <td>-4.752470</td>\n",
       "      <td>-4.754591</td>\n",
       "      <td>-5.499691</td>\n",
       "      <td>-5.545761</td>\n",
       "      <td>-5.904954</td>\n",
       "      <td>-5.630605</td>\n",
       "      <td>-6.249947</td>\n",
       "      <td>-4.927157</td>\n",
       "      <td>-7.005087</td>\n",
       "      <td>-6.832255</td>\n",
       "    </tr>\n",
       "    <tr>\n",
       "      <th>6.0</th>\n",
       "      <th>8.0</th>\n",
       "      <td>-2.667120</td>\n",
       "      <td>-3.772722</td>\n",
       "      <td>-2.159829</td>\n",
       "      <td>-4.272260</td>\n",
       "      <td>-4.909374</td>\n",
       "      <td>-4.534317</td>\n",
       "      <td>-5.297628</td>\n",
       "      <td>-6.142618</td>\n",
       "      <td>-6.699708</td>\n",
       "      <td>-5.694128</td>\n",
       "      <td>-6.139139</td>\n",
       "      <td>-6.329989</td>\n",
       "      <td>-6.218972</td>\n",
       "      <td>-6.386021</td>\n",
       "      <td>-6.466018</td>\n",
       "      <td>-6.770640</td>\n",
       "      <td>-5.489292</td>\n",
       "      <td>-7.704728</td>\n",
       "      <td>-6.956725</td>\n",
       "    </tr>\n",
       "    <tr>\n",
       "      <th>8.0</th>\n",
       "      <th>10.0</th>\n",
       "      <td>-0.895564</td>\n",
       "      <td>-4.775815</td>\n",
       "      <td>-2.593827</td>\n",
       "      <td>-3.863804</td>\n",
       "      <td>-5.026254</td>\n",
       "      <td>-4.434886</td>\n",
       "      <td>-5.486050</td>\n",
       "      <td>-5.650239</td>\n",
       "      <td>-7.111054</td>\n",
       "      <td>-5.534979</td>\n",
       "      <td>-5.877988</td>\n",
       "      <td>-6.505881</td>\n",
       "      <td>-6.222015</td>\n",
       "      <td>-6.960789</td>\n",
       "      <td>-7.242610</td>\n",
       "      <td>-6.708316</td>\n",
       "      <td>-5.967569</td>\n",
       "      <td>-8.411020</td>\n",
       "      <td>-7.351762</td>\n",
       "    </tr>\n",
       "  </tbody>\n",
       "</table>\n",
       "</div>"
      ],
      "text/plain": [
       "                                                                        Hypsipetes_madagascariensis  \\\n",
       "file                                               start_time end_time                                \n",
       "/mnt/class_data/group1_bioacoustics/sheila/cv4e... 0.0        2.0                         -2.158758   \n",
       "                                                   2.0        4.0                         -1.395066   \n",
       "                                                   4.0        6.0                         -2.699647   \n",
       "                                                   6.0        8.0                         -2.667120   \n",
       "                                                   8.0        10.0                        -0.895564   \n",
       "\n",
       "                                                                        Copsychus_albospecularis  \\\n",
       "file                                               start_time end_time                             \n",
       "/mnt/class_data/group1_bioacoustics/sheila/cv4e... 0.0        2.0                      -4.750234   \n",
       "                                                   2.0        4.0                      -4.161969   \n",
       "                                                   4.0        6.0                      -4.752058   \n",
       "                                                   6.0        8.0                      -3.772722   \n",
       "                                                   8.0        10.0                     -4.775815   \n",
       "\n",
       "                                                                        Coracopsis_nigra  \\\n",
       "file                                               start_time end_time                     \n",
       "/mnt/class_data/group1_bioacoustics/sheila/cv4e... 0.0        2.0              -2.486647   \n",
       "                                                   2.0        4.0              -3.229731   \n",
       "                                                   4.0        6.0              -4.485178   \n",
       "                                                   6.0        8.0              -2.159829   \n",
       "                                                   8.0        10.0             -2.593827   \n",
       "\n",
       "                                                                        Dicrurus_forficatus  \\\n",
       "file                                               start_time end_time                        \n",
       "/mnt/class_data/group1_bioacoustics/sheila/cv4e... 0.0        2.0                 -2.957933   \n",
       "                                                   2.0        4.0                 -3.075242   \n",
       "                                                   4.0        6.0                 -4.820859   \n",
       "                                                   6.0        8.0                 -4.272260   \n",
       "                                                   8.0        10.0                -3.863804   \n",
       "\n",
       "                                                                        Coua_caerulea  \\\n",
       "file                                               start_time end_time                  \n",
       "/mnt/class_data/group1_bioacoustics/sheila/cv4e... 0.0        2.0           -4.633048   \n",
       "                                                   2.0        4.0           -5.316461   \n",
       "                                                   4.0        6.0           -4.694846   \n",
       "                                                   6.0        8.0           -4.909374   \n",
       "                                                   8.0        10.0          -5.026254   \n",
       "\n",
       "                                                                        Zosterops_maderaspatanus  \\\n",
       "file                                               start_time end_time                             \n",
       "/mnt/class_data/group1_bioacoustics/sheila/cv4e... 0.0        2.0                      -4.313595   \n",
       "                                                   2.0        4.0                      -3.998507   \n",
       "                                                   4.0        6.0                      -5.088317   \n",
       "                                                   6.0        8.0                      -4.534317   \n",
       "                                                   8.0        10.0                     -4.434886   \n",
       "\n",
       "                                                                        Eurystomus_glaucurus  \\\n",
       "file                                               start_time end_time                         \n",
       "/mnt/class_data/group1_bioacoustics/sheila/cv4e... 0.0        2.0                  -4.493242   \n",
       "                                                   2.0        4.0                  -6.120906   \n",
       "                                                   4.0        6.0                  -5.327376   \n",
       "                                                   6.0        8.0                  -5.297628   \n",
       "                                                   8.0        10.0                 -5.486050   \n",
       "\n",
       "                                                                        Agapornis_canus  \\\n",
       "file                                               start_time end_time                    \n",
       "/mnt/class_data/group1_bioacoustics/sheila/cv4e... 0.0        2.0             -5.255306   \n",
       "                                                   2.0        4.0             -6.012774   \n",
       "                                                   4.0        6.0             -5.110350   \n",
       "                                                   6.0        8.0             -6.142618   \n",
       "                                                   8.0        10.0            -5.650239   \n",
       "\n",
       "                                                                        Saxicola_torquatus  \\\n",
       "file                                               start_time end_time                       \n",
       "/mnt/class_data/group1_bioacoustics/sheila/cv4e... 0.0        2.0                -6.306225   \n",
       "                                                   2.0        4.0                -6.816397   \n",
       "                                                   4.0        6.0                -5.829116   \n",
       "                                                   6.0        8.0                -6.699708   \n",
       "                                                   8.0        10.0               -7.111054   \n",
       "\n",
       "                                                                        Cyanolanius_madagascarinus  \\\n",
       "file                                               start_time end_time                               \n",
       "/mnt/class_data/group1_bioacoustics/sheila/cv4e... 0.0        2.0                        -4.847383   \n",
       "                                                   2.0        4.0                        -5.488903   \n",
       "                                                   4.0        6.0                        -4.752470   \n",
       "                                                   6.0        8.0                        -5.694128   \n",
       "                                                   8.0        10.0                       -5.534979   \n",
       "\n",
       "                                                                        Leptopterus_chabert  \\\n",
       "file                                               start_time end_time                        \n",
       "/mnt/class_data/group1_bioacoustics/sheila/cv4e... 0.0        2.0                 -5.648808   \n",
       "                                                   2.0        4.0                 -6.406893   \n",
       "                                                   4.0        6.0                 -4.754591   \n",
       "                                                   6.0        8.0                 -6.139139   \n",
       "                                                   8.0        10.0                -5.877988   \n",
       "\n",
       "                                                                        Nesoenas_picturatus  \\\n",
       "file                                               start_time end_time                        \n",
       "/mnt/class_data/group1_bioacoustics/sheila/cv4e... 0.0        2.0                 -5.919010   \n",
       "                                                   2.0        4.0                 -6.941738   \n",
       "                                                   4.0        6.0                 -5.499691   \n",
       "                                                   6.0        8.0                 -6.329989   \n",
       "                                                   8.0        10.0                -6.505881   \n",
       "\n",
       "                                                                        Coua_reynaudii  \\\n",
       "file                                               start_time end_time                   \n",
       "/mnt/class_data/group1_bioacoustics/sheila/cv4e... 0.0        2.0            -5.346926   \n",
       "                                                   2.0        4.0            -6.415954   \n",
       "                                                   4.0        6.0            -5.545761   \n",
       "                                                   6.0        8.0            -6.218972   \n",
       "                                                   8.0        10.0           -6.222015   \n",
       "\n",
       "                                                                        Ceblepyris_cinereus  \\\n",
       "file                                               start_time end_time                        \n",
       "/mnt/class_data/group1_bioacoustics/sheila/cv4e... 0.0        2.0                 -5.972064   \n",
       "                                                   2.0        4.0                 -7.039349   \n",
       "                                                   4.0        6.0                 -5.904954   \n",
       "                                                   6.0        8.0                 -6.386021   \n",
       "                                                   8.0        10.0                -6.960789   \n",
       "\n",
       "                                                                        Neodrepanis_coruscans  \\\n",
       "file                                               start_time end_time                          \n",
       "/mnt/class_data/group1_bioacoustics/sheila/cv4e... 0.0        2.0                   -5.833270   \n",
       "                                                   2.0        4.0                   -6.810523   \n",
       "                                                   4.0        6.0                   -5.630605   \n",
       "                                                   6.0        8.0                   -6.466018   \n",
       "                                                   8.0        10.0                  -7.242610   \n",
       "\n",
       "                                                                        Philepitta_castanea  \\\n",
       "file                                               start_time end_time                        \n",
       "/mnt/class_data/group1_bioacoustics/sheila/cv4e... 0.0        2.0                 -5.993404   \n",
       "                                                   2.0        4.0                 -6.957284   \n",
       "                                                   4.0        6.0                 -6.249947   \n",
       "                                                   6.0        8.0                 -6.770640   \n",
       "                                                   8.0        10.0                -6.708316   \n",
       "\n",
       "                                                                        Eulemur_sp  \\\n",
       "file                                               start_time end_time               \n",
       "/mnt/class_data/group1_bioacoustics/sheila/cv4e... 0.0        2.0        -4.983937   \n",
       "                                                   2.0        4.0        -6.104496   \n",
       "                                                   4.0        6.0        -4.927157   \n",
       "                                                   6.0        8.0        -5.489292   \n",
       "                                                   8.0        10.0       -5.967569   \n",
       "\n",
       "                                                                        Coua_cristata  \\\n",
       "file                                               start_time end_time                  \n",
       "/mnt/class_data/group1_bioacoustics/sheila/cv4e... 0.0        2.0           -6.943775   \n",
       "                                                   2.0        4.0           -8.927031   \n",
       "                                                   4.0        6.0           -7.005087   \n",
       "                                                   6.0        8.0           -7.704728   \n",
       "                                                   8.0        10.0          -8.411020   \n",
       "\n",
       "                                                                        Treron_australis  \n",
       "file                                               start_time end_time                    \n",
       "/mnt/class_data/group1_bioacoustics/sheila/cv4e... 0.0        2.0              -6.233856  \n",
       "                                                   2.0        4.0              -7.350574  \n",
       "                                                   4.0        6.0              -6.832255  \n",
       "                                                   6.0        8.0              -6.956725  \n",
       "                                                   8.0        10.0             -7.351762  "
      ]
     },
     "execution_count": 36,
     "metadata": {},
     "output_type": "execute_result"
    }
   ],
   "source": [
    "val_predictions = model.predict(val_labels,batch_size=64)\n",
    "val_predictions.head()"
   ]
  },
  {
   "cell_type": "code",
   "execution_count": 37,
   "metadata": {},
   "outputs": [],
   "source": [
    "import sklearn"
   ]
  },
  {
   "cell_type": "code",
   "execution_count": 39,
   "metadata": {},
   "outputs": [
    {
     "data": {
      "text/plain": [
       "0.8043082363133512"
      ]
     },
     "execution_count": 39,
     "metadata": {},
     "output_type": "execute_result"
    }
   ],
   "source": [
    "sklearn.metrics.average_precision_score(val_labels ['Hypsipetes_madagascariensis'],val_predictions ['Hypsipetes_madagascariensis'])\n"
   ]
  },
  {
   "cell_type": "code",
   "execution_count": 40,
   "metadata": {},
   "outputs": [
    {
     "name": "stderr",
     "output_type": "stream",
     "text": [
      "/home/Sheila/miniconda3/envs/rewild_cv4e/lib/python3.11/site-packages/sklearn/metrics/_ranking.py:1033: UserWarning: No positive class found in y_true, recall is set to one for all thresholds.\n",
      "  warnings.warn(\n",
      "/home/Sheila/miniconda3/envs/rewild_cv4e/lib/python3.11/site-packages/sklearn/metrics/_ranking.py:1033: UserWarning: No positive class found in y_true, recall is set to one for all thresholds.\n",
      "  warnings.warn(\n",
      "/home/Sheila/miniconda3/envs/rewild_cv4e/lib/python3.11/site-packages/sklearn/metrics/_ranking.py:1033: UserWarning: No positive class found in y_true, recall is set to one for all thresholds.\n",
      "  warnings.warn(\n"
     ]
    },
    {
     "data": {
      "text/plain": [
       "0.21192201310597927"
      ]
     },
     "execution_count": 40,
     "metadata": {},
     "output_type": "execute_result"
    }
   ],
   "source": [
    "sklearn.metrics.average_precision_score(val_labels,val_predictions)\n"
   ]
  },
  {
   "cell_type": "code",
   "execution_count": 41,
   "metadata": {},
   "outputs": [
    {
     "name": "stderr",
     "output_type": "stream",
     "text": [
      "/tmp/ipykernel_76123/2203258540.py:5: FutureWarning: The behavior of DataFrame concatenation with empty or all-NA entries is deprecated. In a future version, this will no longer exclude empty or all-NA columns when determining the result dtypes. To retain the old behavior, exclude the relevant entries before the concat operation.\n",
      "  avprecscore_by_sp = pd.concat([avprecscore_by_sp, new_row], ignore_index=True)\n",
      "/home/Sheila/miniconda3/envs/rewild_cv4e/lib/python3.11/site-packages/sklearn/metrics/_ranking.py:1033: UserWarning: No positive class found in y_true, recall is set to one for all thresholds.\n",
      "  warnings.warn(\n",
      "/home/Sheila/miniconda3/envs/rewild_cv4e/lib/python3.11/site-packages/sklearn/metrics/_ranking.py:1033: UserWarning: No positive class found in y_true, recall is set to one for all thresholds.\n",
      "  warnings.warn(\n",
      "/home/Sheila/miniconda3/envs/rewild_cv4e/lib/python3.11/site-packages/sklearn/metrics/_ranking.py:1033: UserWarning: No positive class found in y_true, recall is set to one for all thresholds.\n",
      "  warnings.warn(\n"
     ]
    },
    {
     "data": {
      "text/html": [
       "<div>\n",
       "<style scoped>\n",
       "    .dataframe tbody tr th:only-of-type {\n",
       "        vertical-align: middle;\n",
       "    }\n",
       "\n",
       "    .dataframe tbody tr th {\n",
       "        vertical-align: top;\n",
       "    }\n",
       "\n",
       "    .dataframe thead th {\n",
       "        text-align: right;\n",
       "    }\n",
       "</style>\n",
       "<table border=\"1\" class=\"dataframe\">\n",
       "  <thead>\n",
       "    <tr style=\"text-align: right;\">\n",
       "      <th></th>\n",
       "      <th>species</th>\n",
       "      <th>avg_precision_score</th>\n",
       "    </tr>\n",
       "  </thead>\n",
       "  <tbody>\n",
       "    <tr>\n",
       "      <th>0</th>\n",
       "      <td>Hypsipetes_madagascariensis</td>\n",
       "      <td>0.804308</td>\n",
       "    </tr>\n",
       "    <tr>\n",
       "      <th>1</th>\n",
       "      <td>Copsychus_albospecularis</td>\n",
       "      <td>0.618624</td>\n",
       "    </tr>\n",
       "    <tr>\n",
       "      <th>2</th>\n",
       "      <td>Coracopsis_nigra</td>\n",
       "      <td>0.704462</td>\n",
       "    </tr>\n",
       "    <tr>\n",
       "      <th>3</th>\n",
       "      <td>Dicrurus_forficatus</td>\n",
       "      <td>0.567798</td>\n",
       "    </tr>\n",
       "    <tr>\n",
       "      <th>4</th>\n",
       "      <td>Coua_caerulea</td>\n",
       "      <td>0.041078</td>\n",
       "    </tr>\n",
       "  </tbody>\n",
       "</table>\n",
       "</div>"
      ],
      "text/plain": [
       "                       species  avg_precision_score\n",
       "0  Hypsipetes_madagascariensis             0.804308\n",
       "1     Copsychus_albospecularis             0.618624\n",
       "2             Coracopsis_nigra             0.704462\n",
       "3          Dicrurus_forficatus             0.567798\n",
       "4                Coua_caerulea             0.041078"
      ]
     },
     "execution_count": 41,
     "metadata": {},
     "output_type": "execute_result"
    }
   ],
   "source": [
    "avprecscore_by_sp = pd.DataFrame(columns=['species', 'avg_precision_score'])\n",
    "for species in class_list:\n",
    "    avgscore = sklearn.metrics.average_precision_score(val_labels [species],val_predictions [species])\n",
    "    new_row = pd.DataFrame({'species': [species], 'avg_precision_score': [avgscore]})\n",
    "    avprecscore_by_sp = pd.concat([avprecscore_by_sp, new_row], ignore_index=True)\n",
    "\n",
    "avprecscore_by_sp.head()"
   ]
  },
  {
   "cell_type": "code",
   "execution_count": 42,
   "metadata": {},
   "outputs": [
    {
     "data": {
      "text/html": [
       "<div>\n",
       "<style scoped>\n",
       "    .dataframe tbody tr th:only-of-type {\n",
       "        vertical-align: middle;\n",
       "    }\n",
       "\n",
       "    .dataframe tbody tr th {\n",
       "        vertical-align: top;\n",
       "    }\n",
       "\n",
       "    .dataframe thead th {\n",
       "        text-align: right;\n",
       "    }\n",
       "</style>\n",
       "<table border=\"1\" class=\"dataframe\">\n",
       "  <thead>\n",
       "    <tr style=\"text-align: right;\">\n",
       "      <th></th>\n",
       "      <th>species</th>\n",
       "      <th>avg_precision_score</th>\n",
       "    </tr>\n",
       "  </thead>\n",
       "  <tbody>\n",
       "    <tr>\n",
       "      <th>0</th>\n",
       "      <td>Hypsipetes_madagascariensis</td>\n",
       "      <td>0.804308</td>\n",
       "    </tr>\n",
       "    <tr>\n",
       "      <th>1</th>\n",
       "      <td>Copsychus_albospecularis</td>\n",
       "      <td>0.618624</td>\n",
       "    </tr>\n",
       "    <tr>\n",
       "      <th>2</th>\n",
       "      <td>Coracopsis_nigra</td>\n",
       "      <td>0.704462</td>\n",
       "    </tr>\n",
       "    <tr>\n",
       "      <th>3</th>\n",
       "      <td>Dicrurus_forficatus</td>\n",
       "      <td>0.567798</td>\n",
       "    </tr>\n",
       "    <tr>\n",
       "      <th>4</th>\n",
       "      <td>Coua_caerulea</td>\n",
       "      <td>0.041078</td>\n",
       "    </tr>\n",
       "    <tr>\n",
       "      <th>5</th>\n",
       "      <td>Zosterops_maderaspatanus</td>\n",
       "      <td>0.535245</td>\n",
       "    </tr>\n",
       "    <tr>\n",
       "      <th>6</th>\n",
       "      <td>Eurystomus_glaucurus</td>\n",
       "      <td>0.184554</td>\n",
       "    </tr>\n",
       "    <tr>\n",
       "      <th>7</th>\n",
       "      <td>Agapornis_canus</td>\n",
       "      <td>0.008907</td>\n",
       "    </tr>\n",
       "    <tr>\n",
       "      <th>8</th>\n",
       "      <td>Saxicola_torquatus</td>\n",
       "      <td>0.198779</td>\n",
       "    </tr>\n",
       "    <tr>\n",
       "      <th>9</th>\n",
       "      <td>Cyanolanius_madagascarinus</td>\n",
       "      <td>0.005383</td>\n",
       "    </tr>\n",
       "    <tr>\n",
       "      <th>10</th>\n",
       "      <td>Leptopterus_chabert</td>\n",
       "      <td>0.082140</td>\n",
       "    </tr>\n",
       "    <tr>\n",
       "      <th>11</th>\n",
       "      <td>Nesoenas_picturatus</td>\n",
       "      <td>0.000000</td>\n",
       "    </tr>\n",
       "    <tr>\n",
       "      <th>12</th>\n",
       "      <td>Coua_reynaudii</td>\n",
       "      <td>0.000000</td>\n",
       "    </tr>\n",
       "    <tr>\n",
       "      <th>13</th>\n",
       "      <td>Ceblepyris_cinereus</td>\n",
       "      <td>0.003722</td>\n",
       "    </tr>\n",
       "    <tr>\n",
       "      <th>14</th>\n",
       "      <td>Neodrepanis_coruscans</td>\n",
       "      <td>0.207343</td>\n",
       "    </tr>\n",
       "    <tr>\n",
       "      <th>15</th>\n",
       "      <td>Philepitta_castanea</td>\n",
       "      <td>0.004973</td>\n",
       "    </tr>\n",
       "    <tr>\n",
       "      <th>16</th>\n",
       "      <td>Eulemur_sp</td>\n",
       "      <td>0.050000</td>\n",
       "    </tr>\n",
       "    <tr>\n",
       "      <th>17</th>\n",
       "      <td>Coua_cristata</td>\n",
       "      <td>0.000000</td>\n",
       "    </tr>\n",
       "    <tr>\n",
       "      <th>18</th>\n",
       "      <td>Treron_australis</td>\n",
       "      <td>0.009200</td>\n",
       "    </tr>\n",
       "  </tbody>\n",
       "</table>\n",
       "</div>"
      ],
      "text/plain": [
       "                        species  avg_precision_score\n",
       "0   Hypsipetes_madagascariensis             0.804308\n",
       "1      Copsychus_albospecularis             0.618624\n",
       "2              Coracopsis_nigra             0.704462\n",
       "3           Dicrurus_forficatus             0.567798\n",
       "4                 Coua_caerulea             0.041078\n",
       "5      Zosterops_maderaspatanus             0.535245\n",
       "6          Eurystomus_glaucurus             0.184554\n",
       "7               Agapornis_canus             0.008907\n",
       "8            Saxicola_torquatus             0.198779\n",
       "9    Cyanolanius_madagascarinus             0.005383\n",
       "10          Leptopterus_chabert             0.082140\n",
       "11          Nesoenas_picturatus             0.000000\n",
       "12               Coua_reynaudii             0.000000\n",
       "13          Ceblepyris_cinereus             0.003722\n",
       "14        Neodrepanis_coruscans             0.207343\n",
       "15          Philepitta_castanea             0.004973\n",
       "16                   Eulemur_sp             0.050000\n",
       "17                Coua_cristata             0.000000\n",
       "18             Treron_australis             0.009200"
      ]
     },
     "execution_count": 42,
     "metadata": {},
     "output_type": "execute_result"
    }
   ],
   "source": [
    "avprecscore_by_sp"
   ]
  },
  {
   "cell_type": "code",
   "execution_count": 43,
   "metadata": {},
   "outputs": [
    {
     "data": {
      "text/html": [
       "<div>\n",
       "<style scoped>\n",
       "    .dataframe tbody tr th:only-of-type {\n",
       "        vertical-align: middle;\n",
       "    }\n",
       "\n",
       "    .dataframe tbody tr th {\n",
       "        vertical-align: top;\n",
       "    }\n",
       "\n",
       "    .dataframe thead th {\n",
       "        text-align: right;\n",
       "    }\n",
       "</style>\n",
       "<table border=\"1\" class=\"dataframe\">\n",
       "  <thead>\n",
       "    <tr style=\"text-align: right;\">\n",
       "      <th></th>\n",
       "      <th>level_0</th>\n",
       "      <th>index</th>\n",
       "      <th>Unnamed: 0</th>\n",
       "      <th>Begin Time (s)</th>\n",
       "      <th>End Time (s)</th>\n",
       "      <th>Low Freq (Hz)</th>\n",
       "      <th>High Freq (Hz)</th>\n",
       "      <th>Species</th>\n",
       "      <th>Conf</th>\n",
       "      <th>Call_type</th>\n",
       "      <th>Filename</th>\n",
       "      <th>SiteHab</th>\n",
       "      <th>RecordingSched</th>\n",
       "      <th>RecorderName</th>\n",
       "      <th>DP</th>\n",
       "      <th>SoundFile</th>\n",
       "      <th>SoundFile_path</th>\n",
       "      <th>Split</th>\n",
       "      <th>Raven_path</th>\n",
       "    </tr>\n",
       "  </thead>\n",
       "  <tbody>\n",
       "    <tr>\n",
       "      <th>0</th>\n",
       "      <td>0</td>\n",
       "      <td>0</td>\n",
       "      <td>0</td>\n",
       "      <td>0.763354</td>\n",
       "      <td>3.078034</td>\n",
       "      <td>2854.369</td>\n",
       "      <td>5965.410</td>\n",
       "      <td>Philepitta_castanea</td>\n",
       "      <td>NaN</td>\n",
       "      <td>NaN</td>\n",
       "      <td>AGN_A-AGN04_20230429_054000.txt</td>\n",
       "      <td>AGN</td>\n",
       "      <td>A</td>\n",
       "      <td>AGN_A-AGN04</td>\n",
       "      <td>AGN04</td>\n",
       "      <td>AGN_A-AGN04_20230429_054000.WAV</td>\n",
       "      <td>/mnt/class_data/group1_bioacoustics/sheila/cv4...</td>\n",
       "      <td>validation</td>\n",
       "      <td>/mnt/class_data/group1_bioacoustics/sheila/Pro...</td>\n",
       "    </tr>\n",
       "    <tr>\n",
       "      <th>1</th>\n",
       "      <td>1</td>\n",
       "      <td>1</td>\n",
       "      <td>1</td>\n",
       "      <td>6.588949</td>\n",
       "      <td>9.475884</td>\n",
       "      <td>2571.297</td>\n",
       "      <td>5451.150</td>\n",
       "      <td>Philepitta_castanea</td>\n",
       "      <td>NaN</td>\n",
       "      <td>NaN</td>\n",
       "      <td>AGN_A-AGN04_20230429_054000.txt</td>\n",
       "      <td>AGN</td>\n",
       "      <td>A</td>\n",
       "      <td>AGN_A-AGN04</td>\n",
       "      <td>AGN04</td>\n",
       "      <td>AGN_A-AGN04_20230429_054000.WAV</td>\n",
       "      <td>/mnt/class_data/group1_bioacoustics/sheila/cv4...</td>\n",
       "      <td>validation</td>\n",
       "      <td>/mnt/class_data/group1_bioacoustics/sheila/Pro...</td>\n",
       "    </tr>\n",
       "    <tr>\n",
       "      <th>2</th>\n",
       "      <td>2</td>\n",
       "      <td>2</td>\n",
       "      <td>2</td>\n",
       "      <td>10.434780</td>\n",
       "      <td>12.523959</td>\n",
       "      <td>3085.557</td>\n",
       "      <td>5348.299</td>\n",
       "      <td>Philepitta_castanea</td>\n",
       "      <td>NaN</td>\n",
       "      <td>NaN</td>\n",
       "      <td>AGN_A-AGN04_20230429_054000.txt</td>\n",
       "      <td>AGN</td>\n",
       "      <td>A</td>\n",
       "      <td>AGN_A-AGN04</td>\n",
       "      <td>AGN04</td>\n",
       "      <td>AGN_A-AGN04_20230429_054000.WAV</td>\n",
       "      <td>/mnt/class_data/group1_bioacoustics/sheila/cv4...</td>\n",
       "      <td>validation</td>\n",
       "      <td>/mnt/class_data/group1_bioacoustics/sheila/Pro...</td>\n",
       "    </tr>\n",
       "    <tr>\n",
       "      <th>3</th>\n",
       "      <td>3</td>\n",
       "      <td>3</td>\n",
       "      <td>3</td>\n",
       "      <td>14.854197</td>\n",
       "      <td>15.436757</td>\n",
       "      <td>3085.557</td>\n",
       "      <td>5862.558</td>\n",
       "      <td>Philepitta_castanea</td>\n",
       "      <td>NaN</td>\n",
       "      <td>NaN</td>\n",
       "      <td>AGN_A-AGN04_20230429_054000.txt</td>\n",
       "      <td>AGN</td>\n",
       "      <td>A</td>\n",
       "      <td>AGN_A-AGN04</td>\n",
       "      <td>AGN04</td>\n",
       "      <td>AGN_A-AGN04_20230429_054000.WAV</td>\n",
       "      <td>/mnt/class_data/group1_bioacoustics/sheila/cv4...</td>\n",
       "      <td>validation</td>\n",
       "      <td>/mnt/class_data/group1_bioacoustics/sheila/Pro...</td>\n",
       "    </tr>\n",
       "    <tr>\n",
       "      <th>4</th>\n",
       "      <td>4</td>\n",
       "      <td>4</td>\n",
       "      <td>4</td>\n",
       "      <td>55.578030</td>\n",
       "      <td>59.479764</td>\n",
       "      <td>2621.359</td>\n",
       "      <td>5475.728</td>\n",
       "      <td>Philepitta_castanea</td>\n",
       "      <td>NaN</td>\n",
       "      <td>NaN</td>\n",
       "      <td>AGN_A-AGN04_20230429_054000.txt</td>\n",
       "      <td>AGN</td>\n",
       "      <td>A</td>\n",
       "      <td>AGN_A-AGN04</td>\n",
       "      <td>AGN04</td>\n",
       "      <td>AGN_A-AGN04_20230429_054000.WAV</td>\n",
       "      <td>/mnt/class_data/group1_bioacoustics/sheila/cv4...</td>\n",
       "      <td>validation</td>\n",
       "      <td>/mnt/class_data/group1_bioacoustics/sheila/Pro...</td>\n",
       "    </tr>\n",
       "  </tbody>\n",
       "</table>\n",
       "</div>"
      ],
      "text/plain": [
       "   level_0  index  Unnamed: 0  Begin Time (s)  End Time (s)  Low Freq (Hz)  \\\n",
       "0        0      0           0        0.763354      3.078034       2854.369   \n",
       "1        1      1           1        6.588949      9.475884       2571.297   \n",
       "2        2      2           2       10.434780     12.523959       3085.557   \n",
       "3        3      3           3       14.854197     15.436757       3085.557   \n",
       "4        4      4           4       55.578030     59.479764       2621.359   \n",
       "\n",
       "   High Freq (Hz)              Species  Conf Call_type  \\\n",
       "0        5965.410  Philepitta_castanea   NaN       NaN   \n",
       "1        5451.150  Philepitta_castanea   NaN       NaN   \n",
       "2        5348.299  Philepitta_castanea   NaN       NaN   \n",
       "3        5862.558  Philepitta_castanea   NaN       NaN   \n",
       "4        5475.728  Philepitta_castanea   NaN       NaN   \n",
       "\n",
       "                          Filename SiteHab RecordingSched RecorderName     DP  \\\n",
       "0  AGN_A-AGN04_20230429_054000.txt     AGN              A  AGN_A-AGN04  AGN04   \n",
       "1  AGN_A-AGN04_20230429_054000.txt     AGN              A  AGN_A-AGN04  AGN04   \n",
       "2  AGN_A-AGN04_20230429_054000.txt     AGN              A  AGN_A-AGN04  AGN04   \n",
       "3  AGN_A-AGN04_20230429_054000.txt     AGN              A  AGN_A-AGN04  AGN04   \n",
       "4  AGN_A-AGN04_20230429_054000.txt     AGN              A  AGN_A-AGN04  AGN04   \n",
       "\n",
       "                         SoundFile  \\\n",
       "0  AGN_A-AGN04_20230429_054000.WAV   \n",
       "1  AGN_A-AGN04_20230429_054000.WAV   \n",
       "2  AGN_A-AGN04_20230429_054000.WAV   \n",
       "3  AGN_A-AGN04_20230429_054000.WAV   \n",
       "4  AGN_A-AGN04_20230429_054000.WAV   \n",
       "\n",
       "                                      SoundFile_path       Split  \\\n",
       "0  /mnt/class_data/group1_bioacoustics/sheila/cv4...  validation   \n",
       "1  /mnt/class_data/group1_bioacoustics/sheila/cv4...  validation   \n",
       "2  /mnt/class_data/group1_bioacoustics/sheila/cv4...  validation   \n",
       "3  /mnt/class_data/group1_bioacoustics/sheila/cv4...  validation   \n",
       "4  /mnt/class_data/group1_bioacoustics/sheila/cv4...  validation   \n",
       "\n",
       "                                          Raven_path  \n",
       "0  /mnt/class_data/group1_bioacoustics/sheila/Pro...  \n",
       "1  /mnt/class_data/group1_bioacoustics/sheila/Pro...  \n",
       "2  /mnt/class_data/group1_bioacoustics/sheila/Pro...  \n",
       "3  /mnt/class_data/group1_bioacoustics/sheila/Pro...  \n",
       "4  /mnt/class_data/group1_bioacoustics/sheila/Pro...  "
      ]
     },
     "execution_count": 43,
     "metadata": {},
     "output_type": "execute_result"
    }
   ],
   "source": [
    "val_metadata.head()"
   ]
  },
  {
   "cell_type": "code",
   "execution_count": 45,
   "metadata": {},
   "outputs": [],
   "source": [
    "sp_instances_train = train_metadata['Species'].value_counts()"
   ]
  },
  {
   "cell_type": "code",
   "execution_count": 49,
   "metadata": {},
   "outputs": [
    {
     "data": {
      "text/plain": [
       "Species\n",
       "Hypsipetes_madagascariensis             2687\n",
       "Copsychus_albospecularis                 768\n",
       "Coracopsis_nigra                         391\n",
       "Dicrurus_forficatus                      357\n",
       "Coua_caerulea                            190\n",
       "Pteropus_rufus                           151\n",
       "Eurystomus_glaucurus                     148\n",
       "Zosterops_maderaspatanus                 134\n",
       "Agapornis_canus                           85\n",
       "Cyanolanius_madagascarinus                77\n",
       "Saxicola_torquatus                        62\n",
       "Nesoenas_picturatus                       47\n",
       "Leptopterus_chabert                       43\n",
       "Coua_reynaudii                            42\n",
       "Eulemur_sp                                33\n",
       "Ceblepyris_cinereus                       29\n",
       "Neodrepanis_coruscans                     22\n",
       "Philepitta_castanea                       14\n",
       "UNK_Pteropus_rufus                        10\n",
       "Corvus_albus                               6\n",
       "Coracopsis_vasa                            4\n",
       "Treron_australis                           4\n",
       "Artamella_viridis                          3\n",
       "Coua_cristata                              2\n",
       "Unk_Coracopsis_vasa_Centropus_toulou       1\n",
       "Name: count, dtype: int64"
      ]
     },
     "execution_count": 49,
     "metadata": {},
     "output_type": "execute_result"
    }
   ],
   "source": [
    "sp_instances_train"
   ]
  },
  {
   "cell_type": "code",
   "execution_count": 48,
   "metadata": {},
   "outputs": [
    {
     "ename": "TypeError",
     "evalue": "Series.rename() got an unexpected keyword argument 'columns'",
     "output_type": "error",
     "traceback": [
      "\u001b[0;31m---------------------------------------------------------------------------\u001b[0m",
      "\u001b[0;31mTypeError\u001b[0m                                 Traceback (most recent call last)",
      "Cell \u001b[0;32mIn[48], line 1\u001b[0m\n\u001b[0;32m----> 1\u001b[0m \u001b[43msp_instances_train\u001b[49m\u001b[38;5;241;43m.\u001b[39;49m\u001b[43mrename\u001b[49m\u001b[43m(\u001b[49m\u001b[43mcolumns\u001b[49m\u001b[43m \u001b[49m\u001b[38;5;241;43m=\u001b[39;49m\u001b[43m \u001b[49m\u001b[43m{\u001b[49m\u001b[38;5;124;43m'\u001b[39;49m\u001b[38;5;124;43mSpecies\u001b[39;49m\u001b[38;5;124;43m'\u001b[39;49m\u001b[43m:\u001b[49m\u001b[38;5;124;43m'\u001b[39;49m\u001b[38;5;124;43mspecies\u001b[39;49m\u001b[38;5;124;43m'\u001b[39;49m\u001b[43m}\u001b[49m\u001b[43m,\u001b[49m\u001b[43minplace\u001b[49m\u001b[38;5;241;43m=\u001b[39;49m\u001b[38;5;28;43;01mTrue\u001b[39;49;00m\u001b[43m)\u001b[49m\n",
      "\u001b[0;31mTypeError\u001b[0m: Series.rename() got an unexpected keyword argument 'columns'"
     ]
    }
   ],
   "source": [
    "sp_instances_train.rename(columns = {'Species':'species'},inplace=True)\n"
   ]
  },
  {
   "cell_type": "code",
   "execution_count": null,
   "metadata": {},
   "outputs": [],
   "source": [
    "avgprec_sp_instances = pd.merge(avprecscore_by_sp,sp_instances_train,how = 'left',on='species')\n",
    "avgprec_sp_instances.head()"
   ]
  },
  {
   "cell_type": "code",
   "execution_count": 51,
   "metadata": {},
   "outputs": [
    {
     "ename": "NameError",
     "evalue": "name 'AudioFileDataset' is not defined",
     "output_type": "error",
     "traceback": [
      "\u001b[0;31m---------------------------------------------------------------------------\u001b[0m",
      "\u001b[0;31mNameError\u001b[0m                                 Traceback (most recent call last)",
      "Cell \u001b[0;32mIn[51], line 4\u001b[0m\n\u001b[1;32m      1\u001b[0m \u001b[38;5;28;01mfrom\u001b[39;00m\u001b[38;5;250m \u001b[39m\u001b[38;5;21;01mopensoundscape\u001b[39;00m\u001b[38;5;21;01m.\u001b[39;00m\u001b[38;5;21;01mpreprocess\u001b[39;00m\u001b[38;5;21;01m.\u001b[39;00m\u001b[38;5;21;01mutils\u001b[39;00m\u001b[38;5;250m \u001b[39m\u001b[38;5;28;01mimport\u001b[39;00m show_tensor_grid\n\u001b[1;32m      3\u001b[0m \u001b[38;5;124;03m'''pre = SpectrogramPreprocessor(sample_duration=2.0)'''\u001b[39;00m\n\u001b[0;32m----> 4\u001b[0m dataset \u001b[38;5;241m=\u001b[39m \u001b[43mAudioFileDataset\u001b[49m(val_labels,model\u001b[38;5;241m.\u001b[39mpreprocessor)\n\u001b[1;32m      6\u001b[0m tensors \u001b[38;5;241m=\u001b[39m [dataset[i]\u001b[38;5;241m.\u001b[39mdata \u001b[38;5;28;01mfor\u001b[39;00m i \u001b[38;5;129;01min\u001b[39;00m \u001b[38;5;28mrange\u001b[39m(\u001b[38;5;241m9\u001b[39m)]\n\u001b[1;32m      7\u001b[0m sample_labels \u001b[38;5;241m=\u001b[39m [\u001b[38;5;28mlist\u001b[39m(dataset[i]\u001b[38;5;241m.\u001b[39mlabels[dataset[i]\u001b[38;5;241m.\u001b[39mlabels\u001b[38;5;241m>\u001b[39m\u001b[38;5;241m0\u001b[39m]\u001b[38;5;241m.\u001b[39mindex) \u001b[38;5;28;01mfor\u001b[39;00m i \u001b[38;5;129;01min\u001b[39;00m \u001b[38;5;28mrange\u001b[39m(\u001b[38;5;241m9\u001b[39m)]\n",
      "\u001b[0;31mNameError\u001b[0m: name 'AudioFileDataset' is not defined"
     ]
    }
   ],
   "source": [
    "from opensoundscape.preprocess.utils import show_tensor_grid\n",
    "\n",
    "'''pre = SpectrogramPreprocessor(sample_duration=2.0)'''\n",
    "dataset = AudioFileDataset(val_labels,model.preprocessor)\n",
    "\n",
    "tensors = [dataset[i].data for i in range(9)]\n",
    "sample_labels = [list(dataset[i].labels[dataset[i].labels>0].index) for i in range(9)]\n",
    "\n",
    "_ = show_tensor_grid(tensors,3,labels=sample_labels)"
   ]
  }
 ],
 "metadata": {
  "kernelspec": {
   "display_name": "rewild_cv4e",
   "language": "python",
   "name": "python3"
  },
  "language_info": {
   "codemirror_mode": {
    "name": "ipython",
    "version": 3
   },
   "file_extension": ".py",
   "mimetype": "text/x-python",
   "name": "python",
   "nbconvert_exporter": "python",
   "pygments_lexer": "ipython3",
   "version": "3.11.0"
  }
 },
 "nbformat": 4,
 "nbformat_minor": 2
}
