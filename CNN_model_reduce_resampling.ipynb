{
 "cells": [
  {
   "cell_type": "code",
   "execution_count": 1,
   "metadata": {},
   "outputs": [],
   "source": [
    "import pandas as pd\n",
    "from sklearn.model_selection import train_test_split\n",
    "from opensoundscape import BoxedAnnotations, CNN\n",
    "from opensoundscape import SpectrogramPreprocessor\n",
    "import opensoundscape"
   ]
  },
  {
   "cell_type": "code",
   "execution_count": 2,
   "metadata": {},
   "outputs": [],
   "source": [
    "#\n",
    "notebook_name = 'CNN_model_reduce_resampling.ipynb'\n",
    "#\n",
    "save_path= '/mnt/class_data/group1_bioacoustics/sheila/model_checkpoints/model_10_reduce_resampling'\n",
    "#\n",
    "current_script_path = '/home/Sheila/rewilding_madagascar/CNN_model_reduce_resampling.ipynb'\n",
    "#\n",
    "target_path = '/mnt/class_data/group1_bioacoustics/sheila/model_checkpoints/CNN_model_reduce_resampling.ipynb'\n",
    "#\n",
    "epochs = 30\n",
    "#\n",
    "log_interval=20\n",
    "#\n",
    "batch_size=256\n",
    "#\n",
    "n_samples_per_class = 1000\n",
    "#\n",
    "sample_duration=2\n",
    "#\n",
    "window_samples = 2048\n",
    "#\n",
    "min_f=0\n",
    "#\n",
    "max_f=9000\n",
    "#\n",
    "step_size = 10\n",
    "#\n",
    "gamma = 0.5\n",
    "#\n",
    "update_labels=True\n",
    "\n",
    "\n",
    "\n",
    "\n"
   ]
  },
  {
   "cell_type": "code",
   "execution_count": 3,
   "metadata": {},
   "outputs": [
    {
     "data": {
      "text/html": [
       "<div>\n",
       "<style scoped>\n",
       "    .dataframe tbody tr th:only-of-type {\n",
       "        vertical-align: middle;\n",
       "    }\n",
       "\n",
       "    .dataframe tbody tr th {\n",
       "        vertical-align: top;\n",
       "    }\n",
       "\n",
       "    .dataframe thead th {\n",
       "        text-align: right;\n",
       "    }\n",
       "</style>\n",
       "<table border=\"1\" class=\"dataframe\">\n",
       "  <thead>\n",
       "    <tr style=\"text-align: right;\">\n",
       "      <th></th>\n",
       "      <th></th>\n",
       "      <th></th>\n",
       "      <th>Hypsipetes_madagascariensis</th>\n",
       "      <th>Copsychus_albospecularis</th>\n",
       "      <th>Coracopsis_nigra</th>\n",
       "      <th>Dicrurus_forficatus</th>\n",
       "      <th>Coua_caerulea</th>\n",
       "      <th>Zosterops_maderaspatanus</th>\n",
       "      <th>Eurystomus_glaucurus</th>\n",
       "      <th>Agapornis_canus</th>\n",
       "      <th>Saxicola_torquatus</th>\n",
       "      <th>Cyanolanius_madagascarinus</th>\n",
       "      <th>Leptopterus_chabert</th>\n",
       "      <th>Nesoenas_picturatus</th>\n",
       "      <th>Coua_reynaudii</th>\n",
       "      <th>Ceblepyris_cinereus</th>\n",
       "      <th>Neodrepanis_coruscans</th>\n",
       "      <th>Philepitta_castanea</th>\n",
       "      <th>Eulemur_sp</th>\n",
       "      <th>Coua_cristata</th>\n",
       "      <th>Treron_australis</th>\n",
       "    </tr>\n",
       "    <tr>\n",
       "      <th>file</th>\n",
       "      <th>start_time</th>\n",
       "      <th>end_time</th>\n",
       "      <th></th>\n",
       "      <th></th>\n",
       "      <th></th>\n",
       "      <th></th>\n",
       "      <th></th>\n",
       "      <th></th>\n",
       "      <th></th>\n",
       "      <th></th>\n",
       "      <th></th>\n",
       "      <th></th>\n",
       "      <th></th>\n",
       "      <th></th>\n",
       "      <th></th>\n",
       "      <th></th>\n",
       "      <th></th>\n",
       "      <th></th>\n",
       "      <th></th>\n",
       "      <th></th>\n",
       "      <th></th>\n",
       "    </tr>\n",
       "  </thead>\n",
       "  <tbody>\n",
       "    <tr>\n",
       "      <th rowspan=\"5\" valign=\"top\">/mnt/class_data/group1_bioacoustics/sheila/cv4e_dataset/train/Marojejy/AGN_A/AGN_A-AGN08/AGN_A-AGN08_20230421_084000.WAV</th>\n",
       "      <th>0.0</th>\n",
       "      <th>2.0</th>\n",
       "      <td>False</td>\n",
       "      <td>False</td>\n",
       "      <td>False</td>\n",
       "      <td>False</td>\n",
       "      <td>False</td>\n",
       "      <td>False</td>\n",
       "      <td>False</td>\n",
       "      <td>False</td>\n",
       "      <td>False</td>\n",
       "      <td>False</td>\n",
       "      <td>False</td>\n",
       "      <td>False</td>\n",
       "      <td>False</td>\n",
       "      <td>False</td>\n",
       "      <td>False</td>\n",
       "      <td>False</td>\n",
       "      <td>False</td>\n",
       "      <td>False</td>\n",
       "      <td>False</td>\n",
       "    </tr>\n",
       "    <tr>\n",
       "      <th>2.0</th>\n",
       "      <th>4.0</th>\n",
       "      <td>False</td>\n",
       "      <td>False</td>\n",
       "      <td>False</td>\n",
       "      <td>False</td>\n",
       "      <td>False</td>\n",
       "      <td>False</td>\n",
       "      <td>False</td>\n",
       "      <td>False</td>\n",
       "      <td>False</td>\n",
       "      <td>False</td>\n",
       "      <td>False</td>\n",
       "      <td>False</td>\n",
       "      <td>False</td>\n",
       "      <td>False</td>\n",
       "      <td>False</td>\n",
       "      <td>False</td>\n",
       "      <td>False</td>\n",
       "      <td>False</td>\n",
       "      <td>False</td>\n",
       "    </tr>\n",
       "    <tr>\n",
       "      <th>4.0</th>\n",
       "      <th>6.0</th>\n",
       "      <td>False</td>\n",
       "      <td>False</td>\n",
       "      <td>False</td>\n",
       "      <td>False</td>\n",
       "      <td>False</td>\n",
       "      <td>False</td>\n",
       "      <td>False</td>\n",
       "      <td>False</td>\n",
       "      <td>False</td>\n",
       "      <td>False</td>\n",
       "      <td>False</td>\n",
       "      <td>False</td>\n",
       "      <td>False</td>\n",
       "      <td>False</td>\n",
       "      <td>False</td>\n",
       "      <td>False</td>\n",
       "      <td>False</td>\n",
       "      <td>False</td>\n",
       "      <td>False</td>\n",
       "    </tr>\n",
       "    <tr>\n",
       "      <th>6.0</th>\n",
       "      <th>8.0</th>\n",
       "      <td>False</td>\n",
       "      <td>False</td>\n",
       "      <td>False</td>\n",
       "      <td>False</td>\n",
       "      <td>False</td>\n",
       "      <td>False</td>\n",
       "      <td>False</td>\n",
       "      <td>False</td>\n",
       "      <td>False</td>\n",
       "      <td>False</td>\n",
       "      <td>False</td>\n",
       "      <td>False</td>\n",
       "      <td>False</td>\n",
       "      <td>False</td>\n",
       "      <td>False</td>\n",
       "      <td>False</td>\n",
       "      <td>False</td>\n",
       "      <td>False</td>\n",
       "      <td>False</td>\n",
       "    </tr>\n",
       "    <tr>\n",
       "      <th>8.0</th>\n",
       "      <th>10.0</th>\n",
       "      <td>False</td>\n",
       "      <td>False</td>\n",
       "      <td>False</td>\n",
       "      <td>False</td>\n",
       "      <td>False</td>\n",
       "      <td>False</td>\n",
       "      <td>False</td>\n",
       "      <td>False</td>\n",
       "      <td>False</td>\n",
       "      <td>False</td>\n",
       "      <td>False</td>\n",
       "      <td>False</td>\n",
       "      <td>False</td>\n",
       "      <td>False</td>\n",
       "      <td>False</td>\n",
       "      <td>False</td>\n",
       "      <td>False</td>\n",
       "      <td>False</td>\n",
       "      <td>False</td>\n",
       "    </tr>\n",
       "  </tbody>\n",
       "</table>\n",
       "</div>"
      ],
      "text/plain": [
       "                                                                        Hypsipetes_madagascariensis  \\\n",
       "file                                               start_time end_time                                \n",
       "/mnt/class_data/group1_bioacoustics/sheila/cv4e... 0.0        2.0                             False   \n",
       "                                                   2.0        4.0                             False   \n",
       "                                                   4.0        6.0                             False   \n",
       "                                                   6.0        8.0                             False   \n",
       "                                                   8.0        10.0                            False   \n",
       "\n",
       "                                                                        Copsychus_albospecularis  \\\n",
       "file                                               start_time end_time                             \n",
       "/mnt/class_data/group1_bioacoustics/sheila/cv4e... 0.0        2.0                          False   \n",
       "                                                   2.0        4.0                          False   \n",
       "                                                   4.0        6.0                          False   \n",
       "                                                   6.0        8.0                          False   \n",
       "                                                   8.0        10.0                         False   \n",
       "\n",
       "                                                                        Coracopsis_nigra  \\\n",
       "file                                               start_time end_time                     \n",
       "/mnt/class_data/group1_bioacoustics/sheila/cv4e... 0.0        2.0                  False   \n",
       "                                                   2.0        4.0                  False   \n",
       "                                                   4.0        6.0                  False   \n",
       "                                                   6.0        8.0                  False   \n",
       "                                                   8.0        10.0                 False   \n",
       "\n",
       "                                                                        Dicrurus_forficatus  \\\n",
       "file                                               start_time end_time                        \n",
       "/mnt/class_data/group1_bioacoustics/sheila/cv4e... 0.0        2.0                     False   \n",
       "                                                   2.0        4.0                     False   \n",
       "                                                   4.0        6.0                     False   \n",
       "                                                   6.0        8.0                     False   \n",
       "                                                   8.0        10.0                    False   \n",
       "\n",
       "                                                                        Coua_caerulea  \\\n",
       "file                                               start_time end_time                  \n",
       "/mnt/class_data/group1_bioacoustics/sheila/cv4e... 0.0        2.0               False   \n",
       "                                                   2.0        4.0               False   \n",
       "                                                   4.0        6.0               False   \n",
       "                                                   6.0        8.0               False   \n",
       "                                                   8.0        10.0              False   \n",
       "\n",
       "                                                                        Zosterops_maderaspatanus  \\\n",
       "file                                               start_time end_time                             \n",
       "/mnt/class_data/group1_bioacoustics/sheila/cv4e... 0.0        2.0                          False   \n",
       "                                                   2.0        4.0                          False   \n",
       "                                                   4.0        6.0                          False   \n",
       "                                                   6.0        8.0                          False   \n",
       "                                                   8.0        10.0                         False   \n",
       "\n",
       "                                                                        Eurystomus_glaucurus  \\\n",
       "file                                               start_time end_time                         \n",
       "/mnt/class_data/group1_bioacoustics/sheila/cv4e... 0.0        2.0                      False   \n",
       "                                                   2.0        4.0                      False   \n",
       "                                                   4.0        6.0                      False   \n",
       "                                                   6.0        8.0                      False   \n",
       "                                                   8.0        10.0                     False   \n",
       "\n",
       "                                                                        Agapornis_canus  \\\n",
       "file                                               start_time end_time                    \n",
       "/mnt/class_data/group1_bioacoustics/sheila/cv4e... 0.0        2.0                 False   \n",
       "                                                   2.0        4.0                 False   \n",
       "                                                   4.0        6.0                 False   \n",
       "                                                   6.0        8.0                 False   \n",
       "                                                   8.0        10.0                False   \n",
       "\n",
       "                                                                        Saxicola_torquatus  \\\n",
       "file                                               start_time end_time                       \n",
       "/mnt/class_data/group1_bioacoustics/sheila/cv4e... 0.0        2.0                    False   \n",
       "                                                   2.0        4.0                    False   \n",
       "                                                   4.0        6.0                    False   \n",
       "                                                   6.0        8.0                    False   \n",
       "                                                   8.0        10.0                   False   \n",
       "\n",
       "                                                                        Cyanolanius_madagascarinus  \\\n",
       "file                                               start_time end_time                               \n",
       "/mnt/class_data/group1_bioacoustics/sheila/cv4e... 0.0        2.0                            False   \n",
       "                                                   2.0        4.0                            False   \n",
       "                                                   4.0        6.0                            False   \n",
       "                                                   6.0        8.0                            False   \n",
       "                                                   8.0        10.0                           False   \n",
       "\n",
       "                                                                        Leptopterus_chabert  \\\n",
       "file                                               start_time end_time                        \n",
       "/mnt/class_data/group1_bioacoustics/sheila/cv4e... 0.0        2.0                     False   \n",
       "                                                   2.0        4.0                     False   \n",
       "                                                   4.0        6.0                     False   \n",
       "                                                   6.0        8.0                     False   \n",
       "                                                   8.0        10.0                    False   \n",
       "\n",
       "                                                                        Nesoenas_picturatus  \\\n",
       "file                                               start_time end_time                        \n",
       "/mnt/class_data/group1_bioacoustics/sheila/cv4e... 0.0        2.0                     False   \n",
       "                                                   2.0        4.0                     False   \n",
       "                                                   4.0        6.0                     False   \n",
       "                                                   6.0        8.0                     False   \n",
       "                                                   8.0        10.0                    False   \n",
       "\n",
       "                                                                        Coua_reynaudii  \\\n",
       "file                                               start_time end_time                   \n",
       "/mnt/class_data/group1_bioacoustics/sheila/cv4e... 0.0        2.0                False   \n",
       "                                                   2.0        4.0                False   \n",
       "                                                   4.0        6.0                False   \n",
       "                                                   6.0        8.0                False   \n",
       "                                                   8.0        10.0               False   \n",
       "\n",
       "                                                                        Ceblepyris_cinereus  \\\n",
       "file                                               start_time end_time                        \n",
       "/mnt/class_data/group1_bioacoustics/sheila/cv4e... 0.0        2.0                     False   \n",
       "                                                   2.0        4.0                     False   \n",
       "                                                   4.0        6.0                     False   \n",
       "                                                   6.0        8.0                     False   \n",
       "                                                   8.0        10.0                    False   \n",
       "\n",
       "                                                                        Neodrepanis_coruscans  \\\n",
       "file                                               start_time end_time                          \n",
       "/mnt/class_data/group1_bioacoustics/sheila/cv4e... 0.0        2.0                       False   \n",
       "                                                   2.0        4.0                       False   \n",
       "                                                   4.0        6.0                       False   \n",
       "                                                   6.0        8.0                       False   \n",
       "                                                   8.0        10.0                      False   \n",
       "\n",
       "                                                                        Philepitta_castanea  \\\n",
       "file                                               start_time end_time                        \n",
       "/mnt/class_data/group1_bioacoustics/sheila/cv4e... 0.0        2.0                     False   \n",
       "                                                   2.0        4.0                     False   \n",
       "                                                   4.0        6.0                     False   \n",
       "                                                   6.0        8.0                     False   \n",
       "                                                   8.0        10.0                    False   \n",
       "\n",
       "                                                                        Eulemur_sp  \\\n",
       "file                                               start_time end_time               \n",
       "/mnt/class_data/group1_bioacoustics/sheila/cv4e... 0.0        2.0            False   \n",
       "                                                   2.0        4.0            False   \n",
       "                                                   4.0        6.0            False   \n",
       "                                                   6.0        8.0            False   \n",
       "                                                   8.0        10.0           False   \n",
       "\n",
       "                                                                        Coua_cristata  \\\n",
       "file                                               start_time end_time                  \n",
       "/mnt/class_data/group1_bioacoustics/sheila/cv4e... 0.0        2.0               False   \n",
       "                                                   2.0        4.0               False   \n",
       "                                                   4.0        6.0               False   \n",
       "                                                   6.0        8.0               False   \n",
       "                                                   8.0        10.0              False   \n",
       "\n",
       "                                                                        Treron_australis  \n",
       "file                                               start_time end_time                    \n",
       "/mnt/class_data/group1_bioacoustics/sheila/cv4e... 0.0        2.0                  False  \n",
       "                                                   2.0        4.0                  False  \n",
       "                                                   4.0        6.0                  False  \n",
       "                                                   6.0        8.0                  False  \n",
       "                                                   8.0        10.0                 False  "
      ]
     },
     "execution_count": 3,
     "metadata": {},
     "output_type": "execute_result"
    }
   ],
   "source": [
    "#import labels from csv\n",
    "train_labels = pd.read_csv('data/train_labels.csv',index_col=['file', 'start_time', 'end_time'])\n",
    "val_labels = pd.read_csv('data/val_labels.csv',index_col=['file', 'start_time', 'end_time'])\n",
    "test_labels = pd.read_csv('data/test_labels.csv',index_col=['file', 'start_time', 'end_time'])\n",
    "train_labels.head()\n"
   ]
  },
  {
   "cell_type": "code",
   "execution_count": 4,
   "metadata": {},
   "outputs": [
    {
     "data": {
      "text/plain": [
       "array([ True,  True,  True,  True,  True,  True,  True,  True,  True,\n",
       "        True,  True,  True,  True,  True,  True,  True,  True,  True,\n",
       "        True])"
      ]
     },
     "execution_count": 4,
     "metadata": {},
     "output_type": "execute_result"
    }
   ],
   "source": [
    "# pick classes to train the model on. These should occur in the annotated data\n",
    "class_list = ['Hypsipetes_madagascariensis','Copsychus_albospecularis','Coracopsis_nigra','Dicrurus_forficatus','Coua_caerulea','Zosterops_maderaspatanus','Eurystomus_glaucurus','Agapornis_canus','Saxicola_torquatus','Cyanolanius_madagascarinus','Leptopterus_chabert','Nesoenas_picturatus','Coua_reynaudii','Ceblepyris_cinereus','Neodrepanis_coruscans','Philepitta_castanea','Eulemur_sp','Coua_cristata','Treron_australis']\n",
    "\n",
    "class_list==train_labels.columns.values\n"
   ]
  },
  {
   "cell_type": "code",
   "execution_count": 5,
   "metadata": {},
   "outputs": [],
   "source": [
    "train_labels_resampled = opensoundscape.data_selection.resample(train_labels,n_samples_per_class = n_samples_per_class, downsample = False,upsample = True)"
   ]
  },
  {
   "cell_type": "code",
   "execution_count": 6,
   "metadata": {},
   "outputs": [
    {
     "name": "stderr",
     "output_type": "stream",
     "text": [
      "\u001b[34m\u001b[1mwandb\u001b[0m: Currently logged in as: \u001b[33msheila-holmes\u001b[0m (\u001b[33msheila-holmes-swedish-university-of-agricultural-sciences\u001b[0m). Use \u001b[1m`wandb login --relogin`\u001b[0m to force relogin\n",
      "\u001b[34m\u001b[1mwandb\u001b[0m: Using wandb-core as the SDK backend.  Please refer to https://wandb.me/wandb-core for more information.\n"
     ]
    },
    {
     "data": {
      "text/html": [
       "Tracking run with wandb version 0.19.4"
      ],
      "text/plain": [
       "<IPython.core.display.HTML object>"
      ]
     },
     "metadata": {},
     "output_type": "display_data"
    },
    {
     "data": {
      "text/html": [
       "Run data is saved locally in <code>/home/Sheila/rewilding_madagascar/wandb/run-20250122_003102-fhmj193n</code>"
      ],
      "text/plain": [
       "<IPython.core.display.HTML object>"
      ]
     },
     "metadata": {},
     "output_type": "display_data"
    },
    {
     "data": {
      "text/html": [
       "Syncing run <strong><a href='https://wandb.ai/sheila-holmes-swedish-university-of-agricultural-sciences/Rewilding_Madagascar/runs/fhmj193n' target=\"_blank\">fearless-sunset-35</a></strong> to <a href='https://wandb.ai/sheila-holmes-swedish-university-of-agricultural-sciences/Rewilding_Madagascar' target=\"_blank\">Weights & Biases</a> (<a href='https://wandb.me/developer-guide' target=\"_blank\">docs</a>)<br>"
      ],
      "text/plain": [
       "<IPython.core.display.HTML object>"
      ]
     },
     "metadata": {},
     "output_type": "display_data"
    },
    {
     "data": {
      "text/html": [
       " View project at <a href='https://wandb.ai/sheila-holmes-swedish-university-of-agricultural-sciences/Rewilding_Madagascar' target=\"_blank\">https://wandb.ai/sheila-holmes-swedish-university-of-agricultural-sciences/Rewilding_Madagascar</a>"
      ],
      "text/plain": [
       "<IPython.core.display.HTML object>"
      ]
     },
     "metadata": {},
     "output_type": "display_data"
    },
    {
     "data": {
      "text/html": [
       " View run at <a href='https://wandb.ai/sheila-holmes-swedish-university-of-agricultural-sciences/Rewilding_Madagascar/runs/fhmj193n' target=\"_blank\">https://wandb.ai/sheila-holmes-swedish-university-of-agricultural-sciences/Rewilding_Madagascar/runs/fhmj193n</a>"
      ],
      "text/plain": [
       "<IPython.core.display.HTML object>"
      ]
     },
     "metadata": {},
     "output_type": "display_data"
    },
    {
     "name": "stderr",
     "output_type": "stream",
     "text": [
      "\u001b[34m\u001b[1mwandb\u001b[0m: \u001b[33mWARNING\u001b[0m Fatal error while uploading data. Some run data will not be synced, but it will still be written to disk. Use `wandb sync` at the end of the run to try uploading.\n"
     ]
    }
   ],
   "source": [
    "import wandb\n",
    "'''wandb.login()'''#when logging in on a new machine\n",
    "wandb_session = wandb.init(\n",
    "    project='Rewilding_Madagascar',\n",
    ")"
   ]
  },
  {
   "cell_type": "code",
   "execution_count": null,
   "metadata": {},
   "outputs": [],
   "source": [
    "#create new model and change parameters then visualize\n",
    "# create a CNN and train on the labeled data\n",
    "model = CNN(architecture='resnet18', sample_duration=sample_duration, classes=class_list)\n"
   ]
  },
  {
   "cell_type": "code",
   "execution_count": null,
   "metadata": {},
   "outputs": [],
   "source": [
    "'''#Include a step in my preprocessing that does the overlay - it will pick a sample from overlay df and combine with sample currently pre-processing'''\n",
    "my_preprocessor = SpectrogramPreprocessor(sample_duration = sample_duration, overlay_df=train_labels)\n",
    "model.preprocessor = my_preprocessor"
   ]
  },
  {
   "cell_type": "code",
   "execution_count": null,
   "metadata": {},
   "outputs": [],
   "source": [
    "\n",
    "#changes learning rate over time\n",
    "#default is wait a certain number of epochs and then multiply by x (step learning)\n",
    "model.lr_scheduler_params['kwargs']['step_size'] = step_size\n",
    "model.lr_scheduler_params['kwargs']['gamma'] = gamma"
   ]
  },
  {
   "cell_type": "code",
   "execution_count": null,
   "metadata": {},
   "outputs": [],
   "source": [
    "model.preprocessor.pipeline.overlay.set(update_labels=update_labels)\n",
    "model.preprocessor.pipeline.bandpass.set(min_f=min_f,max_f=max_f)\n",
    "model.preprocessor.pipeline.to_spec.params.window_samples = window_samples\n",
    "model.train(train_labels_resampled, val_labels, epochs=epochs, log_interval=log_interval, num_workers=8, batch_size=batch_size, wandb_session = wandb_session, save_path= save_path)\n",
    "wandb_session.finish()"
   ]
  },
  {
   "cell_type": "code",
   "execution_count": null,
   "metadata": {},
   "outputs": [
    {
     "name": "stdout",
     "output_type": "stream",
     "text": [
      "Notebook copied successfully to /mnt/class_data/group1_bioacoustics/sheila/model_checkpoints/CNN_model_overlay.ipynb\n"
     ]
    }
   ],
   "source": [
    "import shutil\n",
    "import os\n",
    "\n",
    "# Use shutil.copyfile to copy the notebook\n",
    "try:\n",
    "    shutil.copyfile(current_script_path, target_path)\n",
    "    print(f\"Notebook copied successfully to {target_path}\")\n",
    "except Exception as e:\n",
    "    print(f\"An error occurred while copying the file: {e}\")\n",
    "\n"
   ]
  }
 ],
 "metadata": {
  "kernelspec": {
   "display_name": "rewilding_cv4e",
   "language": "python",
   "name": "python3"
  },
  "language_info": {
   "codemirror_mode": {
    "name": "ipython",
    "version": 3
   },
   "file_extension": ".py",
   "mimetype": "text/x-python",
   "name": "python",
   "nbconvert_exporter": "python",
   "pygments_lexer": "ipython3",
   "version": "3.10.16"
  }
 },
 "nbformat": 4,
 "nbformat_minor": 2
}
